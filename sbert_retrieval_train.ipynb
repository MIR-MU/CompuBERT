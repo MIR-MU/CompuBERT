{
 "cells": [
  {
   "cell_type": "code",
   "execution_count": 1,
   "metadata": {},
   "outputs": [],
   "source": [
    "from ARQMathCode.post_reader_record import DataReaderRecord\n",
    "from scipy.stats import zscore\n",
    "from sentence_transformers import SentencesDataset, SentenceTransformer, losses\n",
    "import torch\n",
    "from torch.utils.data import DataLoader\n",
    "\n",
    "from sentence_transformers.evaluation import EmbeddingSimilarityEvaluator\n",
    "from sentence_transformers.readers import InputExample"
   ]
  },
  {
   "cell_type": "code",
   "execution_count": 2,
   "metadata": {},
   "outputs": [
    {
     "name": "stdout",
     "output_type": "stream",
     "text": [
      "reading users\n",
      "reading comments\n",
      "reading votes\n",
      "reading post links\n",
      "reading posts\n"
     ]
    }
   ],
   "source": [
    "clef_home_directory_file_path = '/home/xstefan3/arqmath/data/Collection'\n",
    "dr = DataReaderRecord(clef_home_directory_file_path)"
   ]
  },
  {
   "cell_type": "code",
   "execution_count": 27,
   "metadata": {},
   "outputs": [
    {
     "data": {
      "text/plain": [
       "18"
      ]
     },
     "execution_count": 27,
     "metadata": {},
     "output_type": "execute_result"
    }
   ],
   "source": [
    "dr.post_parser.map_questions[1].answers[1].votes.__len__()"
   ]
  },
  {
   "cell_type": "code",
   "execution_count": 43,
   "metadata": {},
   "outputs": [],
   "source": [
    "def upvotes_to_distance(all_q_votes):\n",
    "    if len(all_q_votes) < 2:\n",
    "        return [1.0] if all_q_votes[0] > 0 else [0.0]\n",
    "    z_vals = zscore(all_q_votes)\n",
    "#     z_vals_inv = (-1)*z_vals\n",
    "    z_vals_norm = (z_vals - z_vals.min()) / (z_vals.max() - z_vals.min())\n",
    "    return z_vals_norm\n",
    "\n",
    "\n",
    "def examples_from_questions(questions):\n",
    "    for q_i, q in questions.items():\n",
    "        if q_i % 10000 == 0:\n",
    "            print(\"Loading %s\" % q_i)\n",
    "        if q.answers is None:\n",
    "            continue\n",
    "        all_q_upvotes = [a.score for a in q.answers]\n",
    "        all_q_dists = upvotes_to_distance(all_q_upvotes)\n",
    "\n",
    "        for a_i, a in enumerate(q.answers):\n",
    "            yield InputExample(\"%s_%s\" % (q_i, a_i), [q.body, a.body], all_q_dists[a_i])\n"
   ]
  },
  {
   "cell_type": "code",
   "execution_count": 44,
   "metadata": {
    "scrolled": true
   },
   "outputs": [
    {
     "name": "stdout",
     "output_type": "stream",
     "text": [
      "Loading 20000\n",
      "Loading 60000\n",
      "Loading 110000\n",
      "Loading 120000\n",
      "Loading 140000\n",
      "Loading 160000\n",
      "Loading 190000\n",
      "Loading 200000\n",
      "Loading 280000\n",
      "Loading 320000\n",
      "Loading 370000\n",
      "Loading 390000\n",
      "Loading 430000\n",
      "Loading 440000\n",
      "Loading 450000\n",
      "Loading 460000\n",
      "Loading 470000\n",
      "Loading 500000\n",
      "Loading 570000\n",
      "Loading 640000\n",
      "Loading 670000\n",
      "Loading 690000\n",
      "Loading 700000\n",
      "Loading 710000\n",
      "Loading 740000\n",
      "Loading 790000\n",
      "Loading 830000\n",
      "Loading 850000\n",
      "Loading 930000\n",
      "Loading 950000\n",
      "Loading 1040000\n",
      "Loading 1050000\n",
      "Loading 1080000\n",
      "Loading 1090000\n",
      "Loading 1100000\n",
      "Loading 1130000\n",
      "Loading 1180000\n",
      "Loading 1220000\n",
      "Loading 1230000\n",
      "Loading 1250000\n",
      "Loading 1270000\n",
      "Loading 1280000\n",
      "Loading 1330000\n",
      "Loading 1370000\n",
      "Loading 1390000\n",
      "Loading 1400000\n",
      "Loading 1480000\n",
      "Loading 1550000\n",
      "Loading 1600000\n",
      "Loading 1620000\n",
      "Loading 1640000\n",
      "Loading 1650000\n",
      "Loading 1670000\n",
      "Loading 1710000\n",
      "Loading 1730000\n",
      "Loading 1760000\n",
      "Loading 1890000\n",
      "Loading 1900000\n",
      "Loading 1930000\n",
      "Loading 1940000\n",
      "Loading 1950000\n",
      "Loading 1980000\n",
      "Loading 2040000\n",
      "Loading 2050000\n",
      "Loading 2070000\n",
      "Loading 2080000\n",
      "Loading 2100000\n",
      "Loading 2120000\n",
      "Loading 2160000\n",
      "Loading 2180000\n",
      "Loading 2230000\n",
      "Loading 2240000\n",
      "Loading 2280000\n",
      "Loading 2310000\n",
      "Loading 2320000\n",
      "Loading 2390000\n",
      "Loading 2470000\n",
      "Loading 2480000\n",
      "Loading 2500000\n",
      "Loading 2510000\n",
      "Loading 2520000\n",
      "Loading 2530000\n",
      "Loading 2550000\n",
      "Loading 2560000\n",
      "Loading 2570000\n",
      "Loading 2620000\n",
      "Loading 2640000\n",
      "Loading 2650000\n",
      "Loading 2670000\n",
      "Loading 2680000\n",
      "Loading 2700000\n",
      "Loading 2720000\n",
      "Loading 2750000\n",
      "Loading 2810000\n",
      "Loading 2830000\n",
      "Loading 2850000\n",
      "Loading 2860000\n",
      "Loading 2870000\n",
      "Loading 2880000\n",
      "Loading 2930000\n",
      "Loading 2950000\n",
      "Loading 3000000\n",
      "Loading 3020000\n",
      "Loading 3040000\n"
     ]
    }
   ],
   "source": [
    "examples_len = len(dr.post_parser.map_questions)\n",
    "\n",
    "train_dev_test_split = (int(0.05*examples_len), int(0.1*examples_len))\n",
    "\n",
    "all_examples = list(examples_from_questions(dr.post_parser.map_questions))"
   ]
  },
  {
   "cell_type": "code",
   "execution_count": 45,
   "metadata": {},
   "outputs": [
    {
     "name": "stdout",
     "output_type": "stream",
     "text": [
      "Logs go to file train.log\n"
     ]
    }
   ],
   "source": [
    "model = SentenceTransformer('bert-base-wikipedia-sections-mean-tokens', logfile=\"train.log\")"
   ]
  },
  {
   "cell_type": "code",
   "execution_count": 46,
   "metadata": {
    "scrolled": true
   },
   "outputs": [
    {
     "name": "stderr",
     "output_type": "stream",
     "text": [
      "\n",
      "\n",
      "Convert dataset:   0%|          | 0/20000 [00:00<?, ?it/s]\u001b[A\u001b[A\n",
      "\n",
      "Convert dataset:   0%|          | 34/20000 [00:00<00:59, 332.99it/s]\u001b[A\u001b[A\n",
      "\n",
      "Convert dataset:   0%|          | 61/20000 [00:00<01:04, 307.76it/s]\u001b[A\u001b[A\n",
      "\n",
      "Convert dataset:   0%|          | 83/20000 [00:00<01:17, 257.96it/s]\u001b[A\u001b[A\n",
      "\n",
      "Convert dataset:   0%|          | 100/20000 [00:00<01:29, 221.18it/s]\u001b[A\u001b[A\n",
      "\n",
      "Convert dataset:   1%|          | 131/20000 [00:00<01:23, 238.86it/s]\u001b[A\u001b[A\n",
      "\n",
      "Convert dataset:   1%|          | 163/20000 [00:00<01:17, 257.27it/s]\u001b[A\u001b[A\n",
      "\n",
      "Convert dataset:   1%|          | 206/20000 [00:00<01:07, 292.24it/s]\u001b[A\u001b[A\n",
      "\n",
      "Convert dataset:   1%|          | 236/20000 [00:00<01:12, 270.84it/s]\u001b[A\u001b[A\n",
      "\n",
      "Convert dataset:   1%|▏         | 264/20000 [00:00<01:13, 267.35it/s]\u001b[A\u001b[A\n",
      "\n",
      "Convert dataset:   1%|▏         | 293/20000 [00:01<01:12, 271.39it/s]\u001b[A\u001b[A\n",
      "\n",
      "Convert dataset:   2%|▏         | 321/20000 [00:01<01:20, 244.14it/s]\u001b[A\u001b[A\n",
      "\n",
      "Convert dataset:   2%|▏         | 347/20000 [00:01<01:34, 208.91it/s]\u001b[A\u001b[A\n",
      "\n",
      "Convert dataset:   2%|▏         | 370/20000 [00:01<01:31, 213.45it/s]\u001b[A\u001b[A\n",
      "\n",
      "Convert dataset:   2%|▏         | 394/20000 [00:01<01:28, 220.66it/s]\u001b[A\u001b[A\n",
      "\n",
      "Convert dataset:   2%|▏         | 417/20000 [00:01<01:28, 222.33it/s]\u001b[A\u001b[A\n",
      "\n",
      "Convert dataset:   2%|▏         | 441/20000 [00:01<01:26, 226.96it/s]\u001b[A\u001b[A\n",
      "\n",
      "Convert dataset:   2%|▏         | 465/20000 [00:01<01:29, 217.77it/s]\u001b[A\u001b[A\n",
      "\n",
      "Convert dataset:   2%|▏         | 488/20000 [00:02<01:29, 217.85it/s]\u001b[A\u001b[A\n",
      "\n",
      "Convert dataset:   3%|▎         | 538/20000 [00:02<01:14, 261.59it/s]\u001b[A\u001b[A\n",
      "\n",
      "Convert dataset:   3%|▎         | 569/20000 [00:02<01:23, 234.08it/s]\u001b[A\u001b[A\n",
      "\n",
      "Convert dataset:   3%|▎         | 596/20000 [00:02<01:20, 241.22it/s]\u001b[A\u001b[A\n",
      "\n",
      "Convert dataset:   3%|▎         | 632/20000 [00:02<01:12, 267.69it/s]\u001b[A\u001b[A\n",
      "\n",
      "Convert dataset:   3%|▎         | 680/20000 [00:02<01:02, 308.48it/s]\u001b[A\u001b[A\n",
      "\n",
      "Convert dataset:   4%|▎         | 719/20000 [00:02<00:59, 323.20it/s]\u001b[A\u001b[A\n",
      "\n",
      "Convert dataset:   4%|▍         | 755/20000 [00:02<01:19, 240.78it/s]\u001b[A\u001b[A\n",
      "\n",
      "Convert dataset:   4%|▍         | 785/20000 [00:03<01:24, 226.98it/s]\u001b[A\u001b[A\n",
      "\n",
      "Convert dataset:   4%|▍         | 812/20000 [00:03<01:31, 210.42it/s]\u001b[A\u001b[A\n",
      "\n",
      "Convert dataset:   4%|▍         | 836/20000 [00:03<01:31, 209.16it/s]\u001b[A\u001b[A\n",
      "\n",
      "Convert dataset:   4%|▍         | 859/20000 [00:03<01:46, 180.10it/s]\u001b[A\u001b[A\n",
      "\n",
      "Convert dataset:   4%|▍         | 880/20000 [00:03<01:45, 181.19it/s]\u001b[A\u001b[A\n",
      "\n",
      "Convert dataset:   4%|▍         | 900/20000 [00:03<01:50, 172.42it/s]\u001b[A\u001b[A\n",
      "\n",
      "Convert dataset:   5%|▍         | 920/20000 [00:03<01:46, 179.51it/s]\u001b[A\u001b[A\n",
      "\n",
      "Convert dataset:   5%|▍         | 939/20000 [00:04<02:09, 147.33it/s]\u001b[A\u001b[A\n",
      "\n",
      "Convert dataset:   5%|▍         | 956/20000 [00:04<02:08, 148.03it/s]\u001b[A\u001b[A\n",
      "\n",
      "Convert dataset:   5%|▍         | 973/20000 [00:04<02:04, 152.54it/s]\u001b[A\u001b[A\n",
      "\n",
      "Convert dataset:   5%|▍         | 990/20000 [00:04<02:05, 151.50it/s]\u001b[A\u001b[A\n",
      "\n",
      "Convert dataset:   5%|▌         | 1007/20000 [00:04<02:03, 153.26it/s]\u001b[A\u001b[A\n",
      "\n",
      "Convert dataset:   5%|▌         | 1024/20000 [00:04<02:03, 153.20it/s]\u001b[A\u001b[A\n",
      "\n",
      "Convert dataset:   5%|▌         | 1040/20000 [00:04<02:10, 144.90it/s]\u001b[A\u001b[A\n",
      "\n",
      "Convert dataset:   5%|▌         | 1059/20000 [00:04<02:03, 153.51it/s]\u001b[A\u001b[A\n",
      "\n",
      "Convert dataset:   5%|▌         | 1075/20000 [00:04<02:13, 142.15it/s]\u001b[A\u001b[A\n",
      "\n",
      "Convert dataset:   5%|▌         | 1096/20000 [00:05<02:01, 155.69it/s]\u001b[A\u001b[A\n",
      "\n",
      "Convert dataset:   6%|▌         | 1113/20000 [00:05<02:00, 156.69it/s]\u001b[A\u001b[A\n",
      "\n",
      "Convert dataset:   6%|▌         | 1136/20000 [00:05<01:51, 169.44it/s]\u001b[A\u001b[A\n",
      "\n",
      "Convert dataset:   6%|▌         | 1155/20000 [00:05<01:48, 173.80it/s]\u001b[A\u001b[A\n",
      "\n",
      "Convert dataset:   6%|▌         | 1181/20000 [00:05<01:38, 191.26it/s]\u001b[A\u001b[A\n",
      "\n",
      "Convert dataset:   6%|▌         | 1201/20000 [00:05<01:38, 190.34it/s]\u001b[A\u001b[A\n",
      "\n",
      "Convert dataset:   6%|▌         | 1221/20000 [00:05<01:39, 189.11it/s]\u001b[A\u001b[A\n",
      "\n",
      "Convert dataset:   6%|▌         | 1241/20000 [00:05<01:45, 178.33it/s]\u001b[A\u001b[A\n",
      "\n",
      "Convert dataset:   6%|▋         | 1265/20000 [00:05<01:37, 192.63it/s]\u001b[A\u001b[A\n",
      "\n",
      "Convert dataset:   6%|▋         | 1290/20000 [00:06<01:30, 206.72it/s]\u001b[A\u001b[A\n",
      "\n",
      "Convert dataset:   7%|▋         | 1313/20000 [00:06<01:30, 207.17it/s]\u001b[A\u001b[A\n",
      "\n",
      "Convert dataset:   7%|▋         | 1336/20000 [00:06<01:27, 213.25it/s]\u001b[A\u001b[A\n",
      "\n",
      "Convert dataset:   7%|▋         | 1358/20000 [00:06<01:28, 209.86it/s]\u001b[A\u001b[A\n",
      "\n",
      "Convert dataset:   7%|▋         | 1385/20000 [00:06<01:22, 224.73it/s]\u001b[A\u001b[A\n",
      "\n",
      "Convert dataset:   7%|▋         | 1414/20000 [00:06<01:17, 239.94it/s]\u001b[A\u001b[A\n",
      "\n",
      "Convert dataset:   7%|▋         | 1441/20000 [00:06<01:14, 248.01it/s]\u001b[A\u001b[A\n",
      "\n",
      "Convert dataset:   7%|▋         | 1467/20000 [00:06<01:17, 240.06it/s]\u001b[A\u001b[A\n",
      "\n",
      "Convert dataset:   7%|▋         | 1496/20000 [00:06<01:13, 251.56it/s]\u001b[A\u001b[A\n",
      "\n",
      "Convert dataset:   8%|▊         | 1522/20000 [00:07<01:19, 231.26it/s]\u001b[A\u001b[A\n",
      "\n",
      "Convert dataset:   8%|▊         | 1546/20000 [00:07<01:25, 217.00it/s]\u001b[A\u001b[A\n",
      "\n",
      "Convert dataset:   8%|▊         | 1569/20000 [00:07<01:31, 202.29it/s]\u001b[A\u001b[A\n",
      "\n",
      "Convert dataset:   8%|▊         | 1590/20000 [00:07<01:30, 203.72it/s]\u001b[A\u001b[A\n",
      "\n",
      "Convert dataset:   8%|▊         | 1615/20000 [00:07<01:25, 215.52it/s]\u001b[A\u001b[A\n",
      "\n",
      "Convert dataset:   8%|▊         | 1639/20000 [00:07<01:22, 221.77it/s]\u001b[A\u001b[A\n",
      "\n",
      "Convert dataset:   8%|▊         | 1662/20000 [00:07<01:37, 187.87it/s]\u001b[A\u001b[A\n",
      "\n",
      "Convert dataset:   8%|▊         | 1682/20000 [00:07<01:36, 189.20it/s]\u001b[A\u001b[A\n",
      "\n",
      "Convert dataset:   9%|▊         | 1705/20000 [00:07<01:31, 198.94it/s]\u001b[A\u001b[A\n",
      "\n",
      "Convert dataset:   9%|▊         | 1726/20000 [00:08<01:33, 195.42it/s]\u001b[A\u001b[A\n",
      "\n",
      "Convert dataset:   9%|▊         | 1747/20000 [00:08<01:47, 169.21it/s]\u001b[A\u001b[A\n",
      "\n",
      "Convert dataset:   9%|▉         | 1765/20000 [00:08<01:46, 171.09it/s]\u001b[A\u001b[A\n",
      "\n",
      "Convert dataset:   9%|▉         | 1786/20000 [00:08<01:42, 178.01it/s]\u001b[A\u001b[A\n",
      "\n",
      "Convert dataset:   9%|▉         | 1805/20000 [00:08<01:40, 180.29it/s]\u001b[A\u001b[A\n",
      "\n",
      "Convert dataset:   9%|▉         | 1826/20000 [00:08<01:36, 187.87it/s]\u001b[A\u001b[A\n",
      "\n",
      "Convert dataset:   9%|▉         | 1847/20000 [00:08<01:35, 190.89it/s]\u001b[A\u001b[A\n",
      "\n",
      "Convert dataset:   9%|▉         | 1867/20000 [00:08<01:36, 188.12it/s]\u001b[A\u001b[A\n",
      "\n",
      "Convert dataset:   9%|▉         | 1887/20000 [00:08<01:46, 169.33it/s]\u001b[A\u001b[A\n",
      "\n",
      "Convert dataset:  10%|▉         | 1906/20000 [00:09<01:44, 173.01it/s]\u001b[A\u001b[A\n",
      "\n",
      "Convert dataset:  10%|▉         | 1924/20000 [00:09<01:45, 170.88it/s]\u001b[A\u001b[A\n",
      "\n",
      "Convert dataset:  10%|▉         | 1944/20000 [00:09<01:41, 178.50it/s]\u001b[A\u001b[A\n",
      "\n",
      "Convert dataset:  10%|▉         | 1963/20000 [00:09<01:44, 173.32it/s]\u001b[A\u001b[A\n",
      "\n",
      "Convert dataset:  10%|▉         | 1991/20000 [00:09<01:32, 194.11it/s]\u001b[A\u001b[A\n",
      "\n",
      "Convert dataset:  10%|█         | 2021/20000 [00:09<01:23, 214.26it/s]\u001b[A\u001b[A\n",
      "\n",
      "Convert dataset:  10%|█         | 2044/20000 [00:09<01:27, 205.89it/s]\u001b[A\u001b[A\n",
      "\n",
      "Convert dataset:  10%|█         | 2066/20000 [00:09<01:28, 201.63it/s]\u001b[A\u001b[A\n",
      "\n",
      "Convert dataset:  10%|█         | 2090/20000 [00:09<01:27, 205.73it/s]\u001b[A\u001b[A\n",
      "\n",
      "Convert dataset:  11%|█         | 2112/20000 [00:10<01:35, 187.20it/s]\u001b[A\u001b[A\n",
      "\n",
      "Convert dataset:  11%|█         | 2132/20000 [00:10<01:34, 189.21it/s]\u001b[A\u001b[A\n",
      "\n",
      "Convert dataset:  11%|█         | 2178/20000 [00:10<01:17, 228.86it/s]\u001b[A\u001b[A\n",
      "\n",
      "Convert dataset:  11%|█         | 2206/20000 [00:10<01:16, 232.46it/s]\u001b[A\u001b[A\n",
      "\n",
      "Convert dataset:  11%|█         | 2233/20000 [00:10<01:15, 233.98it/s]\u001b[A\u001b[A\n",
      "\n",
      "Convert dataset:  11%|█▏        | 2259/20000 [00:10<01:15, 234.44it/s]\u001b[A\u001b[A\n",
      "\n",
      "Convert dataset:  11%|█▏        | 2284/20000 [00:10<01:14, 236.59it/s]\u001b[A\u001b[A\n",
      "\n",
      "Convert dataset:  12%|█▏        | 2309/20000 [00:10<01:22, 214.99it/s]\u001b[A\u001b[A\n",
      "\n",
      "Convert dataset:  12%|█▏        | 2332/20000 [00:11<01:29, 196.49it/s]\u001b[A\u001b[A\n",
      "\n",
      "Convert dataset:  12%|█▏        | 2362/20000 [00:11<01:21, 215.88it/s]\u001b[A\u001b[A\n",
      "\n",
      "Convert dataset:  12%|█▏        | 2389/20000 [00:11<01:17, 228.46it/s]\u001b[A\u001b[A\n",
      "\n",
      "Convert dataset:  12%|█▏        | 2413/20000 [00:11<01:26, 203.97it/s]\u001b[A\u001b[A\n",
      "\n",
      "Convert dataset:  12%|█▏        | 2435/20000 [00:11<01:24, 207.41it/s]\u001b[A\u001b[A\n",
      "\n",
      "Convert dataset:  12%|█▏        | 2457/20000 [00:11<01:26, 203.09it/s]\u001b[A\u001b[A\n",
      "\n",
      "Convert dataset:  12%|█▏        | 2481/20000 [00:11<01:24, 208.50it/s]\u001b[A\u001b[A\n",
      "\n",
      "Convert dataset:  13%|█▎        | 2503/20000 [00:11<01:22, 211.08it/s]\u001b[A\u001b[A\n",
      "\n",
      "Convert dataset:  13%|█▎        | 2525/20000 [00:11<01:30, 192.74it/s]\u001b[A\u001b[A\n",
      "\n",
      "Convert dataset:  13%|█▎        | 2551/20000 [00:12<01:26, 202.85it/s]\u001b[A\u001b[A\n",
      "\n",
      "Convert dataset:  13%|█▎        | 2572/20000 [00:12<01:32, 187.90it/s]\u001b[A\u001b[A\n",
      "\n",
      "Convert dataset:  13%|█▎        | 2592/20000 [00:12<01:35, 182.21it/s]\u001b[A\u001b[A\n",
      "\n",
      "Convert dataset:  13%|█▎        | 2615/20000 [00:12<01:29, 193.76it/s]\u001b[A\u001b[A\n",
      "\n",
      "Convert dataset:  13%|█▎        | 2636/20000 [00:12<01:28, 195.39it/s]\u001b[A\u001b[A\n",
      "\n",
      "Convert dataset:  13%|█▎        | 2660/20000 [00:12<01:24, 206.33it/s]\u001b[A\u001b[A\n",
      "\n",
      "Convert dataset:  13%|█▎        | 2682/20000 [00:12<01:27, 197.25it/s]\u001b[A\u001b[A\n",
      "\n",
      "Convert dataset:  14%|█▎        | 2703/20000 [00:12<01:29, 193.72it/s]\u001b[A\u001b[A\n",
      "\n",
      "Convert dataset:  14%|█▎        | 2723/20000 [00:13<01:41, 170.17it/s]\u001b[A\u001b[A\n",
      "\n",
      "Convert dataset:  14%|█▎        | 2744/20000 [00:13<01:35, 180.08it/s]\u001b[A\u001b[A\n",
      "\n",
      "Convert dataset:  14%|█▍        | 2763/20000 [00:13<01:36, 178.19it/s]\u001b[A\u001b[A\n",
      "\n",
      "Convert dataset:  14%|█▍        | 2782/20000 [00:13<01:36, 178.21it/s]\u001b[A\u001b[A\n",
      "\n",
      "Convert dataset:  14%|█▍        | 2801/20000 [00:13<01:42, 167.85it/s]\u001b[A\u001b[A\n",
      "\n",
      "Convert dataset:  14%|█▍        | 2827/20000 [00:13<01:31, 187.04it/s]\u001b[A\u001b[A\n",
      "\n",
      "Convert dataset:  14%|█▍        | 2853/20000 [00:13<01:24, 203.35it/s]\u001b[A\u001b[A\n",
      "\n",
      "Convert dataset:  14%|█▍        | 2884/20000 [00:13<01:15, 225.92it/s]\u001b[A\u001b[A\n",
      "\n",
      "Convert dataset:  15%|█▍        | 2916/20000 [00:13<01:08, 247.70it/s]\u001b[A\u001b[A\n",
      "\n",
      "Convert dataset:  15%|█▍        | 2943/20000 [00:13<01:11, 238.79it/s]\u001b[A\u001b[A\n",
      "\n",
      "Convert dataset:  15%|█▍        | 2969/20000 [00:14<01:16, 223.26it/s]\u001b[A\u001b[A\n",
      "\n",
      "Convert dataset:  15%|█▍        | 2993/20000 [00:14<01:16, 221.08it/s]\u001b[A\u001b[A\n",
      "\n",
      "Convert dataset:  15%|█▌        | 3016/20000 [00:14<01:19, 214.40it/s]\u001b[A\u001b[A\n",
      "\n",
      "Convert dataset:  15%|█▌        | 3039/20000 [00:14<01:25, 198.84it/s]\u001b[A\u001b[A\n",
      "\n",
      "Convert dataset:  15%|█▌        | 3060/20000 [00:14<01:30, 187.51it/s]\u001b[A\u001b[A\n",
      "\n",
      "Convert dataset:  15%|█▌        | 3080/20000 [00:14<01:31, 184.44it/s]\u001b[A\u001b[A\n",
      "\n",
      "Convert dataset:  16%|█▌        | 3102/20000 [00:14<01:28, 190.20it/s]\u001b[A\u001b[A\n",
      "\n",
      "Convert dataset:  16%|█▌        | 3122/20000 [00:14<01:29, 188.41it/s]\u001b[A\u001b[A\n",
      "\n",
      "Convert dataset:  16%|█▌        | 3142/20000 [00:15<01:39, 169.51it/s]\u001b[A\u001b[A\n",
      "\n",
      "Convert dataset:  16%|█▌        | 3167/20000 [00:15<01:31, 183.99it/s]\u001b[A\u001b[A\n",
      "\n",
      "Convert dataset:  16%|█▌        | 3196/20000 [00:15<01:21, 205.11it/s]\u001b[A\u001b[A\n",
      "\n",
      "Convert dataset:  16%|█▌        | 3218/20000 [00:15<01:22, 203.59it/s]\u001b[A\u001b[A\n",
      "\n",
      "Convert dataset:  16%|█▌        | 3240/20000 [00:15<01:22, 202.62it/s]\u001b[A\u001b[A\n",
      "\n",
      "Convert dataset:  16%|█▋        | 3261/20000 [00:15<01:23, 199.91it/s]\u001b[A\u001b[A\n",
      "\n",
      "Convert dataset:  16%|█▋        | 3282/20000 [00:15<01:55, 144.35it/s]\u001b[A\u001b[A\n",
      "\n",
      "Convert dataset:  16%|█▋        | 3299/20000 [00:16<02:10, 127.70it/s]\u001b[A\u001b[A\n",
      "\n",
      "Convert dataset:  17%|█▋        | 3321/20000 [00:16<01:54, 145.36it/s]\u001b[A\u001b[A\n",
      "\n",
      "Convert dataset:  17%|█▋        | 3339/20000 [00:16<01:48, 153.03it/s]\u001b[A\u001b[A\n",
      "\n",
      "Convert dataset:  17%|█▋        | 3357/20000 [00:16<01:46, 156.90it/s]\u001b[A\u001b[A\n",
      "\n",
      "Convert dataset:  17%|█▋        | 3374/20000 [00:16<01:48, 153.66it/s]\u001b[A\u001b[A\n",
      "\n",
      "Convert dataset:  17%|█▋        | 3392/20000 [00:16<01:43, 160.11it/s]\u001b[A\u001b[A\n",
      "\n",
      "Convert dataset:  17%|█▋        | 3411/20000 [00:16<01:39, 166.53it/s]\u001b[A\u001b[A\n",
      "\n",
      "Convert dataset:  17%|█▋        | 3433/20000 [00:16<01:33, 176.83it/s]\u001b[A\u001b[A\n",
      "\n",
      "Convert dataset:  17%|█▋        | 3452/20000 [00:16<01:42, 162.14it/s]\u001b[A\u001b[A\n",
      "\n",
      "Convert dataset:  17%|█▋        | 3472/20000 [00:17<01:37, 169.41it/s]\u001b[A\u001b[A\n",
      "\n",
      "Convert dataset:  17%|█▋        | 3492/20000 [00:17<01:33, 176.46it/s]\u001b[A\u001b[A\n",
      "\n",
      "Convert dataset:  18%|█▊        | 3511/20000 [00:17<01:38, 166.95it/s]\u001b[A\u001b[A\n",
      "\n",
      "Convert dataset:  18%|█▊        | 3529/20000 [00:17<01:45, 155.81it/s]\u001b[A\u001b[A\n",
      "\n",
      "Convert dataset:  18%|█▊        | 3546/20000 [00:17<01:49, 150.34it/s]\u001b[A\u001b[A\n",
      "\n",
      "Convert dataset:  18%|█▊        | 3562/20000 [00:17<02:00, 136.33it/s]\u001b[A\u001b[A\n",
      "\n",
      "Convert dataset:  18%|█▊        | 3577/20000 [00:17<02:06, 129.65it/s]\u001b[A\u001b[A\n",
      "\n",
      "Convert dataset:  18%|█▊        | 3596/20000 [00:17<01:55, 142.51it/s]\u001b[A\u001b[A\n",
      "\n",
      "Convert dataset:  18%|█▊        | 3615/20000 [00:17<01:46, 153.25it/s]\u001b[A\u001b[A\n",
      "\n",
      "Convert dataset:  18%|█▊        | 3633/20000 [00:18<01:42, 160.39it/s]\u001b[A\u001b[A\n",
      "\n",
      "Convert dataset:  18%|█▊        | 3651/20000 [00:18<01:41, 161.85it/s]\u001b[A\u001b[A\n",
      "\n",
      "Convert dataset:  18%|█▊        | 3671/20000 [00:18<01:35, 171.59it/s]\u001b[A\u001b[A\n",
      "\n",
      "Convert dataset:  18%|█▊        | 3691/20000 [00:18<01:32, 176.73it/s]\u001b[A\u001b[A\n",
      "\n",
      "Convert dataset:  19%|█▊        | 3714/20000 [00:18<01:26, 189.02it/s]\u001b[A\u001b[A\n",
      "\n",
      "Convert dataset:  19%|█▊        | 3736/20000 [00:18<01:23, 195.38it/s]\u001b[A\u001b[A\n",
      "\n",
      "Convert dataset:  19%|█▉        | 3756/20000 [00:18<01:30, 179.05it/s]\u001b[A\u001b[A\n",
      "\n",
      "Convert dataset:  19%|█▉        | 3776/20000 [00:18<01:28, 183.76it/s]\u001b[A\u001b[A\n",
      "\n",
      "Convert dataset:  19%|█▉        | 3795/20000 [00:18<01:34, 172.01it/s]\u001b[A\u001b[A\n",
      "\n",
      "Convert dataset:  19%|█▉        | 3819/20000 [00:19<01:27, 185.07it/s]\u001b[A\u001b[A\n",
      "\n",
      "Convert dataset:  19%|█▉        | 3846/20000 [00:19<01:19, 204.21it/s]\u001b[A\u001b[A\n",
      "\n",
      "Convert dataset:  19%|█▉        | 3868/20000 [00:19<01:32, 174.24it/s]\u001b[A\u001b[A\n",
      "\n",
      "Convert dataset:  19%|█▉        | 3893/20000 [00:19<01:26, 186.96it/s]\u001b[A\u001b[A\n",
      "\n",
      "Convert dataset:  20%|█▉        | 3913/20000 [00:19<01:25, 187.21it/s]\u001b[A\u001b[A\n",
      "\n",
      "Convert dataset:  20%|█▉        | 3933/20000 [00:19<01:30, 176.69it/s]\u001b[A\u001b[A\n",
      "\n",
      "Convert dataset:  20%|█▉        | 3955/20000 [00:19<01:25, 187.41it/s]\u001b[A\u001b[A\n",
      "\n",
      "Convert dataset:  20%|█▉        | 3975/20000 [00:19<01:25, 186.73it/s]\u001b[A\u001b[A\n",
      "\n",
      "Convert dataset:  20%|█▉        | 3998/20000 [00:20<01:22, 193.61it/s]\u001b[A\u001b[A\n",
      "\n",
      "Convert dataset:  20%|██        | 4018/20000 [00:20<01:28, 180.31it/s]\u001b[A\u001b[A\n",
      "\n",
      "Convert dataset:  20%|██        | 4037/20000 [00:20<01:34, 168.32it/s]\u001b[A\u001b[A\n",
      "\n",
      "Convert dataset:  20%|██        | 4055/20000 [00:20<01:49, 145.88it/s]\u001b[A\u001b[A\n",
      "\n",
      "Convert dataset:  20%|██        | 4075/20000 [00:20<01:41, 156.69it/s]\u001b[A\u001b[A\n",
      "\n",
      "Convert dataset:  21%|██        | 4102/20000 [00:20<01:29, 178.27it/s]\u001b[A\u001b[A\n",
      "\n",
      "Convert dataset:  21%|██        | 4122/20000 [00:20<01:27, 182.10it/s]\u001b[A\u001b[A\n",
      "\n",
      "Convert dataset:  21%|██        | 4142/20000 [00:20<01:31, 173.79it/s]\u001b[A\u001b[A\n",
      "\n",
      "Convert dataset:  21%|██        | 4161/20000 [00:20<01:33, 170.10it/s]\u001b[A\u001b[A\n",
      "\n",
      "Convert dataset:  21%|██        | 4181/20000 [00:21<01:33, 168.71it/s]\u001b[A\u001b[A\n",
      "\n",
      "Convert dataset:  21%|██        | 4200/20000 [00:21<01:32, 169.93it/s]\u001b[A\u001b[A\n",
      "\n",
      "Convert dataset:  21%|██        | 4224/20000 [00:21<01:25, 185.11it/s]\u001b[A\u001b[A\n",
      "\n",
      "Convert dataset:  21%|██        | 4244/20000 [00:21<01:33, 168.97it/s]\u001b[A\u001b[A\n",
      "\n",
      "Convert dataset:  21%|██▏       | 4265/20000 [00:21<01:28, 178.21it/s]\u001b[A\u001b[A\n",
      "\n",
      "Convert dataset:  21%|██▏       | 4284/20000 [00:21<01:27, 180.26it/s]\u001b[A\u001b[A\n",
      "\n",
      "Convert dataset:  22%|██▏       | 4304/20000 [00:21<01:24, 185.13it/s]\u001b[A\u001b[A\n",
      "\n",
      "Convert dataset:  22%|██▏       | 4323/20000 [00:21<01:24, 185.61it/s]\u001b[A\u001b[A\n",
      "\n",
      "Convert dataset:  22%|██▏       | 4348/20000 [00:21<01:17, 201.00it/s]\u001b[A\u001b[A\n",
      "\n",
      "Convert dataset:  22%|██▏       | 4370/20000 [00:22<01:16, 205.65it/s]\u001b[A\u001b[A\n",
      "\n",
      "Convert dataset:  22%|██▏       | 4391/20000 [00:22<01:21, 191.16it/s]\u001b[A\u001b[A\n",
      "\n",
      "Convert dataset:  22%|██▏       | 4418/20000 [00:22<01:14, 208.88it/s]\u001b[A\u001b[A\n",
      "\n",
      "Convert dataset:  22%|██▏       | 4441/20000 [00:22<01:13, 211.55it/s]\u001b[A\u001b[A\n",
      "\n",
      "Convert dataset:  22%|██▏       | 4464/20000 [00:22<01:11, 216.06it/s]\u001b[A\u001b[A\n",
      "\n",
      "Convert dataset:  22%|██▏       | 4487/20000 [00:22<01:19, 195.51it/s]\u001b[A\u001b[A\n",
      "\n",
      "Convert dataset:  23%|██▎       | 4508/20000 [00:22<01:19, 195.08it/s]\u001b[A\u001b[A\n",
      "\n",
      "Convert dataset:  23%|██▎       | 4536/20000 [00:22<01:13, 211.52it/s]\u001b[A\u001b[A\n",
      "\n",
      "Convert dataset:  23%|██▎       | 4559/20000 [00:22<01:12, 213.75it/s]\u001b[A\u001b[A\n",
      "\n",
      "Convert dataset:  23%|██▎       | 4581/20000 [00:23<01:14, 206.56it/s]\u001b[A\u001b[A\n",
      "\n",
      "Convert dataset:  23%|██▎       | 4603/20000 [00:23<01:22, 185.88it/s]\u001b[A\u001b[A\n",
      "\n",
      "Convert dataset:  23%|██▎       | 4625/20000 [00:23<01:21, 188.88it/s]\u001b[A\u001b[A\n",
      "\n",
      "Convert dataset:  23%|██▎       | 4645/20000 [00:23<01:21, 188.42it/s]\u001b[A\u001b[A\n",
      "\n",
      "Convert dataset:  23%|██▎       | 4668/20000 [00:23<01:18, 196.54it/s]\u001b[A\u001b[A\n",
      "\n",
      "Convert dataset:  23%|██▎       | 4688/20000 [00:23<01:22, 186.57it/s]\u001b[A\u001b[A\n",
      "\n",
      "Convert dataset:  24%|██▎       | 4716/20000 [00:23<01:14, 205.34it/s]\u001b[A\u001b[A\n",
      "\n",
      "Convert dataset:  24%|██▎       | 4738/20000 [00:23<01:27, 175.02it/s]\u001b[A\u001b[A\n",
      "\n",
      "Convert dataset:  24%|██▍       | 4759/20000 [00:24<01:23, 183.28it/s]\u001b[A\u001b[A\n",
      "\n",
      "Convert dataset:  24%|██▍       | 4779/20000 [00:24<01:35, 159.40it/s]\u001b[A\u001b[A\n",
      "\n",
      "Convert dataset:  24%|██▍       | 4800/20000 [00:24<01:29, 170.70it/s]\u001b[A\u001b[A\n",
      "\n",
      "Convert dataset:  24%|██▍       | 4819/20000 [00:24<01:28, 171.23it/s]\u001b[A\u001b[A\n",
      "\n",
      "Convert dataset:  24%|██▍       | 4845/20000 [00:24<01:19, 190.58it/s]\u001b[A\u001b[A\n",
      "\n",
      "Convert dataset:  24%|██▍       | 4868/20000 [00:24<01:15, 200.34it/s]\u001b[A\u001b[A\n",
      "\n",
      "Convert dataset:  24%|██▍       | 4890/20000 [00:24<01:15, 200.38it/s]\u001b[A\u001b[A\n",
      "\n",
      "Convert dataset:  25%|██▍       | 4913/20000 [00:24<01:13, 205.58it/s]\u001b[A\u001b[A\n",
      "\n",
      "Convert dataset:  25%|██▍       | 4935/20000 [00:24<01:15, 199.26it/s]\u001b[A\u001b[A\n",
      "\n",
      "Convert dataset:  25%|██▍       | 4956/20000 [00:25<01:22, 183.45it/s]\u001b[A\u001b[A\n",
      "\n",
      "Convert dataset:  25%|██▍       | 4975/20000 [00:25<01:31, 164.72it/s]\u001b[A\u001b[A\n",
      "\n",
      "Convert dataset:  25%|██▍       | 4996/20000 [00:25<01:25, 174.65it/s]\u001b[A\u001b[A\n",
      "\n",
      "Convert dataset:  25%|██▌       | 5015/20000 [00:25<01:35, 156.53it/s]\u001b[A\u001b[A\n",
      "\n",
      "Convert dataset:  25%|██▌       | 5041/20000 [00:25<01:24, 176.36it/s]\u001b[A\u001b[A\n",
      "\n",
      "Convert dataset:  25%|██▌       | 5063/20000 [00:25<01:19, 187.11it/s]\u001b[A\u001b[A\n",
      "\n",
      "Convert dataset:  25%|██▌       | 5083/20000 [00:25<01:22, 180.66it/s]\u001b[A\u001b[A\n",
      "\n",
      "Convert dataset:  26%|██▌       | 5110/20000 [00:25<01:15, 196.10it/s]\u001b[A\u001b[A\n",
      "\n",
      "Convert dataset:  26%|██▌       | 5131/20000 [00:26<01:25, 173.74it/s]\u001b[A\u001b[A\n",
      "\n",
      "Convert dataset:  26%|██▌       | 5150/20000 [00:26<01:25, 173.04it/s]\u001b[A\u001b[A\n",
      "\n",
      "Convert dataset:  26%|██▌       | 5169/20000 [00:26<01:27, 169.68it/s]\u001b[A\u001b[A\n",
      "\n",
      "Convert dataset:  26%|██▌       | 5187/20000 [00:26<01:30, 163.37it/s]\u001b[A\u001b[A\n",
      "\n",
      "Convert dataset:  26%|██▌       | 5211/20000 [00:26<01:23, 177.74it/s]\u001b[A\u001b[A\n",
      "\n",
      "Convert dataset:  26%|██▌       | 5233/20000 [00:26<01:19, 185.60it/s]\u001b[A\u001b[A\n",
      "\n",
      "Convert dataset:  26%|██▋       | 5253/20000 [00:26<01:21, 181.78it/s]\u001b[A\u001b[A\n",
      "\n",
      "Convert dataset:  26%|██▋       | 5278/20000 [00:26<01:14, 196.30it/s]\u001b[A\u001b[A\n",
      "\n",
      "Convert dataset:  26%|██▋       | 5299/20000 [00:26<01:16, 192.40it/s]\u001b[A\u001b[A\n",
      "\n",
      "Convert dataset:  27%|██▋       | 5319/20000 [00:27<01:15, 193.83it/s]\u001b[A\u001b[A\n",
      "\n",
      "Convert dataset:  27%|██▋       | 5339/20000 [00:27<01:20, 183.19it/s]\u001b[A\u001b[A\n",
      "\n",
      "Convert dataset:  27%|██▋       | 5363/20000 [00:27<01:14, 196.57it/s]\u001b[A\u001b[A\n",
      "\n",
      "Convert dataset:  27%|██▋       | 5388/20000 [00:27<01:10, 208.37it/s]\u001b[A\u001b[A\n",
      "\n",
      "Convert dataset:  27%|██▋       | 5410/20000 [00:27<01:13, 198.70it/s]\u001b[A\u001b[A\n",
      "\n",
      "Convert dataset:  27%|██▋       | 5431/20000 [00:27<01:17, 188.52it/s]\u001b[A\u001b[A\n",
      "\n",
      "Convert dataset:  27%|██▋       | 5451/20000 [00:27<01:18, 186.20it/s]\u001b[A\u001b[A\n",
      "\n",
      "Convert dataset:  27%|██▋       | 5473/20000 [00:27<01:16, 190.36it/s]\u001b[A\u001b[A\n",
      "\n",
      "Convert dataset:  27%|██▋       | 5493/20000 [00:28<01:31, 158.63it/s]\u001b[A\u001b[A\n",
      "\n",
      "Convert dataset:  28%|██▊       | 5511/20000 [00:28<01:30, 160.90it/s]\u001b[A\u001b[A\n",
      "\n",
      "Convert dataset:  28%|██▊       | 5532/20000 [00:28<01:24, 171.01it/s]\u001b[A\u001b[A\n",
      "\n",
      "Convert dataset:  28%|██▊       | 5550/20000 [00:28<01:33, 154.52it/s]\u001b[A\u001b[A\n",
      "\n",
      "Convert dataset:  28%|██▊       | 5567/20000 [00:28<01:34, 152.27it/s]\u001b[A\u001b[A\n",
      "\n",
      "Convert dataset:  28%|██▊       | 5590/20000 [00:28<01:25, 169.29it/s]\u001b[A\u001b[A\n",
      "\n",
      "Convert dataset:  28%|██▊       | 5608/20000 [00:28<01:26, 166.48it/s]\u001b[A\u001b[A\n",
      "\n",
      "Convert dataset:  28%|██▊       | 5626/20000 [00:28<01:25, 168.26it/s]\u001b[A\u001b[A\n",
      "\n",
      "Convert dataset:  28%|██▊       | 5644/20000 [00:28<01:30, 158.54it/s]\u001b[A\u001b[A\n",
      "\n",
      "Convert dataset:  28%|██▊       | 5662/20000 [00:29<01:28, 162.14it/s]\u001b[A\u001b[A\n",
      "\n",
      "Convert dataset:  28%|██▊       | 5682/20000 [00:29<01:23, 170.60it/s]\u001b[A\u001b[A\n",
      "\n",
      "Convert dataset:  29%|██▊       | 5704/20000 [00:29<01:18, 181.01it/s]\u001b[A\u001b[A\n",
      "\n",
      "Convert dataset:  29%|██▊       | 5723/20000 [00:29<01:23, 170.58it/s]\u001b[A\u001b[A\n",
      "\n",
      "Convert dataset:  29%|██▊       | 5748/20000 [00:29<01:15, 187.68it/s]\u001b[A\u001b[A\n",
      "\n",
      "Convert dataset:  29%|██▉       | 5770/20000 [00:29<01:13, 193.74it/s]\u001b[A\u001b[A\n",
      "\n",
      "Convert dataset:  29%|██▉       | 5798/20000 [00:29<01:07, 209.87it/s]\u001b[A\u001b[A\n",
      "\n",
      "Convert dataset:  29%|██▉       | 5820/20000 [00:29<01:12, 195.70it/s]\u001b[A\u001b[A\n",
      "\n",
      "Convert dataset:  29%|██▉       | 5842/20000 [00:29<01:11, 198.78it/s]\u001b[A\u001b[A\n",
      "\n",
      "Convert dataset:  29%|██▉       | 5863/20000 [00:30<01:17, 182.01it/s]\u001b[A\u001b[A\n",
      "\n",
      "Convert dataset:  29%|██▉       | 5883/20000 [00:30<01:16, 183.92it/s]\u001b[A\u001b[A\n",
      "\n",
      "Convert dataset:  30%|██▉       | 5902/20000 [00:30<01:18, 178.68it/s]\u001b[A\u001b[A\n",
      "\n",
      "Convert dataset:  30%|██▉       | 5927/20000 [00:30<01:12, 193.36it/s]\u001b[A\u001b[A\n",
      "\n",
      "Convert dataset:  30%|██▉       | 5947/20000 [00:30<01:11, 195.28it/s]\u001b[A\u001b[A\n",
      "\n",
      "Convert dataset:  30%|██▉       | 5970/20000 [00:30<01:09, 203.29it/s]\u001b[A\u001b[A\n",
      "\n",
      "Convert dataset:  30%|██▉       | 5996/20000 [00:30<01:06, 210.99it/s]\u001b[A\u001b[A\n",
      "\n",
      "Convert dataset:  30%|███       | 6018/20000 [00:30<01:07, 208.38it/s]\u001b[A\u001b[A\n",
      "\n",
      "Convert dataset:  30%|███       | 6040/20000 [00:30<01:09, 201.86it/s]\u001b[A\u001b[A\n",
      "\n",
      "Convert dataset:  30%|███       | 6061/20000 [00:31<01:14, 186.04it/s]\u001b[A\u001b[A\n",
      "\n",
      "Convert dataset:  30%|███       | 6081/20000 [00:31<01:17, 179.39it/s]\u001b[A\u001b[A\n",
      "\n",
      "Convert dataset:  31%|███       | 6103/20000 [00:31<01:13, 189.35it/s]\u001b[A\u001b[A\n",
      "\n",
      "Convert dataset:  31%|███       | 6123/20000 [00:31<01:16, 182.50it/s]\u001b[A\u001b[A\n",
      "\n",
      "Convert dataset:  31%|███       | 6144/20000 [00:31<01:13, 189.77it/s]\u001b[A\u001b[A\n",
      "\n",
      "Convert dataset:  31%|███       | 6169/20000 [00:31<01:09, 197.97it/s]\u001b[A\u001b[A\n",
      "\n",
      "Convert dataset:  31%|███       | 6190/20000 [00:31<01:08, 200.41it/s]\u001b[A\u001b[A\n",
      "\n",
      "Convert dataset:  31%|███       | 6211/20000 [00:31<01:23, 165.01it/s]\u001b[A\u001b[A\n",
      "\n",
      "Convert dataset:  31%|███       | 6229/20000 [00:32<01:25, 160.24it/s]\u001b[A\u001b[A\n",
      "\n",
      "Convert dataset:  31%|███▏      | 6251/20000 [00:32<01:19, 173.52it/s]\u001b[A\u001b[A\n",
      "\n",
      "Convert dataset:  31%|███▏      | 6270/20000 [00:32<01:54, 120.31it/s]\u001b[A\u001b[A\n",
      "\n",
      "Convert dataset:  31%|███▏      | 6294/20000 [00:32<01:37, 140.81it/s]\u001b[A\u001b[A\n",
      "\n",
      "Convert dataset:  32%|███▏      | 6326/20000 [00:32<01:21, 167.89it/s]\u001b[A\u001b[A\n",
      "\n",
      "Convert dataset:  32%|███▏      | 6348/20000 [00:32<01:17, 176.00it/s]\u001b[A\u001b[A\n",
      "\n",
      "Convert dataset:  32%|███▏      | 6369/20000 [00:32<01:25, 158.50it/s]\u001b[A\u001b[A\n",
      "\n",
      "Convert dataset:  32%|███▏      | 6388/20000 [00:33<01:33, 144.90it/s]\u001b[A\u001b[A\n",
      "\n",
      "Convert dataset:  32%|███▏      | 6415/20000 [00:33<01:21, 166.38it/s]\u001b[A\u001b[A\n",
      "\n",
      "Convert dataset:  32%|███▏      | 6441/20000 [00:33<01:13, 185.09it/s]\u001b[A\u001b[A\n",
      "\n",
      "Convert dataset:  32%|███▏      | 6462/20000 [00:33<01:14, 182.01it/s]\u001b[A\u001b[A\n",
      "\n",
      "Convert dataset:  32%|███▏      | 6482/20000 [00:33<01:12, 185.82it/s]\u001b[A\u001b[A\n",
      "\n",
      "Convert dataset:  33%|███▎      | 6502/20000 [00:33<01:15, 178.44it/s]\u001b[A\u001b[A\n",
      "\n",
      "Convert dataset:  33%|███▎      | 6525/20000 [00:33<01:10, 190.11it/s]\u001b[A\u001b[A\n",
      "\n",
      "Convert dataset:  33%|███▎      | 6545/20000 [00:33<01:11, 187.87it/s]\u001b[A\u001b[A\n",
      "\n",
      "Convert dataset:  33%|███▎      | 6569/20000 [00:33<01:07, 199.18it/s]\u001b[A\u001b[A\n",
      "\n",
      "Convert dataset:  33%|███▎      | 6594/20000 [00:34<01:04, 208.93it/s]\u001b[A\u001b[A\n",
      "\n",
      "Convert dataset:  33%|███▎      | 6624/20000 [00:34<00:58, 227.81it/s]\u001b[A\u001b[A\n",
      "\n",
      "Convert dataset:  33%|███▎      | 6650/20000 [00:34<00:57, 233.01it/s]\u001b[A\u001b[A\n",
      "\n",
      "Convert dataset:  33%|███▎      | 6674/20000 [00:34<01:02, 214.93it/s]\u001b[A\u001b[A\n",
      "\n",
      "Convert dataset:  33%|███▎      | 6697/20000 [00:34<01:01, 217.96it/s]\u001b[A\u001b[A\n",
      "\n",
      "Convert dataset:  34%|███▎      | 6725/20000 [00:34<00:57, 230.83it/s]\u001b[A\u001b[A\n",
      "\n",
      "Convert dataset:  34%|███▎      | 6749/20000 [00:34<00:59, 224.43it/s]\u001b[A\u001b[A\n",
      "\n",
      "Convert dataset:  34%|███▍      | 6772/20000 [00:34<01:03, 208.28it/s]\u001b[A\u001b[A\n",
      "\n",
      "Convert dataset:  34%|███▍      | 6794/20000 [00:34<01:08, 194.07it/s]\u001b[A\u001b[A\n",
      "\n",
      "Convert dataset:  34%|███▍      | 6814/20000 [00:35<01:11, 184.08it/s]\u001b[A\u001b[A\n",
      "\n",
      "Convert dataset:  34%|███▍      | 6835/20000 [00:35<01:09, 189.39it/s]\u001b[A\u001b[A\n",
      "\n",
      "Convert dataset:  34%|███▍      | 6855/20000 [00:35<01:09, 190.18it/s]\u001b[A\u001b[A\n",
      "\n",
      "Convert dataset:  34%|███▍      | 6880/20000 [00:35<01:04, 204.59it/s]\u001b[A\u001b[A\n",
      "\n",
      "Convert dataset:  35%|███▍      | 6901/20000 [00:35<01:07, 194.60it/s]\u001b[A\u001b[A\n",
      "\n",
      "Convert dataset:  35%|███▍      | 6921/20000 [00:35<01:09, 188.64it/s]\u001b[A\u001b[A\n",
      "\n",
      "Convert dataset:  35%|███▍      | 6941/20000 [00:35<01:16, 171.07it/s]\u001b[A\u001b[A\n",
      "\n",
      "Convert dataset:  35%|███▍      | 6959/20000 [00:35<01:22, 158.60it/s]\u001b[A\u001b[A\n",
      "\n",
      "Convert dataset:  35%|███▍      | 6983/20000 [00:35<01:13, 176.18it/s]\u001b[A\u001b[A\n",
      "\n",
      "Convert dataset:  35%|███▌      | 7004/20000 [00:36<01:13, 176.52it/s]\u001b[A\u001b[A\n",
      "\n",
      "Convert dataset:  35%|███▌      | 7029/20000 [00:36<01:07, 193.14it/s]\u001b[A\u001b[A\n",
      "\n",
      "Convert dataset:  35%|███▌      | 7053/20000 [00:36<01:03, 205.13it/s]\u001b[A\u001b[A\n",
      "\n",
      "Convert dataset:  35%|███▌      | 7079/20000 [00:36<00:59, 216.16it/s]\u001b[A\u001b[A\n",
      "\n",
      "Convert dataset:  36%|███▌      | 7102/20000 [00:36<01:00, 214.23it/s]\u001b[A\u001b[A\n",
      "\n",
      "Convert dataset:  36%|███▌      | 7127/20000 [00:36<00:57, 223.45it/s]\u001b[A\u001b[A\n",
      "\n",
      "Convert dataset:  36%|███▌      | 7150/20000 [00:36<01:04, 198.07it/s]\u001b[A\u001b[A\n",
      "\n",
      "Convert dataset:  36%|███▌      | 7171/20000 [00:36<01:09, 185.30it/s]\u001b[A\u001b[A\n",
      "\n",
      "Convert dataset:  36%|███▌      | 7191/20000 [00:37<01:15, 170.50it/s]\u001b[A\u001b[A\n",
      "\n",
      "Convert dataset:  36%|███▌      | 7212/20000 [00:37<01:11, 179.83it/s]\u001b[A\u001b[A\n",
      "\n",
      "Convert dataset:  36%|███▌      | 7231/20000 [00:37<01:11, 179.57it/s]\u001b[A\u001b[A\n",
      "\n",
      "Convert dataset:  36%|███▋      | 7252/20000 [00:37<01:08, 187.31it/s]\u001b[A\u001b[A\n",
      "\n",
      "Convert dataset:  36%|███▋      | 7276/20000 [00:37<01:03, 200.30it/s]\u001b[A\u001b[A\n",
      "\n",
      "Convert dataset:  37%|███▋      | 7333/20000 [00:37<00:51, 246.20it/s]\u001b[A\u001b[A\n",
      "\n",
      "Convert dataset:  37%|███▋      | 7364/20000 [00:37<00:51, 246.92it/s]\u001b[A\u001b[A\n",
      "\n",
      "Convert dataset:  37%|███▋      | 7393/20000 [00:37<00:55, 228.66it/s]\u001b[A\u001b[A\n",
      "\n",
      "Convert dataset:  37%|███▋      | 7419/20000 [00:37<00:59, 212.80it/s]\u001b[A\u001b[A\n",
      "\n",
      "Convert dataset:  37%|███▋      | 7443/20000 [00:38<01:01, 203.39it/s]\u001b[A\u001b[A\n",
      "\n",
      "Convert dataset:  37%|███▋      | 7466/20000 [00:38<01:04, 195.31it/s]\u001b[A\u001b[A\n",
      "\n",
      "Convert dataset:  37%|███▋      | 7487/20000 [00:38<01:06, 186.87it/s]\u001b[A\u001b[A\n",
      "\n",
      "Convert dataset:  38%|███▊      | 7512/20000 [00:38<01:02, 199.52it/s]\u001b[A\u001b[A\n",
      "\n",
      "Convert dataset:  38%|███▊      | 7533/20000 [00:38<01:06, 186.99it/s]\u001b[A\u001b[A\n",
      "\n",
      "Convert dataset:  38%|███▊      | 7556/20000 [00:38<01:03, 195.12it/s]\u001b[A\u001b[A\n",
      "\n",
      "Convert dataset:  38%|███▊      | 7577/20000 [00:38<01:08, 181.69it/s]\u001b[A\u001b[A\n",
      "\n",
      "Convert dataset:  38%|███▊      | 7596/20000 [00:38<01:12, 171.18it/s]\u001b[A\u001b[A\n",
      "\n",
      "Convert dataset:  38%|███▊      | 7617/20000 [00:39<01:09, 176.96it/s]\u001b[A\u001b[A\n",
      "\n",
      "Convert dataset:  38%|███▊      | 7646/20000 [00:39<01:02, 199.13it/s]\u001b[A\u001b[A\n",
      "\n",
      "Convert dataset:  38%|███▊      | 7668/20000 [00:39<01:01, 201.29it/s]\u001b[A\u001b[A\n",
      "\n",
      "Convert dataset:  38%|███▊      | 7689/20000 [00:39<01:04, 190.33it/s]\u001b[A\u001b[A\n",
      "\n",
      "Convert dataset:  39%|███▊      | 7709/20000 [00:39<01:06, 185.71it/s]\u001b[A\u001b[A\n",
      "\n",
      "Convert dataset:  39%|███▊      | 7738/20000 [00:39<01:00, 201.92it/s]\u001b[A\u001b[A\n",
      "\n",
      "Convert dataset:  39%|███▉      | 7762/20000 [00:39<00:57, 211.64it/s]\u001b[A\u001b[A\n",
      "\n",
      "Convert dataset:  39%|███▉      | 7784/20000 [00:39<00:59, 205.79it/s]\u001b[A\u001b[A\n",
      "\n",
      "Convert dataset:  39%|███▉      | 7806/20000 [00:39<01:01, 198.03it/s]\u001b[A\u001b[A\n",
      "\n",
      "Convert dataset:  39%|███▉      | 7827/20000 [00:40<01:07, 180.47it/s]\u001b[A\u001b[A\n",
      "\n",
      "Convert dataset:  39%|███▉      | 7846/20000 [00:40<01:09, 173.65it/s]\u001b[A\u001b[A\n",
      "\n",
      "Convert dataset:  39%|███▉      | 7866/20000 [00:40<01:07, 179.31it/s]\u001b[A\u001b[A\n",
      "\n",
      "Convert dataset:  39%|███▉      | 7885/20000 [00:40<01:08, 176.04it/s]\u001b[A\u001b[A\n",
      "\n",
      "Convert dataset:  40%|███▉      | 7908/20000 [00:40<01:04, 188.82it/s]\u001b[A\u001b[A\n",
      "\n",
      "Convert dataset:  40%|███▉      | 7933/20000 [00:40<00:59, 202.56it/s]\u001b[A\u001b[A\n",
      "\n",
      "Convert dataset:  40%|███▉      | 7962/20000 [00:40<00:54, 222.44it/s]\u001b[A\u001b[A\n",
      "\n",
      "Convert dataset:  40%|███▉      | 7986/20000 [00:40<00:53, 225.34it/s]\u001b[A\u001b[A\n",
      "\n",
      "Convert dataset:  40%|████      | 8010/20000 [00:40<00:57, 206.86it/s]\u001b[A\u001b[A\n",
      "\n",
      "Convert dataset:  40%|████      | 8033/20000 [00:41<00:57, 207.21it/s]\u001b[A\u001b[A\n",
      "\n",
      "Convert dataset:  40%|████      | 8055/20000 [00:41<01:08, 174.46it/s]\u001b[A\u001b[A\n",
      "\n",
      "Convert dataset:  40%|████      | 8075/20000 [00:41<01:06, 179.71it/s]\u001b[A\u001b[A\n",
      "\n",
      "Convert dataset:  40%|████      | 8098/20000 [00:41<01:02, 190.18it/s]\u001b[A\u001b[A\n",
      "\n",
      "Convert dataset:  41%|████      | 8118/20000 [00:41<01:03, 185.70it/s]\u001b[A\u001b[A\n",
      "\n",
      "Convert dataset:  41%|████      | 8138/20000 [00:41<01:08, 172.55it/s]\u001b[A\u001b[A\n",
      "\n",
      "Convert dataset:  41%|████      | 8156/20000 [00:41<01:08, 172.47it/s]\u001b[A\u001b[A\n",
      "\n",
      "Convert dataset:  41%|████      | 8183/20000 [00:41<01:01, 192.75it/s]\u001b[A\u001b[A\n",
      "\n",
      "Convert dataset:  41%|████      | 8204/20000 [00:42<01:01, 192.63it/s]\u001b[A\u001b[A\n",
      "\n",
      "Convert dataset:  41%|████      | 8225/20000 [00:42<01:05, 179.56it/s]\u001b[A\u001b[A\n",
      "\n",
      "Convert dataset:  41%|████      | 8244/20000 [00:42<01:05, 179.81it/s]\u001b[A\u001b[A\n",
      "\n",
      "Convert dataset:  41%|████▏     | 8263/20000 [00:42<01:07, 173.02it/s]\u001b[A\u001b[A\n",
      "\n",
      "Convert dataset:  41%|████▏     | 8285/20000 [00:42<01:03, 183.24it/s]\u001b[A\u001b[A\n",
      "\n",
      "Convert dataset:  42%|████▏     | 8307/20000 [00:42<01:01, 191.30it/s]\u001b[A\u001b[A\n",
      "\n",
      "Convert dataset:  42%|████▏     | 8327/20000 [00:42<01:02, 186.15it/s]\u001b[A\u001b[A\n",
      "\n",
      "Convert dataset:  42%|████▏     | 8350/20000 [00:42<00:59, 195.25it/s]\u001b[A\u001b[A\n",
      "\n",
      "Convert dataset:  42%|████▏     | 8370/20000 [00:42<01:04, 179.61it/s]\u001b[A\u001b[A\n",
      "\n",
      "Convert dataset:  42%|████▏     | 8389/20000 [00:43<01:03, 182.50it/s]\u001b[A\u001b[A\n",
      "\n",
      "Convert dataset:  42%|████▏     | 8408/20000 [00:43<01:05, 176.17it/s]\u001b[A\u001b[A\n",
      "\n",
      "Convert dataset:  42%|████▏     | 8426/20000 [00:43<01:25, 136.06it/s]\u001b[A\u001b[A\n",
      "\n",
      "Convert dataset:  42%|████▏     | 8442/20000 [00:43<01:27, 132.67it/s]\u001b[A\u001b[A\n",
      "\n",
      "Convert dataset:  42%|████▏     | 8467/20000 [00:43<01:14, 153.98it/s]\u001b[A\u001b[A\n",
      "\n",
      "Convert dataset:  42%|████▏     | 8489/20000 [00:43<01:08, 169.20it/s]\u001b[A\u001b[A\n",
      "\n",
      "Convert dataset:  43%|████▎     | 8508/20000 [00:43<01:05, 174.50it/s]\u001b[A\u001b[A\n",
      "\n",
      "Convert dataset:  43%|████▎     | 8532/20000 [00:43<01:00, 189.82it/s]\u001b[A\u001b[A\n",
      "\n",
      "Convert dataset:  43%|████▎     | 8553/20000 [00:44<01:01, 186.60it/s]\u001b[A\u001b[A\n",
      "\n",
      "Convert dataset:  43%|████▎     | 8573/20000 [00:44<01:03, 181.35it/s]\u001b[A\u001b[A\n",
      "\n",
      "Convert dataset:  43%|████▎     | 8593/20000 [00:44<01:02, 182.40it/s]\u001b[A\u001b[A\n",
      "\n",
      "Convert dataset:  43%|████▎     | 8617/20000 [00:44<00:59, 192.12it/s]\u001b[A\u001b[A\n",
      "\n",
      "Convert dataset:  43%|████▎     | 8637/20000 [00:44<01:06, 171.94it/s]\u001b[A\u001b[A\n",
      "\n",
      "Convert dataset:  43%|████▎     | 8655/20000 [00:44<01:08, 166.80it/s]\u001b[A\u001b[A\n",
      "\n",
      "Convert dataset:  43%|████▎     | 8676/20000 [00:44<01:05, 173.81it/s]\u001b[A\u001b[A\n",
      "\n",
      "Convert dataset:  43%|████▎     | 8696/20000 [00:44<01:03, 178.65it/s]\u001b[A\u001b[A\n",
      "\n",
      "Convert dataset:  44%|████▎     | 8715/20000 [00:44<01:02, 181.03it/s]\u001b[A\u001b[A\n",
      "\n",
      "Convert dataset:  44%|████▎     | 8742/20000 [00:45<00:56, 200.82it/s]\u001b[A\u001b[A\n",
      "\n",
      "Convert dataset:  44%|████▍     | 8763/20000 [00:45<00:58, 191.50it/s]\u001b[A\u001b[A\n",
      "\n",
      "Convert dataset:  44%|████▍     | 8791/20000 [00:45<00:56, 198.17it/s]\u001b[A\u001b[A\n",
      "\n",
      "Convert dataset:  44%|████▍     | 8812/20000 [00:45<00:56, 198.65it/s]\u001b[A\u001b[A\n",
      "\n",
      "Convert dataset:  44%|████▍     | 8833/20000 [00:45<00:56, 198.35it/s]\u001b[A\u001b[A\n",
      "\n",
      "Convert dataset:  44%|████▍     | 8854/20000 [00:45<00:58, 192.05it/s]\u001b[A\u001b[A\n",
      "\n",
      "Convert dataset:  44%|████▍     | 8874/20000 [00:45<01:04, 172.03it/s]\u001b[A\u001b[A\n",
      "\n",
      "Convert dataset:  44%|████▍     | 8892/20000 [00:45<01:06, 166.11it/s]\u001b[A\u001b[A\n",
      "\n",
      "Convert dataset:  45%|████▍     | 8913/20000 [00:45<01:03, 174.76it/s]\u001b[A\u001b[A\n",
      "\n",
      "Convert dataset:  45%|████▍     | 8933/20000 [00:46<01:01, 178.86it/s]\u001b[A\u001b[A\n",
      "\n",
      "Convert dataset:  45%|████▍     | 8952/20000 [00:46<01:04, 170.35it/s]\u001b[A\u001b[A\n",
      "\n",
      "Convert dataset:  45%|████▍     | 8970/20000 [00:46<01:09, 159.43it/s]\u001b[A\u001b[A\n",
      "\n",
      "Convert dataset:  45%|████▍     | 8990/20000 [00:46<01:05, 168.01it/s]\u001b[A\u001b[A\n",
      "\n",
      "Convert dataset:  45%|████▌     | 9015/20000 [00:46<00:59, 184.57it/s]\u001b[A\u001b[A\n",
      "\n",
      "Convert dataset:  45%|████▌     | 9038/20000 [00:46<00:56, 194.91it/s]\u001b[A\u001b[A\n",
      "\n",
      "Convert dataset:  45%|████▌     | 9060/20000 [00:46<00:54, 201.63it/s]\u001b[A\u001b[A\n",
      "\n",
      "Convert dataset:  45%|████▌     | 9088/20000 [00:46<00:49, 219.74it/s]\u001b[A\u001b[A\n",
      "\n",
      "Convert dataset:  46%|████▌     | 9111/20000 [00:47<01:01, 176.68it/s]\u001b[A\u001b[A\n",
      "\n",
      "Convert dataset:  46%|████▌     | 9134/20000 [00:47<00:57, 189.61it/s]\u001b[A\u001b[A\n",
      "\n",
      "Convert dataset:  46%|████▌     | 9155/20000 [00:47<01:08, 158.05it/s]\u001b[A\u001b[A\n",
      "\n",
      "Convert dataset:  46%|████▌     | 9173/20000 [00:47<01:10, 153.32it/s]\u001b[A\u001b[A\n",
      "\n",
      "Convert dataset:  46%|████▌     | 9195/20000 [00:47<01:04, 167.98it/s]\u001b[A\u001b[A\n",
      "\n",
      "Convert dataset:  46%|████▌     | 9216/20000 [00:47<01:00, 178.42it/s]\u001b[A\u001b[A\n",
      "\n",
      "Convert dataset:  46%|████▌     | 9237/20000 [00:47<00:57, 186.74it/s]\u001b[A\u001b[A\n",
      "\n",
      "Convert dataset:  46%|████▋     | 9257/20000 [00:47<00:57, 186.89it/s]\u001b[A\u001b[A\n",
      "\n",
      "Convert dataset:  46%|████▋     | 9277/20000 [00:47<00:59, 180.13it/s]\u001b[A\u001b[A\n",
      "\n",
      "Convert dataset:  46%|████▋     | 9296/20000 [00:48<01:01, 173.54it/s]\u001b[A\u001b[A\n",
      "\n",
      "Convert dataset:  47%|████▋     | 9319/20000 [00:48<00:57, 185.24it/s]\u001b[A\u001b[A\n",
      "\n",
      "Convert dataset:  47%|████▋     | 9339/20000 [00:48<01:03, 168.89it/s]\u001b[A\u001b[A\n",
      "\n",
      "Convert dataset:  47%|████▋     | 9358/20000 [00:48<01:01, 174.01it/s]\u001b[A\u001b[A\n",
      "\n",
      "Convert dataset:  47%|████▋     | 9376/20000 [00:48<01:09, 152.18it/s]\u001b[A\u001b[A\n",
      "\n",
      "Convert dataset:  47%|████▋     | 9393/20000 [00:48<01:12, 147.01it/s]\u001b[A\u001b[A\n",
      "\n",
      "Convert dataset:  47%|████▋     | 9421/20000 [00:48<01:01, 171.40it/s]\u001b[A\u001b[A\n",
      "\n",
      "Convert dataset:  47%|████▋     | 9441/20000 [00:48<01:00, 173.28it/s]\u001b[A\u001b[A\n",
      "\n",
      "Convert dataset:  47%|████▋     | 9470/20000 [00:49<00:53, 195.42it/s]\u001b[A\u001b[A\n",
      "\n",
      "Convert dataset:  47%|████▋     | 9492/20000 [00:49<00:58, 180.87it/s]\u001b[A\u001b[A\n",
      "\n",
      "Convert dataset:  48%|████▊     | 9514/20000 [00:49<00:54, 191.02it/s]\u001b[A\u001b[A\n",
      "\n",
      "Convert dataset:  48%|████▊     | 9535/20000 [00:49<00:55, 189.08it/s]\u001b[A\u001b[A\n",
      "\n",
      "Convert dataset:  48%|████▊     | 9555/20000 [00:49<01:10, 147.28it/s]\u001b[A\u001b[A\n",
      "\n",
      "Convert dataset:  48%|████▊     | 9576/20000 [00:49<01:05, 160.03it/s]\u001b[A\u001b[A\n",
      "\n",
      "Convert dataset:  48%|████▊     | 9594/20000 [00:49<01:04, 162.19it/s]\u001b[A\u001b[A\n",
      "\n",
      "Convert dataset:  48%|████▊     | 9612/20000 [00:49<01:05, 158.10it/s]\u001b[A\u001b[A\n",
      "\n",
      "Convert dataset:  48%|████▊     | 9633/20000 [00:50<01:00, 170.29it/s]\u001b[A\u001b[A\n",
      "\n",
      "Convert dataset:  48%|████▊     | 9655/20000 [00:50<00:56, 181.77it/s]\u001b[A\u001b[A\n",
      "\n",
      "Convert dataset:  48%|████▊     | 9675/20000 [00:50<01:08, 151.12it/s]\u001b[A\u001b[A\n",
      "\n",
      "Convert dataset:  48%|████▊     | 9700/20000 [00:50<01:00, 170.41it/s]\u001b[A\u001b[A\n",
      "\n",
      "Convert dataset:  49%|████▊     | 9719/20000 [00:50<00:58, 175.31it/s]\u001b[A\u001b[A\n",
      "\n",
      "Convert dataset:  49%|████▊     | 9739/20000 [00:50<00:58, 176.11it/s]\u001b[A\u001b[A\n",
      "\n",
      "Convert dataset:  49%|████▉     | 9758/20000 [00:50<00:59, 173.32it/s]\u001b[A\u001b[A\n",
      "\n",
      "Convert dataset:  49%|████▉     | 9776/20000 [00:50<01:00, 168.47it/s]\u001b[A\u001b[A\n",
      "\n",
      "Convert dataset:  49%|████▉     | 9796/20000 [00:50<00:58, 174.10it/s]\u001b[A\u001b[A\n",
      "\n",
      "Convert dataset:  49%|████▉     | 9814/20000 [00:51<00:59, 170.89it/s]\u001b[A\u001b[A\n",
      "\n",
      "Convert dataset:  49%|████▉     | 9842/20000 [00:51<00:53, 190.75it/s]\u001b[A\u001b[A\n",
      "\n",
      "Convert dataset:  49%|████▉     | 9863/20000 [00:51<00:55, 183.15it/s]\u001b[A\u001b[A\n",
      "\n",
      "Convert dataset:  49%|████▉     | 9883/20000 [00:51<00:59, 170.67it/s]\u001b[A\u001b[A\n",
      "\n",
      "Convert dataset:  50%|████▉     | 9901/20000 [00:51<00:58, 172.03it/s]\u001b[A\u001b[A\n",
      "\n",
      "Convert dataset:  50%|████▉     | 9922/20000 [00:51<00:56, 179.12it/s]\u001b[A\u001b[A\n",
      "\n",
      "Convert dataset:  50%|████▉     | 9941/20000 [00:51<01:00, 166.15it/s]\u001b[A\u001b[A\n",
      "\n",
      "Convert dataset:  50%|████▉     | 9959/20000 [00:51<00:59, 167.74it/s]\u001b[A\u001b[A\n",
      "\n",
      "Convert dataset:  50%|████▉     | 9977/20000 [00:52<01:00, 165.42it/s]\u001b[A\u001b[A\n",
      "\n",
      "Convert dataset:  50%|████▉     | 9998/20000 [00:52<00:58, 172.00it/s]\u001b[A\u001b[A\n",
      "\n",
      "Convert dataset:  50%|█████     | 10025/20000 [00:52<00:51, 191.88it/s]\u001b[A\u001b[A\n",
      "\n",
      "Convert dataset:  50%|█████     | 10050/20000 [00:52<00:48, 203.63it/s]\u001b[A\u001b[A\n",
      "\n",
      "Convert dataset:  50%|█████     | 10072/20000 [00:52<00:51, 190.96it/s]\u001b[A\u001b[A\n",
      "\n",
      "Convert dataset:  50%|█████     | 10092/20000 [00:52<00:54, 183.28it/s]\u001b[A\u001b[A\n",
      "\n",
      "Convert dataset:  51%|█████     | 10112/20000 [00:52<00:52, 187.85it/s]\u001b[A\u001b[A\n",
      "\n",
      "Convert dataset:  51%|█████     | 10132/20000 [00:52<00:52, 187.49it/s]\u001b[A\u001b[A\n",
      "\n",
      "Convert dataset:  51%|█████     | 10164/20000 [00:52<00:46, 213.71it/s]\u001b[A\u001b[A\n",
      "\n",
      "Convert dataset:  51%|█████     | 10187/20000 [00:53<00:52, 187.21it/s]\u001b[A\u001b[A\n",
      "\n",
      "Convert dataset:  51%|█████     | 10208/20000 [00:53<00:54, 180.24it/s]\u001b[A\u001b[A\n",
      "\n",
      "Convert dataset:  51%|█████     | 10234/20000 [00:53<00:49, 198.09it/s]\u001b[A\u001b[A\n",
      "\n",
      "Convert dataset:  51%|█████▏    | 10256/20000 [00:53<00:56, 173.07it/s]\u001b[A\u001b[A\n",
      "\n",
      "Convert dataset:  51%|█████▏    | 10275/20000 [00:53<00:58, 165.74it/s]\u001b[A\u001b[A\n",
      "\n",
      "Convert dataset:  51%|█████▏    | 10294/20000 [00:53<00:58, 165.18it/s]\u001b[A\u001b[A\n",
      "\n",
      "Convert dataset:  52%|█████▏    | 10314/20000 [00:53<00:55, 173.89it/s]\u001b[A\u001b[A\n",
      "\n",
      "Convert dataset:  52%|█████▏    | 10334/20000 [00:53<00:53, 180.88it/s]\u001b[A\u001b[A\n",
      "\n",
      "Convert dataset:  52%|█████▏    | 10353/20000 [00:53<00:52, 183.23it/s]\u001b[A\u001b[A\n",
      "\n",
      "Convert dataset:  52%|█████▏    | 10372/20000 [00:54<00:56, 171.24it/s]\u001b[A\u001b[A\n",
      "\n",
      "Convert dataset:  52%|█████▏    | 10391/20000 [00:54<00:54, 175.87it/s]\u001b[A\u001b[A\n",
      "\n",
      "Convert dataset:  52%|█████▏    | 10411/20000 [00:54<00:52, 181.62it/s]\u001b[A\u001b[A\n",
      "\n",
      "Convert dataset:  52%|█████▏    | 10430/20000 [00:54<00:57, 165.58it/s]\u001b[A\u001b[A\n",
      "\n",
      "Convert dataset:  52%|█████▏    | 10457/20000 [00:54<00:51, 184.32it/s]\u001b[A\u001b[A\n",
      "\n",
      "Convert dataset:  52%|█████▏    | 10477/20000 [00:54<00:54, 173.43it/s]\u001b[A\u001b[A\n",
      "\n",
      "Convert dataset:  52%|█████▏    | 10496/20000 [00:54<00:55, 172.24it/s]\u001b[A\u001b[A\n",
      "\n",
      "Convert dataset:  53%|█████▎    | 10519/20000 [00:54<00:50, 186.20it/s]\u001b[A\u001b[A\n",
      "\n",
      "Convert dataset:  53%|█████▎    | 10539/20000 [00:55<00:51, 183.08it/s]\u001b[A\u001b[A\n",
      "\n",
      "Convert dataset:  53%|█████▎    | 10561/20000 [00:55<00:49, 190.94it/s]\u001b[A\u001b[A\n",
      "\n",
      "Convert dataset:  53%|█████▎    | 10586/20000 [00:55<00:46, 204.65it/s]\u001b[A\u001b[A\n",
      "\n",
      "Convert dataset:  53%|█████▎    | 10608/20000 [00:55<00:47, 198.58it/s]\u001b[A\u001b[A\n",
      "\n",
      "Convert dataset:  53%|█████▎    | 10629/20000 [00:55<00:50, 184.43it/s]\u001b[A\u001b[A\n",
      "\n",
      "Convert dataset:  53%|█████▎    | 10651/20000 [00:55<00:48, 191.73it/s]\u001b[A\u001b[A\n",
      "\n",
      "Convert dataset:  53%|█████▎    | 10671/20000 [00:55<00:48, 192.89it/s]\u001b[A\u001b[A\n",
      "\n",
      "Convert dataset:  53%|█████▎    | 10693/20000 [00:55<00:47, 197.64it/s]\u001b[A\u001b[A\n",
      "\n",
      "Convert dataset:  54%|█████▎    | 10714/20000 [00:55<00:48, 190.26it/s]\u001b[A\u001b[A\n",
      "\n",
      "Convert dataset:  54%|█████▎    | 10734/20000 [00:56<00:48, 190.19it/s]\u001b[A\u001b[A\n",
      "\n",
      "Convert dataset:  54%|█████▍    | 10754/20000 [00:56<00:49, 188.05it/s]\u001b[A\u001b[A\n",
      "\n",
      "Convert dataset:  54%|█████▍    | 10779/20000 [00:56<00:45, 201.33it/s]\u001b[A\u001b[A\n",
      "\n",
      "Convert dataset:  54%|█████▍    | 10801/20000 [00:56<00:44, 206.43it/s]\u001b[A\u001b[A\n",
      "\n",
      "Convert dataset:  54%|█████▍    | 10823/20000 [00:56<00:44, 206.55it/s]\u001b[A\u001b[A\n",
      "\n",
      "Convert dataset:  54%|█████▍    | 10844/20000 [00:56<00:44, 206.67it/s]\u001b[A\u001b[A\n",
      "\n",
      "Convert dataset:  54%|█████▍    | 10865/20000 [00:56<00:44, 203.19it/s]\u001b[A\u001b[A\n",
      "\n",
      "Convert dataset:  54%|█████▍    | 10891/20000 [00:56<00:42, 216.22it/s]\u001b[A\u001b[A\n",
      "\n",
      "Convert dataset:  55%|█████▍    | 10913/20000 [00:56<00:47, 192.66it/s]\u001b[A\u001b[A\n",
      "\n",
      "Convert dataset:  55%|█████▍    | 10933/20000 [00:57<00:49, 184.55it/s]\u001b[A\u001b[A\n",
      "\n",
      "Convert dataset:  55%|█████▍    | 10953/20000 [00:57<00:53, 167.88it/s]\u001b[A\u001b[A\n",
      "\n",
      "Convert dataset:  55%|█████▍    | 10972/20000 [00:57<00:51, 173.92it/s]\u001b[A\u001b[A\n",
      "\n",
      "Convert dataset:  55%|█████▍    | 10990/20000 [00:57<00:51, 174.05it/s]\u001b[A\u001b[A\n",
      "\n",
      "Convert dataset:  55%|█████▌    | 11008/20000 [00:57<00:52, 169.67it/s]\u001b[A\u001b[A\n",
      "\n",
      "Convert dataset:  55%|█████▌    | 11026/20000 [00:57<00:54, 164.25it/s]\u001b[A\u001b[A\n",
      "\n",
      "Convert dataset:  55%|█████▌    | 11043/20000 [00:57<00:55, 160.56it/s]\u001b[A\u001b[A\n",
      "\n",
      "Convert dataset:  55%|█████▌    | 11060/20000 [00:57<00:57, 156.25it/s]\u001b[A\u001b[A\n",
      "\n",
      "Convert dataset:  55%|█████▌    | 11082/20000 [00:57<00:52, 170.36it/s]\u001b[A\u001b[A\n",
      "\n",
      "Convert dataset:  56%|█████▌    | 11100/20000 [00:58<00:52, 168.72it/s]\u001b[A\u001b[A\n",
      "\n",
      "Convert dataset:  56%|█████▌    | 11123/20000 [00:58<00:48, 181.87it/s]\u001b[A\u001b[A\n",
      "\n",
      "Convert dataset:  56%|█████▌    | 11142/20000 [00:58<00:49, 178.92it/s]\u001b[A\u001b[A\n",
      "\n",
      "Convert dataset:  56%|█████▌    | 11161/20000 [00:58<00:49, 177.67it/s]\u001b[A\u001b[A\n",
      "\n",
      "Convert dataset:  56%|█████▌    | 11180/20000 [00:58<00:52, 167.06it/s]\u001b[A\u001b[A\n",
      "\n",
      "Convert dataset:  56%|█████▌    | 11198/20000 [00:58<00:55, 157.99it/s]\u001b[A\u001b[A\n",
      "\n",
      "Convert dataset:  56%|█████▌    | 11215/20000 [00:58<01:00, 144.70it/s]\u001b[A\u001b[A\n",
      "\n",
      "Convert dataset:  56%|█████▌    | 11230/20000 [00:58<01:10, 124.09it/s]\u001b[A\u001b[A\n",
      "\n",
      "Convert dataset:  56%|█████▋    | 11251/20000 [00:59<01:02, 140.31it/s]\u001b[A\u001b[A\n",
      "\n",
      "Convert dataset:  56%|█████▋    | 11272/20000 [00:59<00:56, 153.39it/s]\u001b[A\u001b[A\n",
      "\n",
      "Convert dataset:  56%|█████▋    | 11290/20000 [00:59<00:55, 157.35it/s]\u001b[A\u001b[A\n",
      "\n",
      "Convert dataset:  57%|█████▋    | 11307/20000 [00:59<00:54, 160.56it/s]\u001b[A\u001b[A\n",
      "\n",
      "Convert dataset:  57%|█████▋    | 11333/20000 [00:59<00:48, 179.01it/s]\u001b[A\u001b[A\n",
      "\n",
      "Convert dataset:  57%|█████▋    | 11353/20000 [00:59<00:52, 164.84it/s]\u001b[A\u001b[A\n",
      "\n",
      "Convert dataset:  57%|█████▋    | 11377/20000 [00:59<00:49, 174.14it/s]\u001b[A\u001b[A\n",
      "\n",
      "Convert dataset:  57%|█████▋    | 11399/20000 [00:59<00:47, 182.55it/s]\u001b[A\u001b[A\n",
      "\n",
      "Convert dataset:  57%|█████▋    | 11418/20000 [00:59<00:49, 175.09it/s]\u001b[A\u001b[A\n",
      "\n",
      "Convert dataset:  57%|█████▋    | 11437/20000 [01:00<00:51, 166.76it/s]\u001b[A\u001b[A\n",
      "\n",
      "Convert dataset:  57%|█████▋    | 11457/20000 [01:00<00:49, 171.01it/s]\u001b[A\u001b[A\n",
      "\n",
      "Convert dataset:  57%|█████▋    | 11475/20000 [01:00<00:49, 170.86it/s]\u001b[A\u001b[A\n",
      "\n",
      "Convert dataset:  57%|█████▋    | 11493/20000 [01:00<00:49, 173.20it/s]\u001b[A\u001b[A\n",
      "\n",
      "Convert dataset:  58%|█████▊    | 11511/20000 [01:00<00:49, 170.53it/s]\u001b[A\u001b[A\n",
      "\n",
      "Convert dataset:  58%|█████▊    | 11533/20000 [01:00<00:47, 176.42it/s]\u001b[A\u001b[A\n",
      "\n",
      "Convert dataset:  58%|█████▊    | 11551/20000 [01:00<00:54, 154.48it/s]\u001b[A\u001b[A\n",
      "\n",
      "Convert dataset:  58%|█████▊    | 11568/20000 [01:00<00:56, 150.52it/s]\u001b[A\u001b[A\n",
      "\n",
      "Convert dataset:  58%|█████▊    | 11591/20000 [01:00<00:50, 165.36it/s]\u001b[A\u001b[A\n",
      "\n",
      "Convert dataset:  58%|█████▊    | 11609/20000 [01:01<00:49, 168.65it/s]\u001b[A\u001b[A\n",
      "\n",
      "Convert dataset:  58%|█████▊    | 11627/20000 [01:01<00:51, 163.83it/s]\u001b[A\u001b[A\n",
      "\n",
      "Convert dataset:  58%|█████▊    | 11644/20000 [01:01<00:52, 158.31it/s]\u001b[A\u001b[A\n",
      "\n",
      "Convert dataset:  58%|█████▊    | 11667/20000 [01:01<00:51, 163.32it/s]\u001b[A\u001b[A\n",
      "\n",
      "Convert dataset:  58%|█████▊    | 11684/20000 [01:01<00:56, 147.26it/s]\u001b[A\u001b[A\n",
      "\n",
      "Convert dataset:  59%|█████▊    | 11701/20000 [01:01<00:54, 152.03it/s]\u001b[A\u001b[A\n",
      "\n",
      "Convert dataset:  59%|█████▊    | 11717/20000 [01:01<00:54, 153.29it/s]\u001b[A\u001b[A\n",
      "\n",
      "Convert dataset:  59%|█████▊    | 11734/20000 [01:01<00:52, 157.06it/s]\u001b[A\u001b[A\n",
      "\n",
      "Convert dataset:  59%|█████▉    | 11750/20000 [01:02<00:58, 140.04it/s]\u001b[A\u001b[A\n",
      "\n",
      "Convert dataset:  59%|█████▉    | 11773/20000 [01:02<00:53, 154.41it/s]\u001b[A\u001b[A\n",
      "\n",
      "Convert dataset:  59%|█████▉    | 11790/20000 [01:02<00:53, 152.24it/s]\u001b[A\u001b[A\n",
      "\n",
      "Convert dataset:  59%|█████▉    | 11809/20000 [01:02<00:52, 157.10it/s]\u001b[A\u001b[A\n",
      "\n",
      "Convert dataset:  59%|█████▉    | 11840/20000 [01:02<00:44, 183.73it/s]\u001b[A\u001b[A\n",
      "\n",
      "Convert dataset:  59%|█████▉    | 11862/20000 [01:02<00:43, 188.12it/s]\u001b[A\u001b[A\n",
      "\n",
      "Convert dataset:  59%|█████▉    | 11883/20000 [01:02<00:42, 191.22it/s]\u001b[A\u001b[A\n",
      "\n",
      "Convert dataset:  60%|█████▉    | 11904/20000 [01:02<00:43, 187.02it/s]\u001b[A\u001b[A\n",
      "\n",
      "Convert dataset:  60%|█████▉    | 11924/20000 [01:02<00:48, 165.72it/s]\u001b[A\u001b[A\n",
      "\n",
      "Convert dataset:  60%|█████▉    | 11946/20000 [01:03<00:45, 176.75it/s]\u001b[A\u001b[A\n",
      "\n",
      "Convert dataset:  60%|█████▉    | 11965/20000 [01:03<00:47, 170.73it/s]\u001b[A\u001b[A\n",
      "\n",
      "Convert dataset:  60%|█████▉    | 11984/20000 [01:03<00:45, 175.21it/s]\u001b[A\u001b[A\n",
      "\n",
      "Convert dataset:  60%|██████    | 12003/20000 [01:03<00:46, 173.10it/s]\u001b[A\u001b[A\n",
      "\n",
      "Convert dataset:  60%|██████    | 12026/20000 [01:03<00:42, 186.97it/s]\u001b[A\u001b[A\n",
      "\n",
      "Convert dataset:  60%|██████    | 12046/20000 [01:03<00:44, 177.52it/s]\u001b[A\u001b[A\n",
      "\n",
      "Convert dataset:  60%|██████    | 12070/20000 [01:03<00:42, 187.76it/s]\u001b[A\u001b[A\n",
      "\n",
      "Convert dataset:  60%|██████    | 12091/20000 [01:03<00:41, 190.52it/s]\u001b[A\u001b[A\n",
      "\n",
      "Convert dataset:  61%|██████    | 12111/20000 [01:03<00:41, 188.74it/s]\u001b[A\u001b[A\n",
      "\n",
      "Convert dataset:  61%|██████    | 12131/20000 [01:04<00:46, 168.58it/s]\u001b[A\u001b[A\n",
      "\n",
      "Convert dataset:  61%|██████    | 12151/20000 [01:04<00:46, 170.37it/s]\u001b[A\u001b[A\n",
      "\n",
      "Convert dataset:  61%|██████    | 12169/20000 [01:04<00:47, 165.37it/s]\u001b[A\u001b[A\n",
      "\n",
      "Convert dataset:  61%|██████    | 12186/20000 [01:04<00:51, 151.11it/s]\u001b[A\u001b[A\n",
      "\n",
      "Convert dataset:  61%|██████    | 12202/20000 [01:04<00:54, 143.22it/s]\u001b[A\u001b[A\n",
      "\n",
      "Convert dataset:  61%|██████    | 12222/20000 [01:04<00:50, 152.54it/s]\u001b[A\u001b[A\n",
      "\n",
      "Convert dataset:  61%|██████    | 12238/20000 [01:04<00:50, 153.03it/s]\u001b[A\u001b[A\n",
      "\n",
      "Convert dataset:  61%|██████▏   | 12254/20000 [01:04<00:52, 147.44it/s]\u001b[A\u001b[A\n",
      "\n",
      "Convert dataset:  61%|██████▏   | 12270/20000 [01:05<00:51, 148.68it/s]\u001b[A\u001b[A\n",
      "\n",
      "Convert dataset:  61%|██████▏   | 12286/20000 [01:05<00:53, 143.18it/s]\u001b[A\u001b[A\n",
      "\n",
      "Convert dataset:  62%|██████▏   | 12303/20000 [01:05<00:52, 147.89it/s]\u001b[A\u001b[A\n",
      "\n",
      "Convert dataset:  62%|██████▏   | 12318/20000 [01:05<00:54, 139.78it/s]\u001b[A\u001b[A\n",
      "\n",
      "Convert dataset:  62%|██████▏   | 12333/20000 [01:05<00:55, 137.17it/s]\u001b[A\u001b[A\n",
      "\n",
      "Convert dataset:  62%|██████▏   | 12349/20000 [01:05<00:53, 141.85it/s]\u001b[A\u001b[A\n",
      "\n",
      "Convert dataset:  62%|██████▏   | 12365/20000 [01:05<00:52, 145.15it/s]\u001b[A\u001b[A\n",
      "\n",
      "Convert dataset:  62%|██████▏   | 12385/20000 [01:05<00:48, 156.16it/s]\u001b[A\u001b[A\n",
      "\n",
      "Convert dataset:  62%|██████▏   | 12401/20000 [01:05<00:51, 146.46it/s]\u001b[A\u001b[A\n",
      "\n",
      "Convert dataset:  62%|██████▏   | 12421/20000 [01:06<00:47, 158.22it/s]\u001b[A\u001b[A\n",
      "\n",
      "Convert dataset:  62%|██████▏   | 12439/20000 [01:06<00:46, 162.76it/s]\u001b[A\u001b[A\n",
      "\n",
      "Convert dataset:  62%|██████▏   | 12457/20000 [01:06<00:45, 165.99it/s]\u001b[A\u001b[A\n",
      "\n",
      "Convert dataset:  62%|██████▏   | 12474/20000 [01:06<00:46, 162.26it/s]\u001b[A\u001b[A\n",
      "\n",
      "Convert dataset:  62%|██████▏   | 12494/20000 [01:06<00:43, 171.54it/s]\u001b[A\u001b[A\n",
      "\n",
      "Convert dataset:  63%|██████▎   | 12512/20000 [01:06<00:47, 156.24it/s]\u001b[A\u001b[A\n",
      "\n",
      "Convert dataset:  63%|██████▎   | 12530/20000 [01:06<00:46, 162.32it/s]\u001b[A\u001b[A\n",
      "\n",
      "Convert dataset:  63%|██████▎   | 12549/20000 [01:06<00:45, 165.30it/s]\u001b[A\u001b[A\n",
      "\n",
      "Convert dataset:  63%|██████▎   | 12567/20000 [01:06<00:44, 167.67it/s]\u001b[A\u001b[A\n",
      "\n",
      "Convert dataset:  63%|██████▎   | 12591/20000 [01:07<00:40, 183.29it/s]\u001b[A\u001b[A\n",
      "\n",
      "Convert dataset:  63%|██████▎   | 12611/20000 [01:07<00:39, 185.47it/s]\u001b[A\u001b[A\n",
      "\n",
      "Convert dataset:  63%|██████▎   | 12630/20000 [01:07<00:46, 157.82it/s]\u001b[A\u001b[A\n",
      "\n",
      "Convert dataset:  63%|██████▎   | 12647/20000 [01:07<00:47, 155.90it/s]\u001b[A\u001b[A\n",
      "\n",
      "Convert dataset:  63%|██████▎   | 12664/20000 [01:07<00:47, 152.97it/s]\u001b[A\u001b[A\n",
      "\n",
      "Convert dataset:  63%|██████▎   | 12687/20000 [01:07<00:43, 168.25it/s]\u001b[A\u001b[A\n",
      "\n",
      "Convert dataset:  64%|██████▎   | 12710/20000 [01:07<00:40, 181.98it/s]\u001b[A\u001b[A\n",
      "\n",
      "Convert dataset:  64%|██████▎   | 12730/20000 [01:07<00:42, 172.31it/s]\u001b[A\u001b[A\n",
      "\n",
      "Convert dataset:  64%|██████▎   | 12748/20000 [01:07<00:42, 169.76it/s]\u001b[A\u001b[A\n",
      "\n",
      "Convert dataset:  64%|██████▍   | 12766/20000 [01:08<00:44, 160.76it/s]\u001b[A\u001b[A\n",
      "\n",
      "Convert dataset:  64%|██████▍   | 12786/20000 [01:08<00:42, 169.89it/s]\u001b[A\u001b[A\n",
      "\n",
      "Convert dataset:  64%|██████▍   | 12804/20000 [01:08<00:42, 170.03it/s]\u001b[A\u001b[A\n",
      "\n",
      "Convert dataset:  64%|██████▍   | 12822/20000 [01:08<00:44, 163.13it/s]\u001b[A\u001b[A\n",
      "\n",
      "Convert dataset:  64%|██████▍   | 12842/20000 [01:08<00:42, 170.01it/s]\u001b[A\u001b[A\n",
      "\n",
      "Convert dataset:  64%|██████▍   | 12861/20000 [01:08<00:43, 165.86it/s]\u001b[A\u001b[A\n",
      "\n",
      "Convert dataset:  64%|██████▍   | 12878/20000 [01:08<00:45, 157.55it/s]\u001b[A\u001b[A\n",
      "\n",
      "Convert dataset:  64%|██████▍   | 12895/20000 [01:08<00:44, 160.60it/s]\u001b[A\u001b[A\n",
      "\n",
      "Convert dataset:  65%|██████▍   | 12917/20000 [01:08<00:40, 174.35it/s]\u001b[A\u001b[A\n",
      "\n",
      "Convert dataset:  65%|██████▍   | 12935/20000 [01:09<00:41, 170.63it/s]\u001b[A\u001b[A\n",
      "\n",
      "Convert dataset:  65%|██████▍   | 12953/20000 [01:09<00:41, 171.23it/s]\u001b[A\u001b[A\n",
      "\n",
      "Convert dataset:  65%|██████▍   | 12978/20000 [01:09<00:37, 188.19it/s]\u001b[A\u001b[A\n",
      "\n",
      "Convert dataset:  65%|██████▌   | 13004/20000 [01:09<00:34, 201.21it/s]\u001b[A\u001b[A\n",
      "\n",
      "Convert dataset:  65%|██████▌   | 13025/20000 [01:09<00:43, 161.51it/s]\u001b[A\u001b[A\n",
      "\n",
      "Convert dataset:  65%|██████▌   | 13043/20000 [01:09<00:44, 157.94it/s]\u001b[A\u001b[A\n",
      "\n",
      "Convert dataset:  65%|██████▌   | 13061/20000 [01:09<00:44, 156.58it/s]\u001b[A\u001b[A\n",
      "\n",
      "Convert dataset:  65%|██████▌   | 13078/20000 [01:09<00:46, 148.39it/s]\u001b[A\u001b[A\n",
      "\n",
      "Convert dataset:  65%|██████▌   | 13099/20000 [01:10<00:42, 162.22it/s]\u001b[A\u001b[A\n",
      "\n",
      "Convert dataset:  66%|██████▌   | 13117/20000 [01:10<00:42, 163.27it/s]\u001b[A\u001b[A\n",
      "\n",
      "Convert dataset:  66%|██████▌   | 13138/20000 [01:10<00:39, 174.25it/s]\u001b[A\u001b[A\n",
      "\n",
      "Convert dataset:  66%|██████▌   | 13159/20000 [01:10<00:37, 180.65it/s]\u001b[A\u001b[A\n",
      "\n",
      "Convert dataset:  66%|██████▌   | 13178/20000 [01:10<00:37, 182.35it/s]\u001b[A\u001b[A\n",
      "\n",
      "Convert dataset:  66%|██████▌   | 13197/20000 [01:10<00:39, 173.16it/s]\u001b[A\u001b[A\n",
      "\n",
      "Convert dataset:  66%|██████▌   | 13215/20000 [01:10<00:45, 150.43it/s]\u001b[A\u001b[A\n",
      "\n",
      "Convert dataset:  66%|██████▌   | 13237/20000 [01:10<00:40, 165.64it/s]\u001b[A\u001b[A\n",
      "\n",
      "Convert dataset:  66%|██████▋   | 13255/20000 [01:10<00:43, 155.34it/s]\u001b[A\u001b[A\n",
      "\n",
      "Convert dataset:  66%|██████▋   | 13272/20000 [01:11<00:44, 151.25it/s]\u001b[A\u001b[A\n",
      "\n",
      "Convert dataset:  66%|██████▋   | 13288/20000 [01:11<00:48, 139.29it/s]\u001b[A\u001b[A\n",
      "\n",
      "Convert dataset:  67%|██████▋   | 13304/20000 [01:11<00:46, 144.39it/s]\u001b[A\u001b[A\n",
      "\n",
      "Convert dataset:  67%|██████▋   | 13330/20000 [01:11<00:40, 165.51it/s]\u001b[A\u001b[A\n",
      "\n",
      "Convert dataset:  67%|██████▋   | 13350/20000 [01:11<00:38, 174.49it/s]\u001b[A\u001b[A\n",
      "\n",
      "Convert dataset:  67%|██████▋   | 13369/20000 [01:11<00:37, 175.68it/s]\u001b[A\u001b[A\n",
      "\n",
      "Convert dataset:  67%|██████▋   | 13388/20000 [01:11<00:39, 167.56it/s]\u001b[A\u001b[A\n",
      "\n",
      "Convert dataset:  67%|██████▋   | 13406/20000 [01:11<00:38, 169.85it/s]\u001b[A\u001b[A\n",
      "\n",
      "Convert dataset:  67%|██████▋   | 13424/20000 [01:11<00:39, 168.19it/s]\u001b[A\u001b[A\n",
      "\n",
      "Convert dataset:  67%|██████▋   | 13452/20000 [01:12<00:34, 190.26it/s]\u001b[A\u001b[A\n",
      "\n",
      "Convert dataset:  67%|██████▋   | 13473/20000 [01:12<00:36, 181.08it/s]\u001b[A\u001b[A\n",
      "\n",
      "Convert dataset:  67%|██████▋   | 13495/20000 [01:12<00:34, 190.66it/s]\u001b[A\u001b[A\n",
      "\n",
      "Convert dataset:  68%|██████▊   | 13515/20000 [01:12<00:35, 182.41it/s]\u001b[A\u001b[A\n",
      "\n",
      "Convert dataset:  68%|██████▊   | 13541/20000 [01:12<00:32, 199.89it/s]\u001b[A\u001b[A\n",
      "\n",
      "Convert dataset:  68%|██████▊   | 13568/20000 [01:12<00:29, 215.68it/s]\u001b[A\u001b[A\n",
      "\n",
      "Convert dataset:  68%|██████▊   | 13591/20000 [01:12<00:29, 219.65it/s]\u001b[A\u001b[A\n",
      "\n",
      "Convert dataset:  68%|██████▊   | 13614/20000 [01:12<00:32, 194.76it/s]\u001b[A\u001b[A\n",
      "\n",
      "Convert dataset:  68%|██████▊   | 13635/20000 [01:12<00:32, 193.13it/s]\u001b[A\u001b[A\n",
      "\n",
      "Convert dataset:  68%|██████▊   | 13656/20000 [01:13<00:35, 176.46it/s]\u001b[A\u001b[A\n",
      "\n",
      "Convert dataset:  68%|██████▊   | 13676/20000 [01:13<00:34, 182.37it/s]\u001b[A\u001b[A\n",
      "\n",
      "Convert dataset:  68%|██████▊   | 13699/20000 [01:13<00:32, 194.18it/s]\u001b[A\u001b[A\n",
      "\n",
      "Convert dataset:  69%|██████▊   | 13721/20000 [01:13<00:31, 198.69it/s]\u001b[A\u001b[A\n",
      "\n",
      "Convert dataset:  69%|██████▊   | 13742/20000 [01:13<00:35, 178.32it/s]\u001b[A\u001b[A\n",
      "\n",
      "Convert dataset:  69%|██████▉   | 13761/20000 [01:13<00:36, 170.95it/s]\u001b[A\u001b[A\n",
      "\n",
      "Convert dataset:  69%|██████▉   | 13781/20000 [01:13<00:35, 176.02it/s]\u001b[A\u001b[A\n",
      "\n",
      "Convert dataset:  69%|██████▉   | 13800/20000 [01:13<00:35, 174.46it/s]\u001b[A\u001b[A\n",
      "\n",
      "Convert dataset:  69%|██████▉   | 13825/20000 [01:14<00:32, 190.38it/s]\u001b[A\u001b[A\n",
      "\n",
      "Convert dataset:  69%|██████▉   | 13845/20000 [01:14<00:34, 176.40it/s]\u001b[A\u001b[A\n",
      "\n",
      "Convert dataset:  69%|██████▉   | 13866/20000 [01:14<00:34, 180.20it/s]\u001b[A\u001b[A\n",
      "\n",
      "Convert dataset:  69%|██████▉   | 13891/20000 [01:14<00:31, 193.49it/s]\u001b[A\u001b[A\n",
      "\n",
      "Convert dataset:  70%|██████▉   | 13911/20000 [01:14<00:35, 170.12it/s]\u001b[A\u001b[A\n",
      "\n",
      "Convert dataset:  70%|██████▉   | 13929/20000 [01:14<00:39, 153.37it/s]\u001b[A\u001b[A\n",
      "\n",
      "Convert dataset:  70%|██████▉   | 13946/20000 [01:14<00:42, 142.24it/s]\u001b[A\u001b[A\n",
      "\n",
      "Convert dataset:  70%|██████▉   | 13964/20000 [01:14<00:40, 150.73it/s]\u001b[A\u001b[A\n",
      "\n",
      "Convert dataset:  70%|██████▉   | 13987/20000 [01:15<00:35, 168.02it/s]\u001b[A\u001b[A\n",
      "\n",
      "Convert dataset:  70%|███████   | 14005/20000 [01:15<00:37, 157.97it/s]\u001b[A\u001b[A\n",
      "\n",
      "Convert dataset:  70%|███████   | 14022/20000 [01:15<00:37, 158.15it/s]\u001b[A\u001b[A\n",
      "\n",
      "Convert dataset:  70%|███████   | 14039/20000 [01:15<00:37, 159.46it/s]\u001b[A\u001b[A\n",
      "\n",
      "Convert dataset:  70%|███████   | 14056/20000 [01:15<00:38, 156.41it/s]\u001b[A\u001b[A\n",
      "\n",
      "Convert dataset:  70%|███████   | 14076/20000 [01:15<00:35, 164.82it/s]\u001b[A\u001b[A\n",
      "\n",
      "Convert dataset:  70%|███████   | 14096/20000 [01:15<00:34, 172.64it/s]\u001b[A\u001b[A\n",
      "\n",
      "Convert dataset:  71%|███████   | 14114/20000 [01:15<00:38, 153.03it/s]\u001b[A\u001b[A\n",
      "\n",
      "Convert dataset:  71%|███████   | 14134/20000 [01:15<00:36, 161.94it/s]\u001b[A\u001b[A\n",
      "\n",
      "Convert dataset:  71%|███████   | 14158/20000 [01:16<00:32, 178.18it/s]\u001b[A\u001b[A\n",
      "\n",
      "Convert dataset:  71%|███████   | 14177/20000 [01:16<00:32, 179.64it/s]\u001b[A\u001b[A\n",
      "\n",
      "Convert dataset:  71%|███████   | 14200/20000 [01:16<00:30, 191.79it/s]\u001b[A\u001b[A\n",
      "\n",
      "Convert dataset:  71%|███████   | 14224/20000 [01:16<00:28, 203.65it/s]\u001b[A\u001b[A\n",
      "\n",
      "Convert dataset:  71%|███████   | 14246/20000 [01:16<00:27, 206.59it/s]\u001b[A\u001b[A\n",
      "\n",
      "Convert dataset:  71%|███████▏  | 14268/20000 [01:16<00:31, 184.77it/s]\u001b[A\u001b[A\n",
      "\n",
      "Convert dataset:  71%|███████▏  | 14288/20000 [01:16<00:32, 177.48it/s]\u001b[A\u001b[A\n",
      "\n",
      "Convert dataset:  72%|███████▏  | 14308/20000 [01:16<00:32, 173.53it/s]\u001b[A\u001b[A\n",
      "\n",
      "Convert dataset:  72%|███████▏  | 14326/20000 [01:16<00:33, 169.29it/s]\u001b[A\u001b[A\n",
      "\n",
      "Convert dataset:  72%|███████▏  | 14344/20000 [01:17<00:35, 160.30it/s]\u001b[A\u001b[A\n",
      "\n",
      "Convert dataset:  72%|███████▏  | 14362/20000 [01:17<00:34, 162.80it/s]\u001b[A\u001b[A\n",
      "\n",
      "Convert dataset:  72%|███████▏  | 14379/20000 [01:17<00:35, 157.79it/s]\u001b[A\u001b[A\n",
      "\n",
      "Convert dataset:  72%|███████▏  | 14395/20000 [01:17<00:36, 152.33it/s]\u001b[A\u001b[A\n",
      "\n",
      "Convert dataset:  72%|███████▏  | 14413/20000 [01:17<00:35, 158.74it/s]\u001b[A\u001b[A\n",
      "\n",
      "Convert dataset:  72%|███████▏  | 14434/20000 [01:17<00:32, 169.69it/s]\u001b[A\u001b[A\n",
      "\n",
      "Convert dataset:  72%|███████▏  | 14453/20000 [01:17<00:32, 173.01it/s]\u001b[A\u001b[A\n",
      "\n",
      "Convert dataset:  72%|███████▏  | 14471/20000 [01:17<00:32, 167.73it/s]\u001b[A\u001b[A\n",
      "\n",
      "Convert dataset:  72%|███████▏  | 14492/20000 [01:17<00:31, 177.16it/s]\u001b[A\u001b[A\n",
      "\n",
      "Convert dataset:  73%|███████▎  | 14511/20000 [01:18<00:31, 174.03it/s]\u001b[A\u001b[A\n",
      "\n",
      "Convert dataset:  73%|███████▎  | 14529/20000 [01:18<00:32, 168.83it/s]\u001b[A\u001b[A\n",
      "\n",
      "Convert dataset:  73%|███████▎  | 14557/20000 [01:18<00:28, 188.35it/s]\u001b[A\u001b[A\n",
      "\n",
      "Convert dataset:  73%|███████▎  | 14581/20000 [01:18<00:27, 196.48it/s]\u001b[A\u001b[A\n",
      "\n",
      "Convert dataset:  73%|███████▎  | 14602/20000 [01:18<00:29, 180.73it/s]\u001b[A\u001b[A\n",
      "\n",
      "Convert dataset:  73%|███████▎  | 14621/20000 [01:18<00:33, 161.97it/s]\u001b[A\u001b[A\n",
      "\n",
      "Convert dataset:  73%|███████▎  | 14641/20000 [01:18<00:31, 171.39it/s]\u001b[A\u001b[A\n",
      "\n",
      "Convert dataset:  73%|███████▎  | 14659/20000 [01:18<00:30, 173.00it/s]\u001b[A\u001b[A\n",
      "\n",
      "Convert dataset:  73%|███████▎  | 14684/20000 [01:18<00:28, 188.79it/s]\u001b[A\u001b[A\n",
      "\n",
      "Convert dataset:  74%|███████▎  | 14710/20000 [01:19<00:25, 204.33it/s]\u001b[A\u001b[A\n",
      "\n",
      "Convert dataset:  74%|███████▎  | 14732/20000 [01:19<00:30, 170.03it/s]\u001b[A\u001b[A\n",
      "\n",
      "Convert dataset:  74%|███████▍  | 14755/20000 [01:19<00:28, 183.26it/s]\u001b[A\u001b[A\n",
      "\n",
      "Convert dataset:  74%|███████▍  | 14778/20000 [01:19<00:26, 193.58it/s]\u001b[A\u001b[A\n",
      "\n",
      "Convert dataset:  74%|███████▍  | 14799/20000 [01:19<00:27, 188.37it/s]\u001b[A\u001b[A\n",
      "\n",
      "Convert dataset:  74%|███████▍  | 14819/20000 [01:19<00:29, 176.52it/s]\u001b[A\u001b[A\n",
      "\n",
      "Convert dataset:  74%|███████▍  | 14838/20000 [01:19<00:29, 177.26it/s]\u001b[A\u001b[A\n",
      "\n",
      "Convert dataset:  74%|███████▍  | 14857/20000 [01:19<00:31, 164.93it/s]\u001b[A\u001b[A\n",
      "\n",
      "Convert dataset:  74%|███████▍  | 14875/20000 [01:20<00:30, 166.00it/s]\u001b[A\u001b[A\n",
      "\n",
      "Convert dataset:  74%|███████▍  | 14892/20000 [01:20<00:31, 164.61it/s]\u001b[A\u001b[A\n",
      "\n",
      "Convert dataset:  75%|███████▍  | 14911/20000 [01:20<00:29, 170.52it/s]\u001b[A\u001b[A\n",
      "\n",
      "Convert dataset:  75%|███████▍  | 14937/20000 [01:20<00:26, 189.48it/s]\u001b[A\u001b[A\n",
      "\n",
      "Convert dataset:  75%|███████▍  | 14957/20000 [01:20<00:26, 188.95it/s]\u001b[A\u001b[A\n",
      "\n",
      "Convert dataset:  75%|███████▍  | 14982/20000 [01:20<00:25, 200.51it/s]\u001b[A\u001b[A\n",
      "\n",
      "Convert dataset:  75%|███████▌  | 15003/20000 [01:20<00:26, 189.52it/s]\u001b[A\u001b[A\n",
      "\n",
      "Convert dataset:  75%|███████▌  | 15029/20000 [01:20<00:24, 205.99it/s]\u001b[A\u001b[A\n",
      "\n",
      "Convert dataset:  75%|███████▌  | 15051/20000 [01:20<00:24, 202.56it/s]\u001b[A\u001b[A\n",
      "\n",
      "Convert dataset:  75%|███████▌  | 15072/20000 [01:21<00:24, 202.36it/s]\u001b[A\u001b[A\n",
      "\n",
      "Convert dataset:  75%|███████▌  | 15093/20000 [01:21<00:26, 187.71it/s]\u001b[A\u001b[A\n",
      "\n",
      "Convert dataset:  76%|███████▌  | 15113/20000 [01:21<00:26, 182.03it/s]\u001b[A\u001b[A\n",
      "\n",
      "Convert dataset:  76%|███████▌  | 15135/20000 [01:21<00:25, 190.63it/s]\u001b[A\u001b[A\n",
      "\n",
      "Convert dataset:  76%|███████▌  | 15159/20000 [01:21<00:24, 199.29it/s]\u001b[A\u001b[A\n",
      "\n",
      "Convert dataset:  76%|███████▌  | 15183/20000 [01:21<00:23, 209.13it/s]\u001b[A\u001b[A\n",
      "\n",
      "Convert dataset:  76%|███████▌  | 15205/20000 [01:21<00:25, 189.79it/s]\u001b[A\u001b[A\n",
      "\n",
      "Convert dataset:  76%|███████▌  | 15225/20000 [01:21<00:26, 178.34it/s]\u001b[A\u001b[A\n",
      "\n",
      "Convert dataset:  76%|███████▌  | 15247/20000 [01:21<00:25, 184.99it/s]\u001b[A\u001b[A\n",
      "\n",
      "Convert dataset:  76%|███████▋  | 15266/20000 [01:22<00:26, 180.47it/s]\u001b[A\u001b[A\n",
      "\n",
      "Convert dataset:  76%|███████▋  | 15293/20000 [01:22<00:23, 199.61it/s]\u001b[A\u001b[A\n",
      "\n",
      "Convert dataset:  77%|███████▋  | 15315/20000 [01:22<00:23, 200.04it/s]\u001b[A\u001b[A\n",
      "\n",
      "Convert dataset:  77%|███████▋  | 15336/20000 [01:22<00:23, 195.12it/s]\u001b[A\u001b[A\n",
      "\n",
      "Convert dataset:  77%|███████▋  | 15358/20000 [01:22<00:23, 201.27it/s]\u001b[A\u001b[A\n",
      "\n",
      "Convert dataset:  77%|███████▋  | 15390/20000 [01:22<00:20, 225.23it/s]\u001b[A\u001b[A\n",
      "\n",
      "Convert dataset:  77%|███████▋  | 15414/20000 [01:22<00:21, 212.97it/s]\u001b[A\u001b[A\n",
      "\n",
      "Convert dataset:  77%|███████▋  | 15437/20000 [01:22<00:21, 210.20it/s]\u001b[A\u001b[A\n",
      "\n",
      "Convert dataset:  77%|███████▋  | 15460/20000 [01:22<00:21, 211.37it/s]\u001b[A\u001b[A\n",
      "\n",
      "Convert dataset:  77%|███████▋  | 15482/20000 [01:23<00:22, 197.05it/s]\u001b[A\u001b[A\n",
      "\n",
      "Convert dataset:  78%|███████▊  | 15503/20000 [01:23<00:23, 189.69it/s]\u001b[A\u001b[A\n",
      "\n",
      "Convert dataset:  78%|███████▊  | 15523/20000 [01:23<00:23, 191.24it/s]\u001b[A\u001b[A\n",
      "\n",
      "Convert dataset:  78%|███████▊  | 15543/20000 [01:23<00:24, 183.41it/s]\u001b[A\u001b[A\n",
      "\n",
      "Convert dataset:  78%|███████▊  | 15562/20000 [01:23<00:25, 173.81it/s]\u001b[A\u001b[A\n",
      "\n",
      "Convert dataset:  78%|███████▊  | 15581/20000 [01:23<00:24, 177.41it/s]\u001b[A\u001b[A\n",
      "\n",
      "Convert dataset:  78%|███████▊  | 15601/20000 [01:23<00:24, 181.71it/s]\u001b[A\u001b[A\n",
      "\n",
      "Convert dataset:  78%|███████▊  | 15620/20000 [01:23<00:25, 172.25it/s]\u001b[A\u001b[A\n",
      "\n",
      "Convert dataset:  78%|███████▊  | 15638/20000 [01:24<00:30, 144.19it/s]\u001b[A\u001b[A\n",
      "\n",
      "Convert dataset:  78%|███████▊  | 15659/20000 [01:24<00:27, 158.49it/s]\u001b[A\u001b[A\n",
      "\n",
      "Convert dataset:  78%|███████▊  | 15678/20000 [01:24<00:27, 159.49it/s]\u001b[A\u001b[A\n",
      "\n",
      "Convert dataset:  79%|███████▊  | 15701/20000 [01:24<00:24, 175.18it/s]\u001b[A\u001b[A\n",
      "\n",
      "Convert dataset:  79%|███████▊  | 15724/20000 [01:24<00:22, 187.66it/s]\u001b[A\u001b[A\n",
      "\n",
      "Convert dataset:  79%|███████▊  | 15744/20000 [01:24<00:22, 187.04it/s]\u001b[A\u001b[A\n",
      "\n",
      "Convert dataset:  79%|███████▉  | 15764/20000 [01:24<00:28, 146.25it/s]\u001b[A\u001b[A\n",
      "\n",
      "Convert dataset:  79%|███████▉  | 15794/20000 [01:24<00:24, 171.92it/s]\u001b[A\u001b[A\n",
      "\n",
      "Convert dataset:  79%|███████▉  | 15815/20000 [01:25<00:24, 168.27it/s]\u001b[A\u001b[A\n",
      "\n",
      "Convert dataset:  79%|███████▉  | 15834/20000 [01:25<00:25, 163.59it/s]\u001b[A\u001b[A\n",
      "\n",
      "Convert dataset:  79%|███████▉  | 15853/20000 [01:25<00:24, 169.37it/s]\u001b[A\u001b[A\n",
      "\n",
      "Convert dataset:  79%|███████▉  | 15874/20000 [01:25<00:23, 178.75it/s]\u001b[A\u001b[A\n",
      "\n",
      "Convert dataset:  79%|███████▉  | 15894/20000 [01:25<00:22, 182.83it/s]\u001b[A\u001b[A\n",
      "\n",
      "Convert dataset:  80%|███████▉  | 15916/20000 [01:25<00:21, 191.29it/s]\u001b[A\u001b[A\n",
      "\n",
      "Convert dataset:  80%|███████▉  | 15940/20000 [01:25<00:20, 202.04it/s]\u001b[A\u001b[A\n",
      "\n",
      "Convert dataset:  80%|███████▉  | 15961/20000 [01:25<00:22, 179.85it/s]\u001b[A\u001b[A\n",
      "\n",
      "Convert dataset:  80%|███████▉  | 15981/20000 [01:25<00:21, 185.25it/s]\u001b[A\u001b[A\n",
      "\n",
      "Convert dataset:  80%|████████  | 16001/20000 [01:26<00:22, 177.58it/s]\u001b[A\u001b[A\n",
      "\n",
      "Convert dataset:  80%|████████  | 16020/20000 [01:26<00:22, 173.90it/s]\u001b[A\u001b[A\n",
      "\n",
      "Convert dataset:  80%|████████  | 16044/20000 [01:26<00:20, 189.39it/s]\u001b[A\u001b[A\n",
      "\n",
      "Convert dataset:  80%|████████  | 16064/20000 [01:26<00:21, 186.24it/s]\u001b[A\u001b[A\n",
      "\n",
      "Convert dataset:  80%|████████  | 16087/20000 [01:26<00:19, 195.71it/s]\u001b[A\u001b[A\n",
      "\n",
      "Convert dataset:  81%|████████  | 16108/20000 [01:26<00:21, 178.28it/s]\u001b[A\u001b[A\n",
      "\n",
      "Convert dataset:  81%|████████  | 16127/20000 [01:26<00:23, 165.18it/s]\u001b[A\u001b[A\n",
      "\n",
      "Convert dataset:  81%|████████  | 16146/20000 [01:26<00:22, 171.07it/s]\u001b[A\u001b[A\n",
      "\n",
      "Convert dataset:  81%|████████  | 16165/20000 [01:26<00:21, 176.14it/s]\u001b[A\u001b[A\n",
      "\n",
      "Convert dataset:  81%|████████  | 16189/20000 [01:27<00:19, 191.32it/s]\u001b[A\u001b[A\n",
      "\n",
      "Convert dataset:  81%|████████  | 16209/20000 [01:27<00:21, 180.39it/s]\u001b[A\u001b[A\n",
      "\n",
      "Convert dataset:  81%|████████  | 16231/20000 [01:27<00:19, 189.00it/s]\u001b[A\u001b[A\n",
      "\n",
      "Convert dataset:  81%|████████▏ | 16251/20000 [01:27<00:21, 177.63it/s]\u001b[A\u001b[A\n",
      "\n",
      "Convert dataset:  81%|████████▏ | 16270/20000 [01:27<00:21, 172.32it/s]\u001b[A\u001b[A\n",
      "\n",
      "Convert dataset:  81%|████████▏ | 16291/20000 [01:27<00:20, 181.51it/s]\u001b[A\u001b[A\n",
      "\n",
      "Convert dataset:  82%|████████▏ | 16315/20000 [01:27<00:19, 188.70it/s]\u001b[A\u001b[A\n",
      "\n",
      "Convert dataset:  82%|████████▏ | 16335/20000 [01:27<00:20, 179.31it/s]\u001b[A\u001b[A\n",
      "\n",
      "Convert dataset:  82%|████████▏ | 16354/20000 [01:28<00:23, 158.17it/s]\u001b[A\u001b[A\n",
      "\n",
      "Convert dataset:  82%|████████▏ | 16377/20000 [01:28<00:21, 171.42it/s]\u001b[A\u001b[A\n",
      "\n",
      "Convert dataset:  82%|████████▏ | 16395/20000 [01:28<00:22, 161.24it/s]\u001b[A\u001b[A\n",
      "\n",
      "Convert dataset:  82%|████████▏ | 16414/20000 [01:28<00:21, 167.90it/s]\u001b[A\u001b[A\n",
      "\n",
      "Convert dataset:  82%|████████▏ | 16432/20000 [01:28<00:22, 160.56it/s]\u001b[A\u001b[A\n",
      "\n",
      "Convert dataset:  82%|████████▏ | 16449/20000 [01:28<00:25, 139.61it/s]\u001b[A\u001b[A\n",
      "\n",
      "Convert dataset:  82%|████████▏ | 16464/20000 [01:28<00:25, 140.32it/s]\u001b[A\u001b[A\n",
      "\n",
      "Convert dataset:  82%|████████▏ | 16479/20000 [01:28<00:24, 141.69it/s]\u001b[A\u001b[A\n",
      "\n",
      "Convert dataset:  82%|████████▏ | 16497/20000 [01:28<00:23, 150.71it/s]\u001b[A\u001b[A\n",
      "\n",
      "Convert dataset:  83%|████████▎ | 16517/20000 [01:29<00:21, 160.83it/s]\u001b[A\u001b[A\n",
      "\n",
      "Convert dataset:  83%|████████▎ | 16534/20000 [01:29<00:25, 136.70it/s]\u001b[A\u001b[A\n",
      "\n",
      "Convert dataset:  83%|████████▎ | 16552/20000 [01:29<00:23, 145.17it/s]\u001b[A\u001b[A\n",
      "\n",
      "Convert dataset:  83%|████████▎ | 16573/20000 [01:29<00:22, 154.19it/s]\u001b[A\u001b[A\n",
      "\n",
      "Convert dataset:  83%|████████▎ | 16590/20000 [01:29<00:23, 146.56it/s]\u001b[A\u001b[A\n",
      "\n",
      "Convert dataset:  83%|████████▎ | 16614/20000 [01:29<00:20, 165.02it/s]\u001b[A\u001b[A\n",
      "\n",
      "Convert dataset:  83%|████████▎ | 16640/20000 [01:29<00:18, 182.77it/s]\u001b[A\u001b[A\n",
      "\n",
      "Convert dataset:  83%|████████▎ | 16660/20000 [01:29<00:19, 175.66it/s]\u001b[A\u001b[A\n",
      "\n",
      "Convert dataset:  83%|████████▎ | 16683/20000 [01:29<00:17, 188.29it/s]\u001b[A\u001b[A\n",
      "\n",
      "Convert dataset:  84%|████████▎ | 16703/20000 [01:30<00:17, 189.69it/s]\u001b[A\u001b[A\n",
      "\n",
      "Convert dataset:  84%|████████▎ | 16723/20000 [01:30<00:19, 169.25it/s]\u001b[A\u001b[A\n",
      "\n",
      "Convert dataset:  84%|████████▎ | 16741/20000 [01:30<00:19, 170.75it/s]\u001b[A\u001b[A\n",
      "\n",
      "Convert dataset:  84%|████████▍ | 16759/20000 [01:30<00:19, 169.36it/s]\u001b[A\u001b[A\n",
      "\n",
      "Convert dataset:  84%|████████▍ | 16777/20000 [01:30<00:18, 171.50it/s]\u001b[A\u001b[A\n",
      "\n",
      "Convert dataset:  84%|████████▍ | 16795/20000 [01:30<00:18, 173.12it/s]\u001b[A\u001b[A\n",
      "\n",
      "Convert dataset:  84%|████████▍ | 16813/20000 [01:30<00:20, 156.74it/s]\u001b[A\u001b[A\n",
      "\n",
      "Convert dataset:  84%|████████▍ | 16831/20000 [01:30<00:19, 161.52it/s]\u001b[A\u001b[A\n",
      "\n",
      "Convert dataset:  84%|████████▍ | 16848/20000 [01:31<00:19, 158.36it/s]\u001b[A\u001b[A\n",
      "\n",
      "Convert dataset:  84%|████████▍ | 16865/20000 [01:31<00:19, 156.85it/s]\u001b[A\u001b[A\n",
      "\n",
      "Convert dataset:  84%|████████▍ | 16884/20000 [01:31<00:18, 164.12it/s]\u001b[A\u001b[A\n",
      "\n",
      "Convert dataset:  85%|████████▍ | 16905/20000 [01:31<00:17, 175.26it/s]\u001b[A\u001b[A\n",
      "\n",
      "Convert dataset:  85%|████████▍ | 16923/20000 [01:31<00:18, 164.50it/s]\u001b[A\u001b[A\n",
      "\n",
      "Convert dataset:  85%|████████▍ | 16945/20000 [01:31<00:17, 177.41it/s]\u001b[A\u001b[A\n",
      "\n",
      "Convert dataset:  85%|████████▍ | 16964/20000 [01:31<00:17, 170.99it/s]\u001b[A\u001b[A\n",
      "\n",
      "Convert dataset:  85%|████████▍ | 16985/20000 [01:31<00:16, 180.53it/s]\u001b[A\u001b[A\n",
      "\n",
      "Convert dataset:  85%|████████▌ | 17008/20000 [01:31<00:15, 192.10it/s]\u001b[A\u001b[A\n",
      "\n",
      "Convert dataset:  85%|████████▌ | 17028/20000 [01:31<00:16, 185.30it/s]\u001b[A\u001b[A\n",
      "\n",
      "Convert dataset:  85%|████████▌ | 17049/20000 [01:32<00:15, 188.64it/s]\u001b[A\u001b[A\n",
      "\n",
      "Convert dataset:  85%|████████▌ | 17069/20000 [01:32<00:15, 185.95it/s]\u001b[A\u001b[A\n",
      "\n",
      "Convert dataset:  85%|████████▌ | 17090/20000 [01:32<00:15, 184.29it/s]\u001b[A\u001b[A\n",
      "\n",
      "Convert dataset:  86%|████████▌ | 17110/20000 [01:32<00:15, 185.88it/s]\u001b[A\u001b[A\n",
      "\n",
      "Convert dataset:  86%|████████▌ | 17129/20000 [01:32<00:17, 162.82it/s]\u001b[A\u001b[A\n",
      "\n",
      "Convert dataset:  86%|████████▌ | 17146/20000 [01:32<00:19, 146.98it/s]\u001b[A\u001b[A\n",
      "\n",
      "Convert dataset:  86%|████████▌ | 17166/20000 [01:32<00:17, 158.82it/s]\u001b[A\u001b[A\n",
      "\n",
      "Convert dataset:  86%|████████▌ | 17183/20000 [01:33<00:21, 131.12it/s]\u001b[A\u001b[A\n",
      "\n",
      "Convert dataset:  86%|████████▌ | 17198/20000 [01:33<00:21, 133.19it/s]\u001b[A\u001b[A\n",
      "\n",
      "Convert dataset:  86%|████████▌ | 17214/20000 [01:33<00:20, 137.21it/s]\u001b[A\u001b[A\n",
      "\n",
      "Convert dataset:  86%|████████▌ | 17229/20000 [01:33<00:19, 139.78it/s]\u001b[A\u001b[A\n",
      "\n",
      "Convert dataset:  86%|████████▌ | 17244/20000 [01:33<00:19, 140.16it/s]\u001b[A\u001b[A\n",
      "\n",
      "Convert dataset:  86%|████████▋ | 17267/20000 [01:33<00:17, 158.10it/s]\u001b[A\u001b[A\n",
      "\n",
      "Convert dataset:  86%|████████▋ | 17284/20000 [01:33<00:17, 157.63it/s]\u001b[A\u001b[A\n",
      "\n",
      "Convert dataset:  87%|████████▋ | 17301/20000 [01:33<00:17, 150.66it/s]\u001b[A\u001b[A\n",
      "\n",
      "Convert dataset:  87%|████████▋ | 17328/20000 [01:33<00:15, 172.48it/s]\u001b[A\u001b[A\n",
      "\n",
      "Convert dataset:  87%|████████▋ | 17347/20000 [01:33<00:15, 170.12it/s]\u001b[A\u001b[A\n",
      "\n",
      "Convert dataset:  87%|████████▋ | 17366/20000 [01:34<00:15, 165.28it/s]\u001b[A\u001b[A\n",
      "\n",
      "Convert dataset:  87%|████████▋ | 17392/20000 [01:34<00:14, 183.33it/s]\u001b[A\u001b[A\n",
      "\n",
      "Convert dataset:  87%|████████▋ | 17415/20000 [01:34<00:13, 193.96it/s]\u001b[A\u001b[A\n",
      "\n",
      "Convert dataset:  87%|████████▋ | 17437/20000 [01:34<00:13, 197.10it/s]\u001b[A\u001b[A\n",
      "\n",
      "Convert dataset:  87%|████████▋ | 17458/20000 [01:34<00:12, 200.14it/s]\u001b[A\u001b[A\n",
      "\n",
      "Convert dataset:  87%|████████▋ | 17479/20000 [01:34<00:12, 198.76it/s]\u001b[A\u001b[A\n",
      "\n",
      "Convert dataset:  88%|████████▊ | 17502/20000 [01:34<00:12, 206.32it/s]\u001b[A\u001b[A\n",
      "\n",
      "Convert dataset:  88%|████████▊ | 17526/20000 [01:34<00:11, 213.92it/s]\u001b[A\u001b[A\n",
      "\n",
      "Convert dataset:  88%|████████▊ | 17548/20000 [01:34<00:12, 191.07it/s]\u001b[A\u001b[A\n",
      "\n",
      "Convert dataset:  88%|████████▊ | 17568/20000 [01:35<00:18, 132.60it/s]\u001b[A\u001b[A\n",
      "\n",
      "Convert dataset:  88%|████████▊ | 17585/20000 [01:35<00:17, 134.81it/s]\u001b[A\u001b[A\n",
      "\n",
      "Convert dataset:  88%|████████▊ | 17615/20000 [01:35<00:14, 160.17it/s]\u001b[A\u001b[A\n",
      "\n",
      "Convert dataset:  88%|████████▊ | 17635/20000 [01:35<00:15, 151.67it/s]\u001b[A\u001b[A\n",
      "\n",
      "Convert dataset:  88%|████████▊ | 17653/20000 [01:35<00:18, 129.66it/s]\u001b[A\u001b[A\n",
      "\n",
      "Convert dataset:  88%|████████▊ | 17669/20000 [01:35<00:18, 127.78it/s]\u001b[A\u001b[A\n",
      "\n",
      "Convert dataset:  88%|████████▊ | 17689/20000 [01:36<00:16, 142.79it/s]\u001b[A\u001b[A\n",
      "\n",
      "Convert dataset:  89%|████████▊ | 17705/20000 [01:36<00:16, 137.02it/s]\u001b[A\u001b[A\n",
      "\n",
      "Convert dataset:  89%|████████▊ | 17720/20000 [01:36<00:17, 129.81it/s]\u001b[A\u001b[A\n",
      "\n",
      "Convert dataset:  89%|████████▊ | 17747/20000 [01:36<00:14, 153.51it/s]\u001b[A\u001b[A\n",
      "\n",
      "Convert dataset:  89%|████████▉ | 17766/20000 [01:36<00:13, 160.98it/s]\u001b[A\u001b[A\n",
      "\n",
      "Convert dataset:  89%|████████▉ | 17784/20000 [01:36<00:14, 155.24it/s]\u001b[A\u001b[A\n",
      "\n",
      "Convert dataset:  89%|████████▉ | 17807/20000 [01:36<00:12, 169.62it/s]\u001b[A\u001b[A\n",
      "\n",
      "Convert dataset:  89%|████████▉ | 17826/20000 [01:36<00:12, 172.87it/s]\u001b[A\u001b[A\n",
      "\n",
      "Convert dataset:  89%|████████▉ | 17852/20000 [01:36<00:11, 190.57it/s]\u001b[A\u001b[A\n",
      "\n",
      "Convert dataset:  89%|████████▉ | 17874/20000 [01:37<00:10, 196.47it/s]\u001b[A\u001b[A\n",
      "\n",
      "Convert dataset:  89%|████████▉ | 17896/20000 [01:37<00:10, 202.49it/s]\u001b[A\u001b[A\n",
      "\n",
      "Convert dataset:  90%|████████▉ | 17920/20000 [01:37<00:09, 210.76it/s]\u001b[A\u001b[A\n",
      "\n",
      "Convert dataset:  90%|████████▉ | 17942/20000 [01:37<00:09, 207.73it/s]\u001b[A\u001b[A\n",
      "\n",
      "Convert dataset:  90%|████████▉ | 17964/20000 [01:37<00:10, 203.31it/s]\u001b[A\u001b[A\n",
      "\n",
      "Convert dataset:  90%|████████▉ | 17985/20000 [01:37<00:10, 192.32it/s]\u001b[A\u001b[A\n",
      "\n",
      "Convert dataset:  90%|█████████ | 18005/20000 [01:37<00:12, 162.72it/s]\u001b[A\u001b[A\n",
      "\n",
      "Convert dataset:  90%|█████████ | 18027/20000 [01:37<00:11, 175.69it/s]\u001b[A\u001b[A\n",
      "\n",
      "Convert dataset:  90%|█████████ | 18049/20000 [01:37<00:10, 186.30it/s]\u001b[A\u001b[A\n",
      "\n",
      "Convert dataset:  90%|█████████ | 18069/20000 [01:38<00:10, 183.92it/s]\u001b[A\u001b[A\n",
      "\n",
      "Convert dataset:  90%|█████████ | 18089/20000 [01:38<00:12, 147.97it/s]\u001b[A\u001b[A\n",
      "\n",
      "Convert dataset:  91%|█████████ | 18106/20000 [01:38<00:12, 151.79it/s]\u001b[A\u001b[A\n",
      "\n",
      "Convert dataset:  91%|█████████ | 18123/20000 [01:38<00:12, 146.64it/s]\u001b[A\u001b[A\n",
      "\n",
      "Convert dataset:  91%|█████████ | 18140/20000 [01:38<00:12, 150.89it/s]\u001b[A\u001b[A\n",
      "\n",
      "Convert dataset:  91%|█████████ | 18156/20000 [01:38<00:12, 150.76it/s]\u001b[A\u001b[A\n",
      "\n",
      "Convert dataset:  91%|█████████ | 18172/20000 [01:38<00:13, 137.39it/s]\u001b[A\u001b[A\n",
      "\n",
      "Convert dataset:  91%|█████████ | 18194/20000 [01:38<00:11, 151.04it/s]\u001b[A\u001b[A\n",
      "\n",
      "Convert dataset:  91%|█████████ | 18210/20000 [01:39<00:11, 151.23it/s]\u001b[A\u001b[A\n",
      "\n",
      "Convert dataset:  91%|█████████ | 18235/20000 [01:39<00:10, 169.42it/s]\u001b[A\u001b[A\n",
      "\n",
      "Convert dataset:  91%|█████████▏| 18254/20000 [01:39<00:10, 164.61it/s]\u001b[A\u001b[A\n",
      "\n",
      "Convert dataset:  91%|█████████▏| 18274/20000 [01:39<00:10, 168.88it/s]\u001b[A\u001b[A\n",
      "\n",
      "Convert dataset:  91%|█████████▏| 18292/20000 [01:39<00:10, 166.08it/s]\u001b[A\u001b[A\n",
      "\n",
      "Convert dataset:  92%|█████████▏| 18311/20000 [01:39<00:09, 171.45it/s]\u001b[A\u001b[A\n",
      "\n",
      "Convert dataset:  92%|█████████▏| 18329/20000 [01:39<00:11, 148.90it/s]\u001b[A\u001b[A\n",
      "\n",
      "Convert dataset:  92%|█████████▏| 18346/20000 [01:39<00:10, 151.26it/s]\u001b[A\u001b[A\n",
      "\n",
      "Convert dataset:  92%|█████████▏| 18362/20000 [01:40<00:11, 145.06it/s]\u001b[A\u001b[A\n",
      "\n",
      "Convert dataset:  92%|█████████▏| 18381/20000 [01:40<00:10, 155.51it/s]\u001b[A\u001b[A\n",
      "\n",
      "Convert dataset:  92%|█████████▏| 18402/20000 [01:40<00:09, 167.87it/s]\u001b[A\u001b[A\n",
      "\n",
      "Convert dataset:  92%|█████████▏| 18424/20000 [01:40<00:08, 177.15it/s]\u001b[A\u001b[A\n",
      "\n",
      "Convert dataset:  92%|█████████▏| 18443/20000 [01:40<00:08, 179.44it/s]\u001b[A\u001b[A\n",
      "\n",
      "Convert dataset:  92%|█████████▏| 18463/20000 [01:40<00:08, 183.02it/s]\u001b[A\u001b[A\n",
      "\n",
      "Convert dataset:  92%|█████████▏| 18484/20000 [01:40<00:08, 187.73it/s]\u001b[A\u001b[A\n",
      "\n",
      "Convert dataset:  93%|█████████▎| 18504/20000 [01:40<00:08, 167.21it/s]\u001b[A\u001b[A\n",
      "\n",
      "Convert dataset:  93%|█████████▎| 18523/20000 [01:40<00:08, 169.14it/s]\u001b[A\u001b[A\n",
      "\n",
      "Convert dataset:  93%|█████████▎| 18544/20000 [01:41<00:08, 178.68it/s]\u001b[A\u001b[A\n",
      "\n",
      "Convert dataset:  93%|█████████▎| 18570/20000 [01:41<00:07, 196.72it/s]\u001b[A\u001b[A\n",
      "\n",
      "Convert dataset:  93%|█████████▎| 18591/20000 [01:41<00:07, 197.69it/s]\u001b[A\u001b[A\n",
      "\n",
      "Convert dataset:  93%|█████████▎| 18612/20000 [01:41<00:08, 164.94it/s]\u001b[A\u001b[A\n",
      "\n",
      "Convert dataset:  93%|█████████▎| 18630/20000 [01:41<00:08, 159.77it/s]\u001b[A\u001b[A\n",
      "\n",
      "Convert dataset:  93%|█████████▎| 18647/20000 [01:41<00:08, 160.52it/s]\u001b[A\u001b[A\n",
      "\n",
      "Convert dataset:  93%|█████████▎| 18664/20000 [01:41<00:08, 162.50it/s]\u001b[A\u001b[A\n",
      "\n",
      "Convert dataset:  93%|█████████▎| 18684/20000 [01:41<00:07, 171.46it/s]\u001b[A\u001b[A\n",
      "\n",
      "Convert dataset:  94%|█████████▎| 18708/20000 [01:41<00:06, 186.56it/s]\u001b[A\u001b[A\n",
      "\n",
      "Convert dataset:  94%|█████████▎| 18728/20000 [01:42<00:06, 186.03it/s]\u001b[A\u001b[A\n",
      "\n",
      "Convert dataset:  94%|█████████▎| 18748/20000 [01:42<00:06, 183.34it/s]\u001b[A\u001b[A\n",
      "\n",
      "Convert dataset:  94%|█████████▍| 18767/20000 [01:42<00:06, 177.80it/s]\u001b[A\u001b[A\n",
      "\n",
      "Convert dataset:  94%|█████████▍| 18787/20000 [01:42<00:06, 180.94it/s]\u001b[A\u001b[A\n",
      "\n",
      "Convert dataset:  94%|█████████▍| 18806/20000 [01:42<00:06, 173.35it/s]\u001b[A\u001b[A\n",
      "\n",
      "Convert dataset:  94%|█████████▍| 18836/20000 [01:42<00:05, 198.38it/s]\u001b[A\u001b[A\n",
      "\n",
      "Convert dataset:  94%|█████████▍| 18858/20000 [01:42<00:05, 200.10it/s]\u001b[A\u001b[A\n",
      "\n",
      "Convert dataset:  94%|█████████▍| 18880/20000 [01:42<00:06, 186.16it/s]\u001b[A\u001b[A\n",
      "\n",
      "Convert dataset:  95%|█████████▍| 18902/20000 [01:42<00:05, 193.40it/s]\u001b[A\u001b[A\n",
      "\n",
      "Convert dataset:  95%|█████████▍| 18923/20000 [01:43<00:05, 192.82it/s]\u001b[A\u001b[A\n",
      "\n",
      "Convert dataset:  95%|█████████▍| 18946/20000 [01:43<00:05, 200.01it/s]\u001b[A\u001b[A\n",
      "\n",
      "Convert dataset:  95%|█████████▍| 18968/20000 [01:43<00:05, 204.53it/s]\u001b[A\u001b[A\n",
      "\n",
      "Convert dataset:  95%|█████████▍| 18989/20000 [01:43<00:05, 178.74it/s]\u001b[A\u001b[A\n",
      "\n",
      "Convert dataset:  95%|█████████▌| 19008/20000 [01:43<00:05, 179.21it/s]\u001b[A\u001b[A\n",
      "\n",
      "Convert dataset:  95%|█████████▌| 19027/20000 [01:43<00:05, 177.03it/s]\u001b[A\u001b[A\n",
      "\n",
      "Convert dataset:  95%|█████████▌| 19051/20000 [01:43<00:04, 191.53it/s]\u001b[A\u001b[A\n",
      "\n",
      "Convert dataset:  95%|█████████▌| 19071/20000 [01:43<00:04, 190.11it/s]\u001b[A\u001b[A\n",
      "\n",
      "Convert dataset:  95%|█████████▌| 19091/20000 [01:43<00:05, 177.54it/s]\u001b[A\u001b[A\n",
      "\n",
      "Convert dataset:  96%|█████████▌| 19114/20000 [01:44<00:04, 185.09it/s]\u001b[A\u001b[A\n",
      "\n",
      "Convert dataset:  96%|█████████▌| 19138/20000 [01:44<00:04, 196.88it/s]\u001b[A\u001b[A\n",
      "\n",
      "Convert dataset:  96%|█████████▌| 19159/20000 [01:44<00:04, 172.71it/s]\u001b[A\u001b[A\n",
      "\n",
      "Convert dataset:  96%|█████████▌| 19178/20000 [01:44<00:04, 172.10it/s]\u001b[A\u001b[A\n",
      "\n",
      "Convert dataset:  96%|█████████▌| 19196/20000 [01:44<00:04, 172.32it/s]\u001b[A\u001b[A\n",
      "\n",
      "Convert dataset:  96%|█████████▌| 19214/20000 [01:44<00:04, 168.56it/s]\u001b[A\u001b[A\n",
      "\n",
      "Convert dataset:  96%|█████████▌| 19232/20000 [01:44<00:04, 168.77it/s]\u001b[A\u001b[A\n",
      "\n",
      "Convert dataset:  96%|█████████▋| 19250/20000 [01:44<00:04, 171.03it/s]\u001b[A\u001b[A\n",
      "\n",
      "Convert dataset:  96%|█████████▋| 19268/20000 [01:44<00:04, 155.28it/s]\u001b[A\u001b[A\n",
      "\n",
      "Convert dataset:  96%|█████████▋| 19291/20000 [01:45<00:04, 171.35it/s]\u001b[A\u001b[A\n",
      "\n",
      "Convert dataset:  97%|█████████▋| 19309/20000 [01:45<00:04, 140.99it/s]\u001b[A\u001b[A\n",
      "\n",
      "Convert dataset:  97%|█████████▋| 19327/20000 [01:45<00:04, 146.74it/s]\u001b[A\u001b[A\n",
      "\n",
      "Convert dataset:  97%|█████████▋| 19348/20000 [01:45<00:04, 159.89it/s]\u001b[A\u001b[A\n",
      "\n",
      "Convert dataset:  97%|█████████▋| 19369/20000 [01:45<00:03, 172.19it/s]\u001b[A\u001b[A\n",
      "\n",
      "Convert dataset:  97%|█████████▋| 19388/20000 [01:45<00:03, 166.70it/s]\u001b[A\u001b[A\n",
      "\n",
      "Convert dataset:  97%|█████████▋| 19411/20000 [01:45<00:03, 180.04it/s]\u001b[A\u001b[A\n",
      "\n",
      "Convert dataset:  97%|█████████▋| 19430/20000 [01:45<00:03, 156.85it/s]\u001b[A\u001b[A\n",
      "\n",
      "Convert dataset:  97%|█████████▋| 19447/20000 [01:46<00:04, 130.83it/s]\u001b[A\u001b[A\n",
      "\n",
      "Convert dataset:  97%|█████████▋| 19462/20000 [01:46<00:04, 128.16it/s]\u001b[A\u001b[A\n",
      "\n",
      "Convert dataset:  97%|█████████▋| 19476/20000 [01:46<00:04, 119.89it/s]\u001b[A\u001b[A\n",
      "\n",
      "Convert dataset:  97%|█████████▋| 19489/20000 [01:46<00:04, 112.08it/s]\u001b[A\u001b[A\n",
      "\n",
      "Convert dataset:  98%|█████████▊| 19509/20000 [01:46<00:03, 128.62it/s]\u001b[A\u001b[A\n",
      "\n",
      "Convert dataset:  98%|█████████▊| 19531/20000 [01:46<00:03, 144.27it/s]\u001b[A\u001b[A\n",
      "\n",
      "Convert dataset:  98%|█████████▊| 19548/20000 [01:46<00:03, 144.74it/s]\u001b[A\u001b[A\n",
      "\n",
      "Convert dataset:  98%|█████████▊| 19568/20000 [01:46<00:02, 157.14it/s]\u001b[A\u001b[A\n",
      "\n",
      "Convert dataset:  98%|█████████▊| 19591/20000 [01:47<00:02, 172.97it/s]\u001b[A\u001b[A\n",
      "\n",
      "Convert dataset:  98%|█████████▊| 19613/20000 [01:47<00:02, 183.69it/s]\u001b[A\u001b[A\n",
      "\n",
      "Convert dataset:  98%|█████████▊| 19633/20000 [01:47<00:02, 179.48it/s]\u001b[A\u001b[A\n",
      "\n",
      "Convert dataset:  98%|█████████▊| 19654/20000 [01:47<00:01, 186.09it/s]\u001b[A\u001b[A\n",
      "\n",
      "Convert dataset:  98%|█████████▊| 19674/20000 [01:47<00:02, 157.80it/s]\u001b[A\u001b[A\n",
      "\n",
      "Convert dataset:  98%|█████████▊| 19691/20000 [01:47<00:02, 135.70it/s]\u001b[A\u001b[A\n",
      "\n",
      "Convert dataset:  99%|█████████▊| 19706/20000 [01:47<00:02, 127.21it/s]\u001b[A\u001b[A\n",
      "\n",
      "Convert dataset:  99%|█████████▊| 19729/20000 [01:47<00:01, 146.69it/s]\u001b[A\u001b[A\n",
      "\n",
      "Convert dataset:  99%|█████████▊| 19746/20000 [01:48<00:01, 133.18it/s]\u001b[A\u001b[A\n",
      "\n",
      "Convert dataset:  99%|█████████▉| 19771/20000 [01:48<00:01, 154.30it/s]\u001b[A\u001b[A\n",
      "\n",
      "Convert dataset:  99%|█████████▉| 19792/20000 [01:48<00:01, 160.82it/s]\u001b[A\u001b[A\n",
      "\n",
      "Convert dataset:  99%|█████████▉| 19814/20000 [01:48<00:01, 174.06it/s]\u001b[A\u001b[A\n",
      "\n",
      "Convert dataset:  99%|█████████▉| 19833/20000 [01:48<00:00, 170.60it/s]\u001b[A\u001b[A\n",
      "\n",
      "Convert dataset:  99%|█████████▉| 19852/20000 [01:48<00:00, 155.32it/s]\u001b[A\u001b[A\n",
      "\n",
      "Convert dataset:  99%|█████████▉| 19874/20000 [01:48<00:00, 161.42it/s]\u001b[A\u001b[A\n",
      "\n",
      "Convert dataset:  99%|█████████▉| 19891/20000 [01:48<00:00, 162.83it/s]\u001b[A\u001b[A\n",
      "\n",
      "Convert dataset: 100%|█████████▉| 19910/20000 [01:49<00:00, 169.14it/s]\u001b[A\u001b[A\n",
      "\n",
      "Convert dataset: 100%|█████████▉| 19929/20000 [01:49<00:00, 171.37it/s]\u001b[A\u001b[A\n",
      "\n",
      "Convert dataset: 100%|█████████▉| 19958/20000 [01:49<00:00, 194.75it/s]\u001b[A\u001b[A\n",
      "\n",
      "Convert dataset: 100%|█████████▉| 19979/20000 [01:49<00:00, 198.39it/s]\u001b[A\u001b[A\n",
      "\n",
      "Convert dataset: 100%|██████████| 20000/20000 [01:49<00:00, 186.31it/s]\u001b[A\u001b[A"
     ]
    }
   ],
   "source": [
    "# train_examples = all_examples[:train_dev_test_split[0]]\n",
    "train_examples = all_examples[:20000]\n",
    "train_data = SentencesDataset(train_examples, model, show_progress_bar=True)\n",
    "train_dataloader = DataLoader(train_data, shuffle=True, batch_size=8)"
   ]
  },
  {
   "cell_type": "code",
   "execution_count": 47,
   "metadata": {
    "scrolled": true
   },
   "outputs": [
    {
     "name": "stderr",
     "output_type": "stream",
     "text": [
      "\n",
      "\n",
      "Convert dataset:   0%|          | 0/1000 [00:00<?, ?it/s]\u001b[A\u001b[A\n",
      "\n",
      "Convert dataset:   2%|▏         | 17/1000 [00:00<00:05, 169.95it/s]\u001b[A\u001b[A\n",
      "\n",
      "Convert dataset:   4%|▍         | 42/1000 [00:00<00:05, 186.25it/s]\u001b[A\u001b[A\n",
      "\n",
      "Convert dataset:   6%|▌         | 57/1000 [00:00<00:05, 171.71it/s]\u001b[A\u001b[A\n",
      "\n",
      "Convert dataset:   8%|▊         | 81/1000 [00:00<00:04, 187.19it/s]\u001b[A\u001b[A\n",
      "\n",
      "Convert dataset:  10%|▉         | 99/1000 [00:00<00:04, 184.78it/s]\u001b[A\u001b[A\n",
      "\n",
      "Convert dataset:  12%|█▏        | 117/1000 [00:00<00:04, 182.79it/s]\u001b[A\u001b[A\n",
      "\n",
      "Convert dataset:  13%|█▎        | 134/1000 [00:00<00:05, 161.71it/s]\u001b[A\u001b[A\n",
      "\n",
      "Convert dataset:  15%|█▌        | 150/1000 [00:00<00:06, 136.45it/s]\u001b[A\u001b[A\n",
      "\n",
      "Convert dataset:  16%|█▋        | 164/1000 [00:01<00:06, 134.98it/s]\u001b[A\u001b[A\n",
      "\n",
      "Convert dataset:  18%|█▊        | 178/1000 [00:01<00:07, 109.88it/s]\u001b[A\u001b[A\n",
      "\n",
      "Convert dataset:  19%|█▉        | 190/1000 [00:01<00:08, 100.32it/s]\u001b[A\u001b[A\n",
      "\n",
      "Convert dataset:  21%|██        | 210/1000 [00:01<00:06, 116.62it/s]\u001b[A\u001b[A\n",
      "\n",
      "Convert dataset:  22%|██▏       | 224/1000 [00:01<00:06, 117.06it/s]\u001b[A\u001b[A\n",
      "\n",
      "Convert dataset:  24%|██▍       | 244/1000 [00:01<00:05, 133.42it/s]\u001b[A\u001b[A\n",
      "\n",
      "Convert dataset:  27%|██▋       | 267/1000 [00:01<00:04, 152.02it/s]\u001b[A\u001b[A\n",
      "\n",
      "Convert dataset:  29%|██▉       | 288/1000 [00:01<00:04, 163.41it/s]\u001b[A\u001b[A\n",
      "\n",
      "Convert dataset:  31%|███       | 310/1000 [00:01<00:03, 176.28it/s]\u001b[A\u001b[A\n",
      "\n",
      "Convert dataset:  33%|███▎      | 330/1000 [00:02<00:04, 152.10it/s]\u001b[A\u001b[A\n",
      "\n",
      "Convert dataset:  35%|███▌      | 350/1000 [00:02<00:03, 163.43it/s]\u001b[A\u001b[A\n",
      "\n",
      "Convert dataset:  37%|███▋      | 374/1000 [00:02<00:03, 179.47it/s]\u001b[A\u001b[A\n",
      "\n",
      "Convert dataset:  39%|███▉      | 394/1000 [00:02<00:03, 173.81it/s]\u001b[A\u001b[A\n",
      "\n",
      "Convert dataset:  42%|████▏     | 417/1000 [00:02<00:03, 187.51it/s]\u001b[A\u001b[A\n",
      "\n",
      "Convert dataset:  44%|████▎     | 437/1000 [00:02<00:03, 178.68it/s]\u001b[A\u001b[A\n",
      "\n",
      "Convert dataset:  46%|████▌     | 456/1000 [00:02<00:03, 179.09it/s]\u001b[A\u001b[A\n",
      "\n",
      "Convert dataset:  48%|████▊     | 475/1000 [00:02<00:02, 181.20it/s]\u001b[A\u001b[A\n",
      "\n",
      "Convert dataset:  49%|████▉     | 494/1000 [00:03<00:02, 180.47it/s]\u001b[A\u001b[A\n",
      "\n",
      "Convert dataset:  51%|█████▏    | 514/1000 [00:03<00:02, 183.95it/s]\u001b[A\u001b[A\n",
      "\n",
      "Convert dataset:  53%|█████▎    | 534/1000 [00:03<00:02, 182.87it/s]\u001b[A\u001b[A\n",
      "\n",
      "Convert dataset:  55%|█████▌    | 554/1000 [00:03<00:02, 181.77it/s]\u001b[A\u001b[A\n",
      "\n",
      "Convert dataset:  57%|█████▊    | 575/1000 [00:03<00:02, 185.93it/s]\u001b[A\u001b[A\n",
      "\n",
      "Convert dataset:  59%|█████▉    | 594/1000 [00:03<00:02, 175.54it/s]\u001b[A\u001b[A\n",
      "\n",
      "Convert dataset:  61%|██████▏   | 613/1000 [00:03<00:02, 178.77it/s]\u001b[A\u001b[A\n",
      "\n",
      "Convert dataset:  63%|██████▎   | 632/1000 [00:03<00:02, 176.12it/s]\u001b[A\u001b[A\n",
      "\n",
      "Convert dataset:  65%|██████▌   | 654/1000 [00:03<00:01, 186.74it/s]\u001b[A\u001b[A\n",
      "\n",
      "Convert dataset:  67%|██████▋   | 673/1000 [00:03<00:01, 182.42it/s]\u001b[A\u001b[A\n",
      "\n",
      "Convert dataset:  69%|██████▉   | 692/1000 [00:04<00:01, 183.50it/s]\u001b[A\u001b[A\n",
      "\n",
      "Convert dataset:  71%|███████▏  | 714/1000 [00:04<00:01, 192.58it/s]\u001b[A\u001b[A\n",
      "\n",
      "Convert dataset:  73%|███████▎  | 734/1000 [00:04<00:01, 189.60it/s]\u001b[A\u001b[A\n",
      "\n",
      "Convert dataset:  75%|███████▌  | 754/1000 [00:04<00:01, 176.04it/s]\u001b[A\u001b[A\n",
      "\n",
      "Convert dataset:  77%|███████▋  | 772/1000 [00:04<00:01, 176.76it/s]\u001b[A\u001b[A\n",
      "\n",
      "Convert dataset:  79%|███████▉  | 791/1000 [00:04<00:01, 179.79it/s]\u001b[A\u001b[A\n",
      "\n",
      "Convert dataset:  81%|████████  | 810/1000 [00:04<00:01, 157.35it/s]\u001b[A\u001b[A\n",
      "\n",
      "Convert dataset:  83%|████████▎ | 828/1000 [00:04<00:01, 161.61it/s]\u001b[A\u001b[A\n",
      "\n",
      "Convert dataset:  85%|████████▍ | 848/1000 [00:05<00:00, 170.26it/s]\u001b[A\u001b[A\n",
      "\n",
      "Convert dataset:  87%|████████▋ | 872/1000 [00:05<00:00, 183.42it/s]\u001b[A\u001b[A\n",
      "\n",
      "Convert dataset:  90%|████████▉ | 898/1000 [00:05<00:00, 200.54it/s]\u001b[A\u001b[A\n",
      "\n",
      "Convert dataset:  92%|█████████▏| 922/1000 [00:05<00:00, 208.72it/s]\u001b[A\u001b[A\n",
      "\n",
      "Convert dataset:  94%|█████████▍| 945/1000 [00:05<00:00, 211.57it/s]\u001b[A\u001b[A\n",
      "\n",
      "Convert dataset:  97%|█████████▋| 967/1000 [00:05<00:00, 197.25it/s]\u001b[A\u001b[A\n",
      "\n",
      "Convert dataset:  99%|█████████▉| 988/1000 [00:05<00:00, 194.72it/s]\u001b[A\u001b[A\n",
      "\n",
      "Convert dataset: 100%|██████████| 1000/1000 [00:05<00:00, 174.47it/s]\u001b[A\u001b[A"
     ]
    }
   ],
   "source": [
    "# dev_examples = all_examples[train_dev_test_split[0]:train_dev_test_split[1]]\n",
    "\n",
    "dev_examples = all_examples[train_dev_test_split[1]:train_dev_test_split[1]+1000]\n",
    "dev_data = SentencesDataset(dev_examples, model, show_progress_bar=True)\n",
    "dev_dataloader = DataLoader(dev_data, shuffle=False, batch_size=8)"
   ]
  },
  {
   "cell_type": "code",
   "execution_count": 48,
   "metadata": {},
   "outputs": [],
   "source": [
    "train_loss = losses.CosineSimilarityLoss(model=model)\n",
    "evaluator = EmbeddingSimilarityEvaluator(dev_dataloader)"
   ]
  },
  {
   "cell_type": "code",
   "execution_count": 49,
   "metadata": {
    "scrolled": true
   },
   "outputs": [
    {
     "name": "stderr",
     "output_type": "stream",
     "text": [
      "\n",
      "\n",
      "Epoch:   0%|          | 0/10 [00:00<?, ?it/s]\u001b[A\u001b[A\n",
      "\n",
      "\n",
      "Iteration:   0%|          | 0/2500 [00:00<?, ?it/s]\u001b[A\u001b[A\u001b[A"
     ]
    },
    {
     "name": "stdout",
     "output_type": "stream",
     "text": [
      "Step 0/25000: Loss val: tensor(nan, device='cuda:0', grad_fn=<MseLossBackward>)\n"
     ]
    },
    {
     "name": "stderr",
     "output_type": "stream",
     "text": [
      "\n",
      "\n",
      "\n",
      "Iteration:   0%|          | 1/2500 [00:00<18:33,  2.25it/s]\u001b[A\u001b[A\u001b[A"
     ]
    },
    {
     "name": "stdout",
     "output_type": "stream",
     "text": [
      "Step 1/25000: Loss val: tensor(nan, device='cuda:0', grad_fn=<MseLossBackward>)\n"
     ]
    },
    {
     "name": "stderr",
     "output_type": "stream",
     "text": [
      "\n",
      "\n",
      "\n",
      "Iteration:   0%|          | 2/2500 [00:00<18:29,  2.25it/s]\u001b[A\u001b[A\u001b[A"
     ]
    },
    {
     "name": "stdout",
     "output_type": "stream",
     "text": [
      "Step 2/25000: Loss val: tensor(nan, device='cuda:0', grad_fn=<MseLossBackward>)\n"
     ]
    },
    {
     "name": "stderr",
     "output_type": "stream",
     "text": [
      "\n",
      "\n",
      "\n",
      "Iteration:   0%|          | 3/2500 [00:01<18:25,  2.26it/s]\u001b[A\u001b[A\u001b[A"
     ]
    },
    {
     "name": "stdout",
     "output_type": "stream",
     "text": [
      "Step 3/25000: Loss val: tensor(nan, device='cuda:0', grad_fn=<MseLossBackward>)\n"
     ]
    },
    {
     "name": "stderr",
     "output_type": "stream",
     "text": [
      "\n",
      "\n",
      "\n",
      "Iteration:   0%|          | 4/2500 [00:01<18:22,  2.26it/s]\u001b[A\u001b[A\u001b[A"
     ]
    },
    {
     "name": "stdout",
     "output_type": "stream",
     "text": [
      "Step 4/25000: Loss val: tensor(nan, device='cuda:0', grad_fn=<MseLossBackward>)\n"
     ]
    },
    {
     "name": "stderr",
     "output_type": "stream",
     "text": [
      "\n",
      "\n",
      "\n",
      "Iteration:   0%|          | 5/2500 [00:02<18:18,  2.27it/s]\u001b[A\u001b[A\u001b[A"
     ]
    },
    {
     "name": "stdout",
     "output_type": "stream",
     "text": [
      "Step 5/25000: Loss val: tensor(nan, device='cuda:0', grad_fn=<MseLossBackward>)\n"
     ]
    },
    {
     "name": "stderr",
     "output_type": "stream",
     "text": [
      "\n",
      "\n",
      "\n",
      "Iteration:   0%|          | 6/2500 [00:02<18:15,  2.28it/s]\u001b[A\u001b[A\u001b[A"
     ]
    },
    {
     "name": "stdout",
     "output_type": "stream",
     "text": [
      "Step 6/25000: Loss val: tensor(nan, device='cuda:0', grad_fn=<MseLossBackward>)\n"
     ]
    },
    {
     "name": "stderr",
     "output_type": "stream",
     "text": [
      "\n",
      "\n",
      "\n",
      "Iteration:   0%|          | 7/2500 [00:02<18:12,  2.28it/s]\u001b[A\u001b[A\u001b[A"
     ]
    },
    {
     "name": "stdout",
     "output_type": "stream",
     "text": [
      "Step 7/25000: Loss val: tensor(nan, device='cuda:0', grad_fn=<MseLossBackward>)\n"
     ]
    },
    {
     "name": "stderr",
     "output_type": "stream",
     "text": [
      "\n",
      "\n",
      "\n",
      "Iteration:   0%|          | 8/2500 [00:03<18:09,  2.29it/s]\u001b[A\u001b[A\u001b[A"
     ]
    },
    {
     "name": "stdout",
     "output_type": "stream",
     "text": [
      "Step 8/25000: Loss val: tensor(nan, device='cuda:0', grad_fn=<MseLossBackward>)\n"
     ]
    },
    {
     "name": "stderr",
     "output_type": "stream",
     "text": [
      "\n",
      "\n",
      "\n",
      "Iteration:   0%|          | 9/2500 [00:03<18:06,  2.29it/s]\u001b[A\u001b[A\u001b[A"
     ]
    },
    {
     "name": "stdout",
     "output_type": "stream",
     "text": [
      "Step 9/25000: Loss val: tensor(nan, device='cuda:0', grad_fn=<MseLossBackward>)\n"
     ]
    },
    {
     "name": "stderr",
     "output_type": "stream",
     "text": [
      "\n",
      "\n",
      "\n",
      "Iteration:   0%|          | 10/2500 [00:04<18:04,  2.30it/s]\u001b[A\u001b[A\u001b[A"
     ]
    },
    {
     "name": "stdout",
     "output_type": "stream",
     "text": [
      "Step 10/25000: Loss val: tensor(nan, device='cuda:0', grad_fn=<MseLossBackward>)\n"
     ]
    },
    {
     "name": "stderr",
     "output_type": "stream",
     "text": [
      "\n",
      "\n",
      "\n",
      "Iteration:   0%|          | 11/2500 [00:04<18:01,  2.30it/s]\u001b[A\u001b[A\u001b[A"
     ]
    },
    {
     "name": "stdout",
     "output_type": "stream",
     "text": [
      "Step 11/25000: Loss val: tensor(nan, device='cuda:0', grad_fn=<MseLossBackward>)\n"
     ]
    },
    {
     "name": "stderr",
     "output_type": "stream",
     "text": [
      "\n",
      "\n",
      "\n",
      "Iteration:   0%|          | 12/2500 [00:05<17:59,  2.31it/s]\u001b[A\u001b[A\u001b[A"
     ]
    },
    {
     "name": "stdout",
     "output_type": "stream",
     "text": [
      "Step 12/25000: Loss val: tensor(nan, device='cuda:0', grad_fn=<MseLossBackward>)\n"
     ]
    },
    {
     "name": "stderr",
     "output_type": "stream",
     "text": [
      "\n",
      "\n",
      "\n",
      "Iteration:   1%|          | 13/2500 [00:05<17:56,  2.31it/s]\u001b[A\u001b[A\u001b[A"
     ]
    },
    {
     "name": "stdout",
     "output_type": "stream",
     "text": [
      "Step 13/25000: Loss val: tensor(nan, device='cuda:0', grad_fn=<MseLossBackward>)\n"
     ]
    },
    {
     "name": "stderr",
     "output_type": "stream",
     "text": [
      "\n",
      "\n",
      "\n",
      "Iteration:   1%|          | 14/2500 [00:05<17:54,  2.31it/s]\u001b[A\u001b[A\u001b[A"
     ]
    },
    {
     "name": "stdout",
     "output_type": "stream",
     "text": [
      "Step 14/25000: Loss val: tensor(nan, device='cuda:0', grad_fn=<MseLossBackward>)\n"
     ]
    },
    {
     "name": "stderr",
     "output_type": "stream",
     "text": [
      "\n",
      "\n",
      "\n",
      "Iteration:   1%|          | 15/2500 [00:06<17:52,  2.32it/s]\u001b[A\u001b[A\u001b[A"
     ]
    },
    {
     "name": "stdout",
     "output_type": "stream",
     "text": [
      "Step 15/25000: Loss val: tensor(nan, device='cuda:0', grad_fn=<MseLossBackward>)\n"
     ]
    },
    {
     "name": "stderr",
     "output_type": "stream",
     "text": [
      "\n",
      "\n",
      "\n",
      "Iteration:   1%|          | 16/2500 [00:06<17:50,  2.32it/s]\u001b[A\u001b[A\u001b[A"
     ]
    },
    {
     "name": "stdout",
     "output_type": "stream",
     "text": [
      "Step 16/25000: Loss val: tensor(nan, device='cuda:0', grad_fn=<MseLossBackward>)\n"
     ]
    },
    {
     "name": "stderr",
     "output_type": "stream",
     "text": [
      "\n",
      "\n",
      "\n",
      "Iteration:   1%|          | 17/2500 [00:07<17:48,  2.32it/s]\u001b[A\u001b[A\u001b[A"
     ]
    },
    {
     "name": "stdout",
     "output_type": "stream",
     "text": [
      "Step 17/25000: Loss val: tensor(nan, device='cuda:0', grad_fn=<MseLossBackward>)\n"
     ]
    },
    {
     "name": "stderr",
     "output_type": "stream",
     "text": [
      "\n",
      "\n",
      "\n",
      "Iteration:   1%|          | 18/2500 [00:07<17:46,  2.33it/s]\u001b[A\u001b[A\u001b[A"
     ]
    },
    {
     "name": "stdout",
     "output_type": "stream",
     "text": [
      "Step 18/25000: Loss val: tensor(nan, device='cuda:0', grad_fn=<MseLossBackward>)\n"
     ]
    },
    {
     "name": "stderr",
     "output_type": "stream",
     "text": [
      "\n",
      "\n",
      "\n",
      "Iteration:   1%|          | 19/2500 [00:07<17:44,  2.33it/s]\u001b[A\u001b[A\u001b[A"
     ]
    },
    {
     "name": "stdout",
     "output_type": "stream",
     "text": [
      "Step 19/25000: Loss val: tensor(nan, device='cuda:0', grad_fn=<MseLossBackward>)\n"
     ]
    },
    {
     "name": "stderr",
     "output_type": "stream",
     "text": [
      "\n",
      "\n",
      "\n",
      "Iteration:   1%|          | 20/2500 [00:08<17:42,  2.33it/s]\u001b[A\u001b[A\u001b[A"
     ]
    },
    {
     "name": "stdout",
     "output_type": "stream",
     "text": [
      "Step 20/25000: Loss val: tensor(nan, device='cuda:0', grad_fn=<MseLossBackward>)\n"
     ]
    },
    {
     "name": "stderr",
     "output_type": "stream",
     "text": [
      "\n",
      "\n",
      "\n",
      "Iteration:   1%|          | 21/2500 [00:08<17:41,  2.34it/s]\u001b[A\u001b[A\u001b[A"
     ]
    },
    {
     "name": "stdout",
     "output_type": "stream",
     "text": [
      "Step 21/25000: Loss val: tensor(nan, device='cuda:0', grad_fn=<MseLossBackward>)\n"
     ]
    },
    {
     "name": "stderr",
     "output_type": "stream",
     "text": [
      "\n",
      "\n",
      "\n",
      "Iteration:   1%|          | 22/2500 [00:09<17:39,  2.34it/s]\u001b[A\u001b[A\u001b[A"
     ]
    },
    {
     "name": "stdout",
     "output_type": "stream",
     "text": [
      "Step 22/25000: Loss val: tensor(nan, device='cuda:0', grad_fn=<MseLossBackward>)\n"
     ]
    },
    {
     "name": "stderr",
     "output_type": "stream",
     "text": [
      "\n",
      "\n",
      "\n",
      "Iteration:   1%|          | 23/2500 [00:09<17:37,  2.34it/s]\u001b[A\u001b[A\u001b[A"
     ]
    },
    {
     "name": "stdout",
     "output_type": "stream",
     "text": [
      "Step 23/25000: Loss val: tensor(nan, device='cuda:0', grad_fn=<MseLossBackward>)\n"
     ]
    },
    {
     "name": "stderr",
     "output_type": "stream",
     "text": [
      "\n",
      "\n",
      "\n",
      "Iteration:   1%|          | 24/2500 [00:10<17:36,  2.34it/s]\u001b[A\u001b[A\u001b[A"
     ]
    },
    {
     "name": "stdout",
     "output_type": "stream",
     "text": [
      "Step 24/25000: Loss val: tensor(nan, device='cuda:0', grad_fn=<MseLossBackward>)\n"
     ]
    },
    {
     "name": "stderr",
     "output_type": "stream",
     "text": [
      "\n",
      "\n",
      "\n",
      "Iteration:   1%|          | 25/2500 [00:10<17:34,  2.35it/s]\u001b[A\u001b[A\u001b[A"
     ]
    },
    {
     "name": "stdout",
     "output_type": "stream",
     "text": [
      "Step 25/25000: Loss val: tensor(nan, device='cuda:0', grad_fn=<MseLossBackward>)\n"
     ]
    },
    {
     "name": "stderr",
     "output_type": "stream",
     "text": [
      "\n",
      "\n",
      "\n",
      "Iteration:   1%|          | 26/2500 [00:10<17:33,  2.35it/s]\u001b[A\u001b[A\u001b[A"
     ]
    },
    {
     "name": "stdout",
     "output_type": "stream",
     "text": [
      "Step 26/25000: Loss val: tensor(nan, device='cuda:0', grad_fn=<MseLossBackward>)\n"
     ]
    },
    {
     "name": "stderr",
     "output_type": "stream",
     "text": [
      "\n",
      "\n",
      "\n",
      "Iteration:   1%|          | 27/2500 [00:11<17:31,  2.35it/s]\u001b[A\u001b[A\u001b[A"
     ]
    },
    {
     "name": "stdout",
     "output_type": "stream",
     "text": [
      "Step 27/25000: Loss val: tensor(nan, device='cuda:0', grad_fn=<MseLossBackward>)\n"
     ]
    },
    {
     "name": "stderr",
     "output_type": "stream",
     "text": [
      "\n",
      "\n",
      "\n",
      "Iteration:   1%|          | 28/2500 [00:11<17:30,  2.35it/s]\u001b[A\u001b[A\u001b[A"
     ]
    },
    {
     "name": "stdout",
     "output_type": "stream",
     "text": [
      "Step 28/25000: Loss val: tensor(nan, device='cuda:0', grad_fn=<MseLossBackward>)\n"
     ]
    },
    {
     "name": "stderr",
     "output_type": "stream",
     "text": [
      "\n",
      "\n",
      "\n",
      "Iteration:   1%|          | 29/2500 [00:12<17:29,  2.35it/s]\u001b[A\u001b[A\u001b[A"
     ]
    },
    {
     "name": "stdout",
     "output_type": "stream",
     "text": [
      "Step 29/25000: Loss val: tensor(nan, device='cuda:0', grad_fn=<MseLossBackward>)\n"
     ]
    },
    {
     "name": "stderr",
     "output_type": "stream",
     "text": [
      "\n",
      "\n",
      "\n",
      "Iteration:   1%|          | 30/2500 [00:12<17:28,  2.36it/s]\u001b[A\u001b[A\u001b[A"
     ]
    },
    {
     "name": "stdout",
     "output_type": "stream",
     "text": [
      "Step 30/25000: Loss val: tensor(nan, device='cuda:0', grad_fn=<MseLossBackward>)\n"
     ]
    },
    {
     "name": "stderr",
     "output_type": "stream",
     "text": [
      "\n",
      "\n",
      "\n",
      "Iteration:   1%|          | 31/2500 [00:12<17:27,  2.36it/s]\u001b[A\u001b[A\u001b[A"
     ]
    },
    {
     "name": "stdout",
     "output_type": "stream",
     "text": [
      "Step 31/25000: Loss val: tensor(nan, device='cuda:0', grad_fn=<MseLossBackward>)\n"
     ]
    },
    {
     "name": "stderr",
     "output_type": "stream",
     "text": [
      "\n",
      "\n",
      "\n",
      "Iteration:   1%|▏         | 32/2500 [00:13<17:26,  2.36it/s]\u001b[A\u001b[A\u001b[A"
     ]
    },
    {
     "name": "stdout",
     "output_type": "stream",
     "text": [
      "Step 32/25000: Loss val: tensor(nan, device='cuda:0', grad_fn=<MseLossBackward>)\n"
     ]
    },
    {
     "name": "stderr",
     "output_type": "stream",
     "text": [
      "\n",
      "\n",
      "\n",
      "Iteration:   1%|▏         | 33/2500 [00:13<17:25,  2.36it/s]\u001b[A\u001b[A\u001b[A"
     ]
    },
    {
     "name": "stdout",
     "output_type": "stream",
     "text": [
      "Step 33/25000: Loss val: tensor(nan, device='cuda:0', grad_fn=<MseLossBackward>)\n"
     ]
    },
    {
     "name": "stderr",
     "output_type": "stream",
     "text": [
      "\n",
      "\n",
      "\n",
      "Iteration:   1%|▏         | 34/2500 [00:14<17:24,  2.36it/s]\u001b[A\u001b[A\u001b[A"
     ]
    },
    {
     "name": "stdout",
     "output_type": "stream",
     "text": [
      "Step 34/25000: Loss val: tensor(nan, device='cuda:0', grad_fn=<MseLossBackward>)\n"
     ]
    },
    {
     "name": "stderr",
     "output_type": "stream",
     "text": [
      "\n",
      "\n",
      "\n",
      "Iteration:   1%|▏         | 35/2500 [00:14<17:23,  2.36it/s]\u001b[A\u001b[A\u001b[A"
     ]
    },
    {
     "name": "stdout",
     "output_type": "stream",
     "text": [
      "Step 35/25000: Loss val: tensor(nan, device='cuda:0', grad_fn=<MseLossBackward>)\n"
     ]
    },
    {
     "name": "stderr",
     "output_type": "stream",
     "text": [
      "\n",
      "\n",
      "\n",
      "Iteration:   1%|▏         | 36/2500 [00:15<17:23,  2.36it/s]\u001b[A\u001b[A\u001b[A"
     ]
    },
    {
     "name": "stdout",
     "output_type": "stream",
     "text": [
      "Step 36/25000: Loss val: tensor(nan, device='cuda:0', grad_fn=<MseLossBackward>)\n"
     ]
    },
    {
     "name": "stderr",
     "output_type": "stream",
     "text": [
      "\n",
      "\n",
      "\n",
      "Iteration:   1%|▏         | 37/2500 [00:15<17:22,  2.36it/s]\u001b[A\u001b[A\u001b[A"
     ]
    },
    {
     "name": "stdout",
     "output_type": "stream",
     "text": [
      "Step 37/25000: Loss val: tensor(nan, device='cuda:0', grad_fn=<MseLossBackward>)\n"
     ]
    },
    {
     "name": "stderr",
     "output_type": "stream",
     "text": [
      "\n",
      "\n",
      "\n",
      "Iteration:   2%|▏         | 38/2500 [00:15<17:21,  2.36it/s]\u001b[A\u001b[A\u001b[A"
     ]
    },
    {
     "name": "stdout",
     "output_type": "stream",
     "text": [
      "Step 38/25000: Loss val: tensor(nan, device='cuda:0', grad_fn=<MseLossBackward>)\n"
     ]
    },
    {
     "name": "stderr",
     "output_type": "stream",
     "text": [
      "\n",
      "\n",
      "\n",
      "Iteration:   2%|▏         | 39/2500 [00:16<17:20,  2.36it/s]\u001b[A\u001b[A\u001b[A"
     ]
    },
    {
     "name": "stdout",
     "output_type": "stream",
     "text": [
      "Step 39/25000: Loss val: tensor(nan, device='cuda:0', grad_fn=<MseLossBackward>)\n"
     ]
    },
    {
     "name": "stderr",
     "output_type": "stream",
     "text": [
      "\n",
      "\n",
      "\n",
      "Iteration:   2%|▏         | 40/2500 [00:16<17:19,  2.37it/s]\u001b[A\u001b[A\u001b[A"
     ]
    },
    {
     "name": "stdout",
     "output_type": "stream",
     "text": [
      "Step 40/25000: Loss val: tensor(nan, device='cuda:0', grad_fn=<MseLossBackward>)\n"
     ]
    },
    {
     "name": "stderr",
     "output_type": "stream",
     "text": [
      "\n",
      "\n",
      "\n",
      "Iteration:   2%|▏         | 41/2500 [00:17<17:19,  2.37it/s]\u001b[A\u001b[A\u001b[A"
     ]
    },
    {
     "name": "stdout",
     "output_type": "stream",
     "text": [
      "Step 41/25000: Loss val: tensor(nan, device='cuda:0', grad_fn=<MseLossBackward>)\n"
     ]
    },
    {
     "name": "stderr",
     "output_type": "stream",
     "text": [
      "\n",
      "\n",
      "\n",
      "Iteration:   2%|▏         | 42/2500 [00:17<17:18,  2.37it/s]\u001b[A\u001b[A\u001b[A"
     ]
    },
    {
     "name": "stdout",
     "output_type": "stream",
     "text": [
      "Step 42/25000: Loss val: tensor(nan, device='cuda:0', grad_fn=<MseLossBackward>)\n"
     ]
    },
    {
     "name": "stderr",
     "output_type": "stream",
     "text": [
      "\n",
      "\n",
      "\n",
      "Iteration:   2%|▏         | 43/2500 [00:18<17:17,  2.37it/s]\u001b[A\u001b[A\u001b[A"
     ]
    },
    {
     "name": "stdout",
     "output_type": "stream",
     "text": [
      "Step 43/25000: Loss val: tensor(nan, device='cuda:0', grad_fn=<MseLossBackward>)\n"
     ]
    },
    {
     "name": "stderr",
     "output_type": "stream",
     "text": [
      "\n",
      "\n",
      "\n",
      "Iteration:   2%|▏         | 44/2500 [00:18<17:17,  2.37it/s]\u001b[A\u001b[A\u001b[A"
     ]
    },
    {
     "name": "stdout",
     "output_type": "stream",
     "text": [
      "Step 44/25000: Loss val: tensor(nan, device='cuda:0', grad_fn=<MseLossBackward>)\n"
     ]
    },
    {
     "name": "stderr",
     "output_type": "stream",
     "text": [
      "\n",
      "\n",
      "\n",
      "Iteration:   2%|▏         | 45/2500 [00:18<17:16,  2.37it/s]\u001b[A\u001b[A\u001b[A"
     ]
    },
    {
     "name": "stdout",
     "output_type": "stream",
     "text": [
      "Step 45/25000: Loss val: tensor(nan, device='cuda:0', grad_fn=<MseLossBackward>)\n"
     ]
    },
    {
     "name": "stderr",
     "output_type": "stream",
     "text": [
      "\n",
      "\n",
      "\n",
      "Iteration:   2%|▏         | 46/2500 [00:19<17:15,  2.37it/s]\u001b[A\u001b[A\u001b[A"
     ]
    },
    {
     "name": "stdout",
     "output_type": "stream",
     "text": [
      "Step 46/25000: Loss val: tensor(nan, device='cuda:0', grad_fn=<MseLossBackward>)\n"
     ]
    },
    {
     "name": "stderr",
     "output_type": "stream",
     "text": [
      "\n",
      "\n",
      "\n",
      "Iteration:   2%|▏         | 47/2500 [00:19<17:15,  2.37it/s]\u001b[A\u001b[A\u001b[A"
     ]
    },
    {
     "name": "stdout",
     "output_type": "stream",
     "text": [
      "Step 47/25000: Loss val: tensor(nan, device='cuda:0', grad_fn=<MseLossBackward>)\n"
     ]
    },
    {
     "name": "stderr",
     "output_type": "stream",
     "text": [
      "\n",
      "\n",
      "\n",
      "Iteration:   2%|▏         | 48/2500 [00:20<17:14,  2.37it/s]\u001b[A\u001b[A\u001b[A"
     ]
    },
    {
     "name": "stdout",
     "output_type": "stream",
     "text": [
      "Step 48/25000: Loss val: tensor(nan, device='cuda:0', grad_fn=<MseLossBackward>)\n"
     ]
    },
    {
     "name": "stderr",
     "output_type": "stream",
     "text": [
      "\n",
      "\n",
      "\n",
      "Iteration:   2%|▏         | 49/2500 [00:20<17:14,  2.37it/s]\u001b[A\u001b[A\u001b[A"
     ]
    },
    {
     "name": "stdout",
     "output_type": "stream",
     "text": [
      "Step 49/25000: Loss val: tensor(nan, device='cuda:0', grad_fn=<MseLossBackward>)\n"
     ]
    },
    {
     "name": "stderr",
     "output_type": "stream",
     "text": [
      "\n",
      "\n",
      "\n",
      "Iteration:   2%|▏         | 50/2500 [00:20<17:13,  2.37it/s]\u001b[A\u001b[A\u001b[A"
     ]
    },
    {
     "name": "stdout",
     "output_type": "stream",
     "text": [
      "Step 50/25000: Loss val: tensor(nan, device='cuda:0', grad_fn=<MseLossBackward>)\n"
     ]
    },
    {
     "name": "stderr",
     "output_type": "stream",
     "text": [
      "\n",
      "\n",
      "\n",
      "Iteration:   2%|▏         | 51/2500 [00:21<17:12,  2.37it/s]\u001b[A\u001b[A\u001b[A"
     ]
    },
    {
     "name": "stdout",
     "output_type": "stream",
     "text": [
      "Step 51/25000: Loss val: tensor(nan, device='cuda:0', grad_fn=<MseLossBackward>)\n"
     ]
    },
    {
     "name": "stderr",
     "output_type": "stream",
     "text": [
      "\n",
      "\n",
      "\n",
      "Iteration:   2%|▏         | 52/2500 [00:21<17:12,  2.37it/s]\u001b[A\u001b[A\u001b[A"
     ]
    },
    {
     "name": "stdout",
     "output_type": "stream",
     "text": [
      "Step 52/25000: Loss val: tensor(nan, device='cuda:0', grad_fn=<MseLossBackward>)\n"
     ]
    },
    {
     "name": "stderr",
     "output_type": "stream",
     "text": [
      "\n",
      "\n",
      "\n",
      "Iteration:   2%|▏         | 53/2500 [00:22<17:11,  2.37it/s]\u001b[A\u001b[A\u001b[A"
     ]
    },
    {
     "name": "stdout",
     "output_type": "stream",
     "text": [
      "Step 53/25000: Loss val: tensor(nan, device='cuda:0', grad_fn=<MseLossBackward>)\n"
     ]
    },
    {
     "name": "stderr",
     "output_type": "stream",
     "text": [
      "\n",
      "\n",
      "\n",
      "Iteration:   2%|▏         | 54/2500 [00:22<17:11,  2.37it/s]\u001b[A\u001b[A\u001b[A"
     ]
    },
    {
     "name": "stdout",
     "output_type": "stream",
     "text": [
      "Step 54/25000: Loss val: tensor(nan, device='cuda:0', grad_fn=<MseLossBackward>)\n"
     ]
    },
    {
     "name": "stderr",
     "output_type": "stream",
     "text": [
      "\n",
      "\n",
      "\n",
      "Iteration:   2%|▏         | 55/2500 [00:23<17:10,  2.37it/s]\u001b[A\u001b[A\u001b[A"
     ]
    },
    {
     "name": "stdout",
     "output_type": "stream",
     "text": [
      "Step 55/25000: Loss val: tensor(nan, device='cuda:0', grad_fn=<MseLossBackward>)\n"
     ]
    },
    {
     "name": "stderr",
     "output_type": "stream",
     "text": [
      "\n",
      "\n",
      "\n",
      "Iteration:   2%|▏         | 56/2500 [00:23<17:10,  2.37it/s]\u001b[A\u001b[A\u001b[A"
     ]
    },
    {
     "name": "stdout",
     "output_type": "stream",
     "text": [
      "Step 56/25000: Loss val: tensor(nan, device='cuda:0', grad_fn=<MseLossBackward>)\n"
     ]
    },
    {
     "name": "stderr",
     "output_type": "stream",
     "text": [
      "\n",
      "\n",
      "\n",
      "Iteration:   2%|▏         | 57/2500 [00:23<17:09,  2.37it/s]\u001b[A\u001b[A\u001b[A"
     ]
    },
    {
     "name": "stdout",
     "output_type": "stream",
     "text": [
      "Step 57/25000: Loss val: tensor(nan, device='cuda:0', grad_fn=<MseLossBackward>)\n"
     ]
    },
    {
     "name": "stderr",
     "output_type": "stream",
     "text": [
      "\n",
      "\n",
      "\n",
      "Iteration:   2%|▏         | 58/2500 [00:24<17:09,  2.37it/s]\u001b[A\u001b[A\u001b[A"
     ]
    },
    {
     "name": "stdout",
     "output_type": "stream",
     "text": [
      "Step 58/25000: Loss val: tensor(nan, device='cuda:0', grad_fn=<MseLossBackward>)\n"
     ]
    },
    {
     "name": "stderr",
     "output_type": "stream",
     "text": [
      "\n",
      "\n",
      "\n",
      "Iteration:   2%|▏         | 59/2500 [00:24<17:08,  2.37it/s]\u001b[A\u001b[A\u001b[A"
     ]
    },
    {
     "name": "stdout",
     "output_type": "stream",
     "text": [
      "Step 59/25000: Loss val: tensor(nan, device='cuda:0', grad_fn=<MseLossBackward>)\n"
     ]
    },
    {
     "name": "stderr",
     "output_type": "stream",
     "text": [
      "\n",
      "\n",
      "\n",
      "Iteration:   2%|▏         | 60/2500 [00:25<17:07,  2.37it/s]\u001b[A\u001b[A\u001b[A"
     ]
    },
    {
     "name": "stdout",
     "output_type": "stream",
     "text": [
      "Step 60/25000: Loss val: tensor(nan, device='cuda:0', grad_fn=<MseLossBackward>)\n"
     ]
    },
    {
     "name": "stderr",
     "output_type": "stream",
     "text": [
      "\n",
      "\n",
      "\n",
      "Iteration:   2%|▏         | 61/2500 [00:25<17:07,  2.37it/s]\u001b[A\u001b[A\u001b[A"
     ]
    },
    {
     "name": "stdout",
     "output_type": "stream",
     "text": [
      "Step 61/25000: Loss val: tensor(nan, device='cuda:0', grad_fn=<MseLossBackward>)\n"
     ]
    },
    {
     "name": "stderr",
     "output_type": "stream",
     "text": [
      "\n",
      "\n",
      "\n",
      "Iteration:   2%|▏         | 62/2500 [00:26<17:06,  2.37it/s]\u001b[A\u001b[A\u001b[A"
     ]
    },
    {
     "name": "stdout",
     "output_type": "stream",
     "text": [
      "Step 62/25000: Loss val: tensor(nan, device='cuda:0', grad_fn=<MseLossBackward>)\n"
     ]
    },
    {
     "name": "stderr",
     "output_type": "stream",
     "text": [
      "\n",
      "\n",
      "\n",
      "Iteration:   3%|▎         | 63/2500 [00:26<17:06,  2.37it/s]\u001b[A\u001b[A\u001b[A"
     ]
    },
    {
     "name": "stdout",
     "output_type": "stream",
     "text": [
      "Step 63/25000: Loss val: tensor(nan, device='cuda:0', grad_fn=<MseLossBackward>)\n"
     ]
    },
    {
     "name": "stderr",
     "output_type": "stream",
     "text": [
      "\n",
      "\n",
      "\n",
      "Iteration:   3%|▎         | 64/2500 [00:26<17:05,  2.37it/s]\u001b[A\u001b[A\u001b[A"
     ]
    },
    {
     "name": "stdout",
     "output_type": "stream",
     "text": [
      "Step 64/25000: Loss val: tensor(nan, device='cuda:0', grad_fn=<MseLossBackward>)\n"
     ]
    },
    {
     "name": "stderr",
     "output_type": "stream",
     "text": [
      "\n",
      "\n",
      "\n",
      "Iteration:   3%|▎         | 65/2500 [00:27<17:05,  2.37it/s]\u001b[A\u001b[A\u001b[A"
     ]
    },
    {
     "name": "stdout",
     "output_type": "stream",
     "text": [
      "Step 65/25000: Loss val: tensor(nan, device='cuda:0', grad_fn=<MseLossBackward>)\n"
     ]
    },
    {
     "name": "stderr",
     "output_type": "stream",
     "text": [
      "\n",
      "\n",
      "\n",
      "Iteration:   3%|▎         | 66/2500 [00:27<17:04,  2.37it/s]\u001b[A\u001b[A\u001b[A"
     ]
    },
    {
     "name": "stdout",
     "output_type": "stream",
     "text": [
      "Step 66/25000: Loss val: tensor(nan, device='cuda:0', grad_fn=<MseLossBackward>)\n"
     ]
    },
    {
     "name": "stderr",
     "output_type": "stream",
     "text": [
      "\n",
      "\n",
      "\n",
      "Iteration:   3%|▎         | 67/2500 [00:28<17:04,  2.38it/s]\u001b[A\u001b[A\u001b[A"
     ]
    },
    {
     "name": "stdout",
     "output_type": "stream",
     "text": [
      "Step 67/25000: Loss val: tensor(nan, device='cuda:0', grad_fn=<MseLossBackward>)\n"
     ]
    },
    {
     "name": "stderr",
     "output_type": "stream",
     "text": [
      "\n",
      "\n",
      "\n",
      "Iteration:   3%|▎         | 68/2500 [00:28<17:03,  2.38it/s]\u001b[A\u001b[A\u001b[A"
     ]
    },
    {
     "name": "stdout",
     "output_type": "stream",
     "text": [
      "Step 68/25000: Loss val: tensor(nan, device='cuda:0', grad_fn=<MseLossBackward>)\n"
     ]
    },
    {
     "name": "stderr",
     "output_type": "stream",
     "text": [
      "\n",
      "\n",
      "\n",
      "Iteration:   3%|▎         | 69/2500 [00:28<17:03,  2.38it/s]\u001b[A\u001b[A\u001b[A"
     ]
    },
    {
     "name": "stdout",
     "output_type": "stream",
     "text": [
      "Step 69/25000: Loss val: tensor(nan, device='cuda:0', grad_fn=<MseLossBackward>)\n"
     ]
    },
    {
     "name": "stderr",
     "output_type": "stream",
     "text": [
      "\n",
      "\n",
      "\n",
      "Iteration:   3%|▎         | 70/2500 [00:29<17:02,  2.38it/s]\u001b[A\u001b[A\u001b[A"
     ]
    },
    {
     "name": "stdout",
     "output_type": "stream",
     "text": [
      "Step 70/25000: Loss val: tensor(nan, device='cuda:0', grad_fn=<MseLossBackward>)\n"
     ]
    },
    {
     "name": "stderr",
     "output_type": "stream",
     "text": [
      "\n",
      "\n",
      "\n",
      "Iteration:   3%|▎         | 71/2500 [00:29<17:02,  2.38it/s]\u001b[A\u001b[A\u001b[A"
     ]
    },
    {
     "name": "stdout",
     "output_type": "stream",
     "text": [
      "Step 71/25000: Loss val: tensor(nan, device='cuda:0', grad_fn=<MseLossBackward>)\n"
     ]
    },
    {
     "name": "stderr",
     "output_type": "stream",
     "text": [
      "\n",
      "\n",
      "\n",
      "Iteration:   3%|▎         | 72/2500 [00:30<17:01,  2.38it/s]\u001b[A\u001b[A\u001b[A"
     ]
    },
    {
     "name": "stdout",
     "output_type": "stream",
     "text": [
      "Step 72/25000: Loss val: tensor(nan, device='cuda:0', grad_fn=<MseLossBackward>)\n"
     ]
    },
    {
     "name": "stderr",
     "output_type": "stream",
     "text": [
      "\n",
      "\n",
      "\n",
      "Iteration:   3%|▎         | 73/2500 [00:30<17:01,  2.38it/s]\u001b[A\u001b[A\u001b[A"
     ]
    },
    {
     "name": "stdout",
     "output_type": "stream",
     "text": [
      "Step 73/25000: Loss val: tensor(nan, device='cuda:0', grad_fn=<MseLossBackward>)\n"
     ]
    },
    {
     "name": "stderr",
     "output_type": "stream",
     "text": [
      "\n",
      "\n",
      "\n",
      "Iteration:   3%|▎         | 74/2500 [00:31<17:00,  2.38it/s]\u001b[A\u001b[A\u001b[A"
     ]
    },
    {
     "name": "stdout",
     "output_type": "stream",
     "text": [
      "Step 74/25000: Loss val: tensor(nan, device='cuda:0', grad_fn=<MseLossBackward>)\n"
     ]
    },
    {
     "name": "stderr",
     "output_type": "stream",
     "text": [
      "\n",
      "\n",
      "\n",
      "Iteration:   3%|▎         | 75/2500 [00:31<17:00,  2.38it/s]\u001b[A\u001b[A\u001b[A"
     ]
    },
    {
     "name": "stdout",
     "output_type": "stream",
     "text": [
      "Step 75/25000: Loss val: tensor(nan, device='cuda:0', grad_fn=<MseLossBackward>)\n"
     ]
    },
    {
     "name": "stderr",
     "output_type": "stream",
     "text": [
      "\n",
      "\n",
      "\n",
      "Iteration:   3%|▎         | 76/2500 [00:31<17:00,  2.38it/s]\u001b[A\u001b[A\u001b[A"
     ]
    },
    {
     "name": "stdout",
     "output_type": "stream",
     "text": [
      "Step 76/25000: Loss val: tensor(nan, device='cuda:0', grad_fn=<MseLossBackward>)\n"
     ]
    },
    {
     "name": "stderr",
     "output_type": "stream",
     "text": [
      "\n",
      "\n",
      "\n",
      "Iteration:   3%|▎         | 77/2500 [00:32<16:59,  2.38it/s]\u001b[A\u001b[A\u001b[A"
     ]
    },
    {
     "name": "stdout",
     "output_type": "stream",
     "text": [
      "Step 77/25000: Loss val: tensor(nan, device='cuda:0', grad_fn=<MseLossBackward>)\n"
     ]
    },
    {
     "name": "stderr",
     "output_type": "stream",
     "text": [
      "\n",
      "\n",
      "\n",
      "Iteration:   3%|▎         | 78/2500 [00:32<16:59,  2.38it/s]\u001b[A\u001b[A\u001b[A"
     ]
    },
    {
     "name": "stdout",
     "output_type": "stream",
     "text": [
      "Step 78/25000: Loss val: tensor(nan, device='cuda:0', grad_fn=<MseLossBackward>)\n"
     ]
    },
    {
     "name": "stderr",
     "output_type": "stream",
     "text": [
      "\n",
      "\n",
      "\n",
      "Iteration:   3%|▎         | 79/2500 [00:33<16:58,  2.38it/s]\u001b[A\u001b[A\u001b[A"
     ]
    },
    {
     "name": "stdout",
     "output_type": "stream",
     "text": [
      "Step 79/25000: Loss val: tensor(nan, device='cuda:0', grad_fn=<MseLossBackward>)\n"
     ]
    },
    {
     "name": "stderr",
     "output_type": "stream",
     "text": [
      "\n",
      "\n",
      "\n",
      "Iteration:   3%|▎         | 80/2500 [00:33<16:58,  2.38it/s]\u001b[A\u001b[A\u001b[A"
     ]
    },
    {
     "name": "stdout",
     "output_type": "stream",
     "text": [
      "Step 80/25000: Loss val: tensor(nan, device='cuda:0', grad_fn=<MseLossBackward>)\n"
     ]
    },
    {
     "name": "stderr",
     "output_type": "stream",
     "text": [
      "\n",
      "\n",
      "\n",
      "Iteration:   3%|▎         | 81/2500 [00:34<16:57,  2.38it/s]\u001b[A\u001b[A\u001b[A"
     ]
    },
    {
     "name": "stdout",
     "output_type": "stream",
     "text": [
      "Step 81/25000: Loss val: tensor(nan, device='cuda:0', grad_fn=<MseLossBackward>)\n"
     ]
    },
    {
     "name": "stderr",
     "output_type": "stream",
     "text": [
      "\n",
      "\n",
      "\n",
      "Iteration:   3%|▎         | 82/2500 [00:34<16:57,  2.38it/s]\u001b[A\u001b[A\u001b[A"
     ]
    },
    {
     "name": "stdout",
     "output_type": "stream",
     "text": [
      "Step 82/25000: Loss val: tensor(nan, device='cuda:0', grad_fn=<MseLossBackward>)\n"
     ]
    },
    {
     "name": "stderr",
     "output_type": "stream",
     "text": [
      "\n",
      "\n",
      "\n",
      "Iteration:   3%|▎         | 83/2500 [00:34<16:56,  2.38it/s]\u001b[A\u001b[A\u001b[A"
     ]
    },
    {
     "name": "stdout",
     "output_type": "stream",
     "text": [
      "Step 83/25000: Loss val: tensor(nan, device='cuda:0', grad_fn=<MseLossBackward>)\n"
     ]
    },
    {
     "name": "stderr",
     "output_type": "stream",
     "text": [
      "\n",
      "\n",
      "\n",
      "Iteration:   3%|▎         | 84/2500 [00:35<16:56,  2.38it/s]\u001b[A\u001b[A\u001b[A"
     ]
    },
    {
     "name": "stdout",
     "output_type": "stream",
     "text": [
      "Step 84/25000: Loss val: tensor(nan, device='cuda:0', grad_fn=<MseLossBackward>)\n"
     ]
    },
    {
     "name": "stderr",
     "output_type": "stream",
     "text": [
      "\n",
      "\n",
      "\n",
      "Iteration:   3%|▎         | 85/2500 [00:35<16:55,  2.38it/s]\u001b[A\u001b[A\u001b[A"
     ]
    },
    {
     "name": "stdout",
     "output_type": "stream",
     "text": [
      "Step 85/25000: Loss val: tensor(nan, device='cuda:0', grad_fn=<MseLossBackward>)\n"
     ]
    },
    {
     "name": "stderr",
     "output_type": "stream",
     "text": [
      "\n",
      "\n",
      "\n",
      "Iteration:   3%|▎         | 86/2500 [00:36<16:55,  2.38it/s]\u001b[A\u001b[A\u001b[A"
     ]
    },
    {
     "name": "stdout",
     "output_type": "stream",
     "text": [
      "Step 86/25000: Loss val: tensor(nan, device='cuda:0', grad_fn=<MseLossBackward>)\n"
     ]
    },
    {
     "name": "stderr",
     "output_type": "stream",
     "text": [
      "\n",
      "\n",
      "\n",
      "Iteration:   3%|▎         | 87/2500 [00:36<16:55,  2.38it/s]\u001b[A\u001b[A\u001b[A"
     ]
    },
    {
     "name": "stdout",
     "output_type": "stream",
     "text": [
      "Step 87/25000: Loss val: tensor(nan, device='cuda:0', grad_fn=<MseLossBackward>)\n"
     ]
    },
    {
     "name": "stderr",
     "output_type": "stream",
     "text": [
      "\n",
      "\n",
      "\n",
      "Iteration:   4%|▎         | 88/2500 [00:36<16:54,  2.38it/s]\u001b[A\u001b[A\u001b[A"
     ]
    },
    {
     "name": "stdout",
     "output_type": "stream",
     "text": [
      "Step 88/25000: Loss val: tensor(nan, device='cuda:0', grad_fn=<MseLossBackward>)\n"
     ]
    },
    {
     "name": "stderr",
     "output_type": "stream",
     "text": [
      "\n",
      "\n",
      "\n",
      "Iteration:   4%|▎         | 89/2500 [00:37<16:54,  2.38it/s]\u001b[A\u001b[A\u001b[A"
     ]
    },
    {
     "name": "stdout",
     "output_type": "stream",
     "text": [
      "Step 89/25000: Loss val: tensor(nan, device='cuda:0', grad_fn=<MseLossBackward>)\n"
     ]
    },
    {
     "name": "stderr",
     "output_type": "stream",
     "text": [
      "\n",
      "\n",
      "\n",
      "Iteration:   4%|▎         | 90/2500 [00:37<16:53,  2.38it/s]\u001b[A\u001b[A\u001b[A"
     ]
    },
    {
     "name": "stdout",
     "output_type": "stream",
     "text": [
      "Step 90/25000: Loss val: tensor(nan, device='cuda:0', grad_fn=<MseLossBackward>)\n"
     ]
    },
    {
     "name": "stderr",
     "output_type": "stream",
     "text": [
      "\n",
      "\n",
      "\n",
      "Iteration:   4%|▎         | 91/2500 [00:38<16:53,  2.38it/s]\u001b[A\u001b[A\u001b[A"
     ]
    },
    {
     "name": "stdout",
     "output_type": "stream",
     "text": [
      "Step 91/25000: Loss val: tensor(nan, device='cuda:0', grad_fn=<MseLossBackward>)\n"
     ]
    },
    {
     "name": "stderr",
     "output_type": "stream",
     "text": [
      "\n",
      "\n",
      "\n",
      "Iteration:   4%|▎         | 92/2500 [00:38<16:52,  2.38it/s]\u001b[A\u001b[A\u001b[A"
     ]
    },
    {
     "name": "stdout",
     "output_type": "stream",
     "text": [
      "Step 92/25000: Loss val: tensor(nan, device='cuda:0', grad_fn=<MseLossBackward>)\n"
     ]
    },
    {
     "name": "stderr",
     "output_type": "stream",
     "text": [
      "\n",
      "\n",
      "\n",
      "Iteration:   4%|▎         | 93/2500 [00:39<16:52,  2.38it/s]\u001b[A\u001b[A\u001b[A"
     ]
    },
    {
     "name": "stdout",
     "output_type": "stream",
     "text": [
      "Step 93/25000: Loss val: tensor(nan, device='cuda:0', grad_fn=<MseLossBackward>)\n"
     ]
    },
    {
     "name": "stderr",
     "output_type": "stream",
     "text": [
      "\n",
      "\n",
      "\n",
      "Iteration:   4%|▍         | 94/2500 [00:39<16:51,  2.38it/s]\u001b[A\u001b[A\u001b[A"
     ]
    },
    {
     "name": "stdout",
     "output_type": "stream",
     "text": [
      "Step 94/25000: Loss val: tensor(nan, device='cuda:0', grad_fn=<MseLossBackward>)\n"
     ]
    },
    {
     "name": "stderr",
     "output_type": "stream",
     "text": [
      "\n",
      "\n",
      "\n",
      "Iteration:   4%|▍         | 95/2500 [00:39<16:51,  2.38it/s]\u001b[A\u001b[A\u001b[A"
     ]
    },
    {
     "name": "stdout",
     "output_type": "stream",
     "text": [
      "Step 95/25000: Loss val: tensor(nan, device='cuda:0', grad_fn=<MseLossBackward>)\n"
     ]
    },
    {
     "name": "stderr",
     "output_type": "stream",
     "text": [
      "\n",
      "\n",
      "\n",
      "Iteration:   4%|▍         | 96/2500 [00:40<16:51,  2.38it/s]\u001b[A\u001b[A\u001b[A"
     ]
    },
    {
     "name": "stdout",
     "output_type": "stream",
     "text": [
      "Step 96/25000: Loss val: tensor(nan, device='cuda:0', grad_fn=<MseLossBackward>)\n"
     ]
    },
    {
     "name": "stderr",
     "output_type": "stream",
     "text": [
      "\n",
      "\n",
      "\n",
      "Iteration:   4%|▍         | 97/2500 [00:40<16:50,  2.38it/s]\u001b[A\u001b[A\u001b[A"
     ]
    },
    {
     "name": "stdout",
     "output_type": "stream",
     "text": [
      "Step 97/25000: Loss val: tensor(nan, device='cuda:0', grad_fn=<MseLossBackward>)\n"
     ]
    },
    {
     "name": "stderr",
     "output_type": "stream",
     "text": [
      "\n",
      "\n",
      "\n",
      "Iteration:   4%|▍         | 98/2500 [00:41<16:50,  2.38it/s]\u001b[A\u001b[A\u001b[A"
     ]
    },
    {
     "name": "stdout",
     "output_type": "stream",
     "text": [
      "Step 98/25000: Loss val: tensor(nan, device='cuda:0', grad_fn=<MseLossBackward>)\n"
     ]
    },
    {
     "name": "stderr",
     "output_type": "stream",
     "text": [
      "\n",
      "\n",
      "\n",
      "Iteration:   4%|▍         | 99/2500 [00:41<16:49,  2.38it/s]\u001b[A\u001b[A\u001b[A"
     ]
    },
    {
     "name": "stdout",
     "output_type": "stream",
     "text": [
      "Step 99/25000: Loss val: tensor(nan, device='cuda:0', grad_fn=<MseLossBackward>)\n"
     ]
    },
    {
     "name": "stderr",
     "output_type": "stream",
     "text": [
      "IOPub data rate exceeded.\n",
      "The notebook server will temporarily stop sending output\n",
      "to the client in order to avoid crashing it.\n",
      "To change this limit, set the config variable\n",
      "`--NotebookApp.iopub_data_rate_limit`.\n",
      "\n",
      "Current values:\n",
      "NotebookApp.iopub_data_rate_limit=1000000.0 (bytes/sec)\n",
      "NotebookApp.rate_limit_window=3.0 (secs)\n",
      "\n"
     ]
    },
    {
     "ename": "ValueError",
     "evalue": "Input contains NaN, infinity or a value too large for dtype('float32').",
     "output_type": "error",
     "traceback": [
      "\u001b[0;31m---------------------------------------------------------------------------\u001b[0m",
      "\u001b[0;31mValueError\u001b[0m                                Traceback (most recent call last)",
      "\u001b[0;32m<ipython-input-49-02d890466f72>\u001b[0m in \u001b[0;36m<module>\u001b[0;34m\u001b[0m\n\u001b[1;32m      5\u001b[0m           \u001b[0mwarmup_steps\u001b[0m\u001b[0;34m=\u001b[0m\u001b[0;36m100\u001b[0m\u001b[0;34m,\u001b[0m\u001b[0;34m\u001b[0m\u001b[0;34m\u001b[0m\u001b[0m\n\u001b[1;32m      6\u001b[0m           \u001b[0moutput_path\u001b[0m\u001b[0;34m=\u001b[0m\u001b[0;34m\"out\"\u001b[0m\u001b[0;34m,\u001b[0m\u001b[0;34m\u001b[0m\u001b[0;34m\u001b[0m\u001b[0m\n\u001b[0;32m----> 7\u001b[0;31m           optimizer_params={'lr': 2e-5, 'eps': 1e-6, 'correct_bias': False})\n\u001b[0m",
      "\u001b[0;32m~/arqmath/sentence-transformers/sentence_transformers/SentenceTransformer.py\u001b[0m in \u001b[0;36mfit\u001b[0;34m(self, train_objectives, evaluator, epochs, steps_per_epoch, scheduler, warmup_steps, optimizer_class, optimizer_params, weight_decay, evaluation_steps, output_path, save_best_model, max_grad_norm, fp16, fp16_opt_level, local_rank)\u001b[0m\n\u001b[1;32m    392\u001b[0m \u001b[0;34m\u001b[0m\u001b[0m\n\u001b[1;32m    393\u001b[0m                 \u001b[0;32mif\u001b[0m \u001b[0mevaluation_steps\u001b[0m \u001b[0;34m>\u001b[0m \u001b[0;36m0\u001b[0m \u001b[0;32mand\u001b[0m \u001b[0mtraining_steps\u001b[0m \u001b[0;34m%\u001b[0m \u001b[0mevaluation_steps\u001b[0m \u001b[0;34m==\u001b[0m \u001b[0;36m0\u001b[0m\u001b[0;34m:\u001b[0m\u001b[0;34m\u001b[0m\u001b[0;34m\u001b[0m\u001b[0m\n\u001b[0;32m--> 394\u001b[0;31m                     \u001b[0mscore\u001b[0m \u001b[0;34m=\u001b[0m \u001b[0mself\u001b[0m\u001b[0;34m.\u001b[0m\u001b[0m_eval_during_training\u001b[0m\u001b[0;34m(\u001b[0m\u001b[0mevaluator\u001b[0m\u001b[0;34m,\u001b[0m \u001b[0moutput_path\u001b[0m\u001b[0;34m,\u001b[0m \u001b[0msave_best_model\u001b[0m\u001b[0;34m,\u001b[0m \u001b[0mepoch\u001b[0m\u001b[0;34m,\u001b[0m \u001b[0mtraining_steps\u001b[0m\u001b[0;34m)\u001b[0m\u001b[0;34m\u001b[0m\u001b[0;34m\u001b[0m\u001b[0m\n\u001b[0m\u001b[1;32m    395\u001b[0m                     \u001b[0mself\u001b[0m\u001b[0;34m.\u001b[0m\u001b[0mlog\u001b[0m\u001b[0;34m(\u001b[0m\u001b[0;34m\"Step %s/%s: Objective val: %s\"\u001b[0m \u001b[0;34m%\u001b[0m \u001b[0;34m(\u001b[0m\u001b[0mglobal_step\u001b[0m\u001b[0;34m,\u001b[0m \u001b[0mnum_train_steps\u001b[0m\u001b[0;34m,\u001b[0m \u001b[0mscore\u001b[0m\u001b[0;34m)\u001b[0m\u001b[0;34m)\u001b[0m\u001b[0;34m\u001b[0m\u001b[0;34m\u001b[0m\u001b[0m\n\u001b[1;32m    396\u001b[0m                     \u001b[0;32mfor\u001b[0m \u001b[0mloss_model\u001b[0m \u001b[0;32min\u001b[0m \u001b[0mloss_models\u001b[0m\u001b[0;34m:\u001b[0m\u001b[0;34m\u001b[0m\u001b[0;34m\u001b[0m\u001b[0m\n",
      "\u001b[0;32m~/arqmath/sentence-transformers/sentence_transformers/SentenceTransformer.py\u001b[0m in \u001b[0;36m_eval_during_training\u001b[0;34m(self, evaluator, output_path, save_best_model, epoch, steps)\u001b[0m\n\u001b[1;32m    416\u001b[0m         \u001b[0;34m\"\"\"Runs evaluation during the training\"\"\"\u001b[0m\u001b[0;34m\u001b[0m\u001b[0;34m\u001b[0m\u001b[0m\n\u001b[1;32m    417\u001b[0m         \u001b[0;32mif\u001b[0m \u001b[0mevaluator\u001b[0m \u001b[0;32mis\u001b[0m \u001b[0;32mnot\u001b[0m \u001b[0;32mNone\u001b[0m\u001b[0;34m:\u001b[0m\u001b[0;34m\u001b[0m\u001b[0;34m\u001b[0m\u001b[0m\n\u001b[0;32m--> 418\u001b[0;31m             \u001b[0mscore\u001b[0m \u001b[0;34m=\u001b[0m \u001b[0mevaluator\u001b[0m\u001b[0;34m(\u001b[0m\u001b[0mself\u001b[0m\u001b[0;34m,\u001b[0m \u001b[0moutput_path\u001b[0m\u001b[0;34m=\u001b[0m\u001b[0moutput_path\u001b[0m\u001b[0;34m,\u001b[0m \u001b[0mepoch\u001b[0m\u001b[0;34m=\u001b[0m\u001b[0mepoch\u001b[0m\u001b[0;34m,\u001b[0m \u001b[0msteps\u001b[0m\u001b[0;34m=\u001b[0m\u001b[0msteps\u001b[0m\u001b[0;34m)\u001b[0m\u001b[0;34m\u001b[0m\u001b[0;34m\u001b[0m\u001b[0m\n\u001b[0m\u001b[1;32m    419\u001b[0m             \u001b[0;32mif\u001b[0m \u001b[0mscore\u001b[0m \u001b[0;34m>\u001b[0m \u001b[0mself\u001b[0m\u001b[0;34m.\u001b[0m\u001b[0mbest_score\u001b[0m \u001b[0;32mand\u001b[0m \u001b[0msave_best_model\u001b[0m\u001b[0;34m:\u001b[0m\u001b[0;34m\u001b[0m\u001b[0;34m\u001b[0m\u001b[0m\n\u001b[1;32m    420\u001b[0m                 \u001b[0mself\u001b[0m\u001b[0;34m.\u001b[0m\u001b[0msave\u001b[0m\u001b[0;34m(\u001b[0m\u001b[0moutput_path\u001b[0m\u001b[0;34m)\u001b[0m\u001b[0;34m\u001b[0m\u001b[0;34m\u001b[0m\u001b[0m\n",
      "\u001b[0;32m~/arqmath/sentence-transformers/sentence_transformers/evaluation/EmbeddingSimilarityEvaluator.py\u001b[0m in \u001b[0;36m__call__\u001b[0;34m(self, model, output_path, epoch, steps)\u001b[0m\n\u001b[1;32m     84\u001b[0m             \u001b[0mprint\u001b[0m\u001b[0;34m(\u001b[0m\u001b[0membeddings1\u001b[0m\u001b[0;34m)\u001b[0m\u001b[0;34m\u001b[0m\u001b[0;34m\u001b[0m\u001b[0m\n\u001b[1;32m     85\u001b[0m             \u001b[0mprint\u001b[0m\u001b[0;34m(\u001b[0m\u001b[0membeddings2\u001b[0m\u001b[0;34m)\u001b[0m\u001b[0;34m\u001b[0m\u001b[0;34m\u001b[0m\u001b[0m\n\u001b[0;32m---> 86\u001b[0;31m             \u001b[0;32mraise\u001b[0m\u001b[0;34m(\u001b[0m\u001b[0me\u001b[0m\u001b[0;34m)\u001b[0m\u001b[0;34m\u001b[0m\u001b[0;34m\u001b[0m\u001b[0m\n\u001b[0m\u001b[1;32m     87\u001b[0m \u001b[0;34m\u001b[0m\u001b[0m\n\u001b[1;32m     88\u001b[0m         \u001b[0mmanhattan_distances\u001b[0m \u001b[0;34m=\u001b[0m \u001b[0;34m-\u001b[0m\u001b[0mpaired_manhattan_distances\u001b[0m\u001b[0;34m(\u001b[0m\u001b[0membeddings1\u001b[0m\u001b[0;34m,\u001b[0m \u001b[0membeddings2\u001b[0m\u001b[0;34m)\u001b[0m\u001b[0;34m\u001b[0m\u001b[0;34m\u001b[0m\u001b[0m\n",
      "\u001b[0;32m~/arqmath/sentence-transformers/sentence_transformers/evaluation/EmbeddingSimilarityEvaluator.py\u001b[0m in \u001b[0;36m__call__\u001b[0;34m(self, model, output_path, epoch, steps)\u001b[0m\n\u001b[1;32m     80\u001b[0m \u001b[0;34m\u001b[0m\u001b[0m\n\u001b[1;32m     81\u001b[0m         \u001b[0;32mtry\u001b[0m\u001b[0;34m:\u001b[0m\u001b[0;34m\u001b[0m\u001b[0;34m\u001b[0m\u001b[0m\n\u001b[0;32m---> 82\u001b[0;31m             \u001b[0mcosine_scores\u001b[0m \u001b[0;34m=\u001b[0m \u001b[0;36m1\u001b[0m \u001b[0;34m-\u001b[0m \u001b[0;34m(\u001b[0m\u001b[0mpaired_cosine_distances\u001b[0m\u001b[0;34m(\u001b[0m\u001b[0membeddings1\u001b[0m\u001b[0;34m,\u001b[0m \u001b[0membeddings2\u001b[0m\u001b[0;34m)\u001b[0m\u001b[0;34m)\u001b[0m\u001b[0;34m\u001b[0m\u001b[0;34m\u001b[0m\u001b[0m\n\u001b[0m\u001b[1;32m     83\u001b[0m         \u001b[0;32mexcept\u001b[0m \u001b[0mException\u001b[0m \u001b[0;32mas\u001b[0m \u001b[0me\u001b[0m\u001b[0;34m:\u001b[0m\u001b[0;34m\u001b[0m\u001b[0;34m\u001b[0m\u001b[0m\n\u001b[1;32m     84\u001b[0m             \u001b[0mprint\u001b[0m\u001b[0;34m(\u001b[0m\u001b[0membeddings1\u001b[0m\u001b[0;34m)\u001b[0m\u001b[0;34m\u001b[0m\u001b[0;34m\u001b[0m\u001b[0m\n",
      "\u001b[0;32m~/anaconda3/lib/python3.7/site-packages/sklearn/metrics/pairwise.py\u001b[0m in \u001b[0;36mpaired_cosine_distances\u001b[0;34m(X, Y)\u001b[0m\n\u001b[1;32m    756\u001b[0m     \u001b[0meuclidean\u001b[0m \u001b[0mdistance\u001b[0m \u001b[0;32mif\u001b[0m \u001b[0meach\u001b[0m \u001b[0msample\u001b[0m \u001b[0;32mis\u001b[0m \u001b[0mnormalized\u001b[0m \u001b[0mto\u001b[0m \u001b[0munit\u001b[0m \u001b[0mnorm\u001b[0m\u001b[0;34m\u001b[0m\u001b[0;34m\u001b[0m\u001b[0m\n\u001b[1;32m    757\u001b[0m     \"\"\"\n\u001b[0;32m--> 758\u001b[0;31m     \u001b[0mX\u001b[0m\u001b[0;34m,\u001b[0m \u001b[0mY\u001b[0m \u001b[0;34m=\u001b[0m \u001b[0mcheck_paired_arrays\u001b[0m\u001b[0;34m(\u001b[0m\u001b[0mX\u001b[0m\u001b[0;34m,\u001b[0m \u001b[0mY\u001b[0m\u001b[0;34m)\u001b[0m\u001b[0;34m\u001b[0m\u001b[0;34m\u001b[0m\u001b[0m\n\u001b[0m\u001b[1;32m    759\u001b[0m     \u001b[0;32mreturn\u001b[0m \u001b[0;36m.5\u001b[0m \u001b[0;34m*\u001b[0m \u001b[0mrow_norms\u001b[0m\u001b[0;34m(\u001b[0m\u001b[0mnormalize\u001b[0m\u001b[0;34m(\u001b[0m\u001b[0mX\u001b[0m\u001b[0;34m)\u001b[0m \u001b[0;34m-\u001b[0m \u001b[0mnormalize\u001b[0m\u001b[0;34m(\u001b[0m\u001b[0mY\u001b[0m\u001b[0;34m)\u001b[0m\u001b[0;34m,\u001b[0m \u001b[0msquared\u001b[0m\u001b[0;34m=\u001b[0m\u001b[0;32mTrue\u001b[0m\u001b[0;34m)\u001b[0m\u001b[0;34m\u001b[0m\u001b[0;34m\u001b[0m\u001b[0m\n\u001b[1;32m    760\u001b[0m \u001b[0;34m\u001b[0m\u001b[0m\n",
      "\u001b[0;32m~/anaconda3/lib/python3.7/site-packages/sklearn/metrics/pairwise.py\u001b[0m in \u001b[0;36mcheck_paired_arrays\u001b[0;34m(X, Y)\u001b[0m\n\u001b[1;32m    155\u001b[0m \u001b[0;34m\u001b[0m\u001b[0m\n\u001b[1;32m    156\u001b[0m     \"\"\"\n\u001b[0;32m--> 157\u001b[0;31m     \u001b[0mX\u001b[0m\u001b[0;34m,\u001b[0m \u001b[0mY\u001b[0m \u001b[0;34m=\u001b[0m \u001b[0mcheck_pairwise_arrays\u001b[0m\u001b[0;34m(\u001b[0m\u001b[0mX\u001b[0m\u001b[0;34m,\u001b[0m \u001b[0mY\u001b[0m\u001b[0;34m)\u001b[0m\u001b[0;34m\u001b[0m\u001b[0;34m\u001b[0m\u001b[0m\n\u001b[0m\u001b[1;32m    158\u001b[0m     \u001b[0;32mif\u001b[0m \u001b[0mX\u001b[0m\u001b[0;34m.\u001b[0m\u001b[0mshape\u001b[0m \u001b[0;34m!=\u001b[0m \u001b[0mY\u001b[0m\u001b[0;34m.\u001b[0m\u001b[0mshape\u001b[0m\u001b[0;34m:\u001b[0m\u001b[0;34m\u001b[0m\u001b[0;34m\u001b[0m\u001b[0m\n\u001b[1;32m    159\u001b[0m         raise ValueError(\"X and Y should be of same shape. They were \"\n",
      "\u001b[0;32m~/anaconda3/lib/python3.7/site-packages/sklearn/metrics/pairwise.py\u001b[0m in \u001b[0;36mcheck_pairwise_arrays\u001b[0;34m(X, Y, precomputed, dtype)\u001b[0m\n\u001b[1;32m    110\u001b[0m     \u001b[0;32melse\u001b[0m\u001b[0;34m:\u001b[0m\u001b[0;34m\u001b[0m\u001b[0;34m\u001b[0m\u001b[0m\n\u001b[1;32m    111\u001b[0m         X = check_array(X, accept_sparse='csr', dtype=dtype,\n\u001b[0;32m--> 112\u001b[0;31m                         estimator=estimator)\n\u001b[0m\u001b[1;32m    113\u001b[0m         Y = check_array(Y, accept_sparse='csr', dtype=dtype,\n\u001b[1;32m    114\u001b[0m                         estimator=estimator)\n",
      "\u001b[0;32m~/anaconda3/lib/python3.7/site-packages/sklearn/utils/validation.py\u001b[0m in \u001b[0;36mcheck_array\u001b[0;34m(array, accept_sparse, accept_large_sparse, dtype, order, copy, force_all_finite, ensure_2d, allow_nd, ensure_min_samples, ensure_min_features, warn_on_dtype, estimator)\u001b[0m\n\u001b[1;32m    540\u001b[0m         \u001b[0;32mif\u001b[0m \u001b[0mforce_all_finite\u001b[0m\u001b[0;34m:\u001b[0m\u001b[0;34m\u001b[0m\u001b[0;34m\u001b[0m\u001b[0m\n\u001b[1;32m    541\u001b[0m             _assert_all_finite(array,\n\u001b[0;32m--> 542\u001b[0;31m                                allow_nan=force_all_finite == 'allow-nan')\n\u001b[0m\u001b[1;32m    543\u001b[0m \u001b[0;34m\u001b[0m\u001b[0m\n\u001b[1;32m    544\u001b[0m     \u001b[0;32mif\u001b[0m \u001b[0mensure_min_samples\u001b[0m \u001b[0;34m>\u001b[0m \u001b[0;36m0\u001b[0m\u001b[0;34m:\u001b[0m\u001b[0;34m\u001b[0m\u001b[0;34m\u001b[0m\u001b[0m\n",
      "\u001b[0;32m~/anaconda3/lib/python3.7/site-packages/sklearn/utils/validation.py\u001b[0m in \u001b[0;36m_assert_all_finite\u001b[0;34m(X, allow_nan)\u001b[0m\n\u001b[1;32m     54\u001b[0m                 not allow_nan and not np.isfinite(X).all()):\n\u001b[1;32m     55\u001b[0m             \u001b[0mtype_err\u001b[0m \u001b[0;34m=\u001b[0m \u001b[0;34m'infinity'\u001b[0m \u001b[0;32mif\u001b[0m \u001b[0mallow_nan\u001b[0m \u001b[0;32melse\u001b[0m \u001b[0;34m'NaN, infinity'\u001b[0m\u001b[0;34m\u001b[0m\u001b[0;34m\u001b[0m\u001b[0m\n\u001b[0;32m---> 56\u001b[0;31m             \u001b[0;32mraise\u001b[0m \u001b[0mValueError\u001b[0m\u001b[0;34m(\u001b[0m\u001b[0mmsg_err\u001b[0m\u001b[0;34m.\u001b[0m\u001b[0mformat\u001b[0m\u001b[0;34m(\u001b[0m\u001b[0mtype_err\u001b[0m\u001b[0;34m,\u001b[0m \u001b[0mX\u001b[0m\u001b[0;34m.\u001b[0m\u001b[0mdtype\u001b[0m\u001b[0;34m)\u001b[0m\u001b[0;34m)\u001b[0m\u001b[0;34m\u001b[0m\u001b[0;34m\u001b[0m\u001b[0m\n\u001b[0m\u001b[1;32m     57\u001b[0m     \u001b[0;31m# for object dtype data, we only check for NaNs (GH-13254)\u001b[0m\u001b[0;34m\u001b[0m\u001b[0;34m\u001b[0m\u001b[0;34m\u001b[0m\u001b[0m\n\u001b[1;32m     58\u001b[0m     \u001b[0;32melif\u001b[0m \u001b[0mX\u001b[0m\u001b[0;34m.\u001b[0m\u001b[0mdtype\u001b[0m \u001b[0;34m==\u001b[0m \u001b[0mnp\u001b[0m\u001b[0;34m.\u001b[0m\u001b[0mdtype\u001b[0m\u001b[0;34m(\u001b[0m\u001b[0;34m'object'\u001b[0m\u001b[0;34m)\u001b[0m \u001b[0;32mand\u001b[0m \u001b[0;32mnot\u001b[0m \u001b[0mallow_nan\u001b[0m\u001b[0;34m:\u001b[0m\u001b[0;34m\u001b[0m\u001b[0;34m\u001b[0m\u001b[0m\n",
      "\u001b[0;31mValueError\u001b[0m: Input contains NaN, infinity or a value too large for dtype('float32')."
     ]
    }
   ],
   "source": [
    "model.fit(train_objectives=[(train_dataloader, train_loss)],\n",
    "          evaluator=evaluator,\n",
    "          epochs=10,\n",
    "          evaluation_steps=100,\n",
    "          warmup_steps=100,\n",
    "          output_path=\"out\",\n",
    "          optimizer_params={'lr': 2e-5, 'eps': 1e-6, 'correct_bias': False})"
   ]
  },
  {
   "cell_type": "code",
   "execution_count": 31,
   "metadata": {},
   "outputs": [
    {
     "data": {
      "text/plain": [
       "tensor([1., 0., 1.])"
      ]
     },
     "execution_count": 31,
     "metadata": {},
     "output_type": "execute_result"
    }
   ],
   "source": [
    "torch.Tensor([1, 0, 1])"
   ]
  },
  {
   "cell_type": "code",
   "execution_count": 35,
   "metadata": {},
   "outputs": [
    {
     "data": {
      "text/plain": [
       "tensor([0.8165])"
      ]
     },
     "execution_count": 35,
     "metadata": {},
     "output_type": "execute_result"
    }
   ],
   "source": [
    "import torch\n",
    "torch.cosine_similarity(torch.Tensor([[1, 1, 1]]), torch.Tensor([[1, 0, 1]]), dim=1)\n"
   ]
  },
  {
   "cell_type": "code",
   "execution_count": null,
   "metadata": {},
   "outputs": [],
   "source": []
  }
 ],
 "metadata": {
  "kernelspec": {
   "display_name": "Python 3",
   "language": "python",
   "name": "python3"
  },
  "language_info": {
   "codemirror_mode": {
    "name": "ipython",
    "version": 3
   },
   "file_extension": ".py",
   "mimetype": "text/x-python",
   "name": "python",
   "nbconvert_exporter": "python",
   "pygments_lexer": "ipython3",
   "version": "3.7.3"
  }
 },
 "nbformat": 4,
 "nbformat_minor": 4
}
