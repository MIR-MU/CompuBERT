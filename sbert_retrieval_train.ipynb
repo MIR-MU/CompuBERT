{
 "cells": [
  {
   "cell_type": "code",
   "execution_count": 11,
   "metadata": {},
   "outputs": [],
   "source": [
    "from ARQMathCode.post_reader_record import DataReaderRecord\n",
    "from question_answer.utils import examples_from_questions, dataloader_from_examples\n",
    "from sentence_transformers import SentenceTransformer, losses\n",
    "\n",
    "from sentence_transformers.evaluation import EmbeddingSimilarityEvaluator"
   ]
  },
  {
   "cell_type": "code",
   "execution_count": 13,
   "metadata": {},
   "outputs": [
    {
     "name": "stdout",
     "output_type": "stream",
     "text": [
      "reading users\n"
     ]
    }
   ],
   "source": [
    "device = \"cuda\"\n",
    "\n",
    "clef_home_directory_file_path = '/home/xstefan3/arqmath/data/Collection'\n",
    "dr = DataReaderRecord(clef_home_directory_file_path, limit_posts=100000)\n",
    "# dr = DataReaderRecord(clef_home_directory_file_path)"
   ]
  },
  {
   "cell_type": "code",
   "execution_count": 3,
   "metadata": {},
   "outputs": [],
   "source": [
    "from scipy.stats import zscore\n",
    "from sentence_transformers.readers import InputExample\n",
    "from sentence_transformers import SentencesDataset\n",
    "from torch.utils.data import DataLoader\n",
    "import numpy as np"
   ]
  },
  {
   "cell_type": "code",
   "execution_count": 4,
   "metadata": {
    "scrolled": true
   },
   "outputs": [
    {
     "name": "stderr",
     "output_type": "stream",
     "text": [
      "/home/xstefan3/anaconda3/lib/python3.7/site-packages/scipy/stats/stats.py:2419: RuntimeWarning: invalid value encountered in true_divide\n",
      "  return (a - mns) / sstd\n"
     ]
    },
    {
     "name": "stdout",
     "output_type": "stream",
     "text": [
      "Loading 20000\n",
      "Loading 60000\n",
      "Loading 110000\n",
      "Loading 120000\n",
      "Loading 140000\n",
      "Loading 160000\n"
     ]
    }
   ],
   "source": [
    "all_examples = list(examples_from_questions(dr.post_parser.map_questions))\n",
    "examples_len = len(all_examples)"
   ]
  },
  {
   "cell_type": "code",
   "execution_count": 5,
   "metadata": {},
   "outputs": [],
   "source": [
    "train_dev_test_split = (int(0.8*examples_len), int(0.9*examples_len))\n",
    "# train_dev_test_split = (160, 320)"
   ]
  },
  {
   "cell_type": "code",
   "execution_count": 6,
   "metadata": {},
   "outputs": [
    {
     "name": "stdout",
     "output_type": "stream",
     "text": [
      "Logs go to file train.log\n"
     ]
    }
   ],
   "source": [
    "model = SentenceTransformer('bert-base-wikipedia-sections-mean-tokens', logfile=\"train.log\")"
   ]
  },
  {
   "cell_type": "code",
   "execution_count": null,
   "metadata": {},
   "outputs": [
    {
     "name": "stderr",
     "output_type": "stream",
     "text": [
      "Convert dataset:  25%|██▌       | 20304/79994 [01:46<04:43, 210.63it/s]"
     ]
    }
   ],
   "source": [
    "train_loader = dataloader_from_examples(all_examples[:train_dev_test_split[0]], model,\n",
    "                                        batch_size=16, shuffle=True)"
   ]
  },
  {
   "cell_type": "code",
   "execution_count": null,
   "metadata": {},
   "outputs": [],
   "source": [
    "dev_loader = dataloader_from_examples(all_examples[train_dev_test_split[0]:train_dev_test_split[1]], model,\n",
    "                                      batch_size=16, shuffle=False)"
   ]
  },
  {
   "cell_type": "code",
   "execution_count": null,
   "metadata": {
    "scrolled": true
   },
   "outputs": [],
   "source": [
    "train_loss = losses.CosineSimilarityLoss(model=model)\n",
    "evaluator = EmbeddingSimilarityEvaluator(dev_loader, show_progress_bar=True, device=device)"
   ]
  },
  {
   "cell_type": "code",
   "execution_count": null,
   "metadata": {
    "scrolled": true
   },
   "outputs": [],
   "source": [
    "model.fit(train_objectives=[(train_loader, train_loss)],\n",
    "          evaluator=evaluator,\n",
    "          epochs=3,\n",
    "          evaluation_steps=100,\n",
    "          warmup_steps=10000,\n",
    "          output_path=\"out\",\n",
    "          optimizer_params={'lr': 2e-5, 'eps': 1e-6, 'correct_bias': False})"
   ]
  },
  {
   "cell_type": "code",
   "execution_count": null,
   "metadata": {},
   "outputs": [],
   "source": []
  }
 ],
 "metadata": {
  "kernelspec": {
   "display_name": "Python 3",
   "language": "python",
   "name": "python3"
  },
  "language_info": {
   "codemirror_mode": {
    "name": "ipython",
    "version": 3
   },
   "file_extension": ".py",
   "mimetype": "text/x-python",
   "name": "python",
   "nbconvert_exporter": "python",
   "pygments_lexer": "ipython3",
   "version": "3.7.3"
  }
 },
 "nbformat": 4,
 "nbformat_minor": 4
}
