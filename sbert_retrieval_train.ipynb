{
 "cells": [
  {
   "cell_type": "code",
   "execution_count": 1,
   "metadata": {},
   "outputs": [],
   "source": [
    "from ARQMathCode.post_reader_record import DataReaderRecord\n",
    "from question_answer.utils import examples_from_questions, dataloader_from_examples\n",
    "from sentence_transformers import SentenceTransformer, losses\n",
    "\n",
    "from sentence_transformers.evaluation import EmbeddingSimilarityEvaluator"
   ]
  },
  {
   "cell_type": "code",
   "execution_count": 2,
   "metadata": {},
   "outputs": [
    {
     "name": "stdout",
     "output_type": "stream",
     "text": [
      "reading users\n"
     ]
    }
   ],
   "source": [
    "device = \"cuda\"\n",
    "\n",
    "clef_home_directory_file_path = '/home/xstefan3/arqmath/data/Collection'\n",
    "dr = DataReaderRecord(clef_home_directory_file_path, limit_posts=1000)\n",
    "# dr = DataReaderRecord(clef_home_directory_file_path)"
   ]
  },
  {
   "cell_type": "code",
   "execution_count": 3,
   "metadata": {},
   "outputs": [],
   "source": [
    "from scipy.stats import zscore\n",
    "from sentence_transformers.readers import InputExample\n",
    "from sentence_transformers import SentencesDataset\n",
    "from torch.utils.data import DataLoader\n",
    "import numpy as np"
   ]
  },
  {
   "cell_type": "code",
   "execution_count": 4,
   "metadata": {
    "scrolled": true
   },
   "outputs": [
    {
     "name": "stderr",
     "output_type": "stream",
     "text": [
      "/home/xstefan3/anaconda3/lib/python3.7/site-packages/scipy/stats/stats.py:2419: RuntimeWarning: invalid value encountered in true_divide\n",
      "  return (a - mns) / sstd\n"
     ]
    }
   ],
   "source": [
    "all_examples = list(examples_from_questions(dr.post_parser.map_questions))\n",
    "examples_len = len(all_examples)"
   ]
  },
  {
   "cell_type": "code",
   "execution_count": 5,
   "metadata": {},
   "outputs": [],
   "source": [
    "train_dev_test_split = (int(0.8*examples_len), int(0.9*examples_len))\n",
    "# train_dev_test_split = (160, 320)"
   ]
  },
  {
   "cell_type": "code",
   "execution_count": 6,
   "metadata": {},
   "outputs": [
    {
     "name": "stdout",
     "output_type": "stream",
     "text": [
      "Logs go to file train_whole4.log\n",
      "Tensorboard logs go to dir \n"
     ]
    }
   ],
   "source": [
    "device = \"cuda\"\n",
    "\n",
    "model = SentenceTransformer('bert-base-wikipedia-sections-mean-tokens', logfile=\"train_whole4.log\", \n",
    "                            tboard_logdir=\"\", device=device)\n",
    "# model = SentenceTransformer('bert-base-wikipedia-sections-mean-tokens')"
   ]
  },
  {
   "cell_type": "code",
   "execution_count": 7,
   "metadata": {
    "scrolled": true
   },
   "outputs": [
    {
     "name": "stderr",
     "output_type": "stream",
     "text": [
      "Convert dataset: 100%|██████████| 793/793 [00:03<00:00, 252.16it/s]\n"
     ]
    }
   ],
   "source": [
    "train_loader = dataloader_from_examples(all_examples[:train_dev_test_split[0]], model,\n",
    "                                        batch_size=10, shuffle=False)"
   ]
  },
  {
   "cell_type": "code",
   "execution_count": 8,
   "metadata": {},
   "outputs": [
    {
     "name": "stderr",
     "output_type": "stream",
     "text": [
      "Convert dataset: 100%|██████████| 99/99 [00:00<00:00, 197.28it/s]\n"
     ]
    }
   ],
   "source": [
    "dev_loader = dataloader_from_examples(all_examples[train_dev_test_split[0]:train_dev_test_split[1]], model,\n",
    "                                      batch_size=10, shuffle=False)"
   ]
  },
  {
   "cell_type": "code",
   "execution_count": 9,
   "metadata": {
    "scrolled": true
   },
   "outputs": [],
   "source": [
    "train_loss = losses.CosineSimilarityLoss(model=model)\n",
    "evaluator = EmbeddingSimilarityEvaluator(dev_loader, show_progress_bar=True, device=device)"
   ]
  },
  {
   "cell_type": "code",
   "execution_count": 10,
   "metadata": {
    "scrolled": true
   },
   "outputs": [
    {
     "name": "stderr",
     "output_type": "stream",
     "text": [
      "Epoch:   0%|          | 0/2 [00:00<?, ?it/s]\n",
      "Iteration:   0%|          | 0/80 [00:00<?, ?it/s]\u001b[A"
     ]
    },
    {
     "name": "stdout",
     "output_type": "stream",
     "text": [
      "{'self': SentenceTransformer(\n",
      "  (0): BERT(\n",
      "    (bert): BertModel(\n",
      "      (embeddings): BertEmbeddings(\n",
      "        (word_embeddings): Embedding(30522, 768, padding_idx=0)\n",
      "        (position_embeddings): Embedding(512, 768)\n",
      "        (token_type_embeddings): Embedding(2, 768)\n",
      "        (LayerNorm): LayerNorm((768,), eps=1e-12, elementwise_affine=True)\n",
      "        (dropout): Dropout(p=0.1, inplace=False)\n",
      "      )\n",
      "      (encoder): BertEncoder(\n",
      "        (layer): ModuleList(\n",
      "          (0): BertLayer(\n",
      "            (attention): BertAttention(\n",
      "              (self): BertSelfAttention(\n",
      "                (query): Linear(in_features=768, out_features=768, bias=True)\n",
      "                (key): Linear(in_features=768, out_features=768, bias=True)\n",
      "                (value): Linear(in_features=768, out_features=768, bias=True)\n",
      "                (dropout): Dropout(p=0.1, inplace=False)\n",
      "              )\n",
      "              (output): BertSelfOutput(\n",
      "                (dense): Linear(in_features=768, out_features=768, bias=True)\n",
      "                (LayerNorm): LayerNorm((768,), eps=1e-12, elementwise_affine=True)\n",
      "                (dropout): Dropout(p=0.1, inplace=False)\n",
      "              )\n",
      "            )\n",
      "            (intermediate): BertIntermediate(\n",
      "              (dense): Linear(in_features=768, out_features=3072, bias=True)\n",
      "            )\n",
      "            (output): BertOutput(\n",
      "              (dense): Linear(in_features=3072, out_features=768, bias=True)\n",
      "              (LayerNorm): LayerNorm((768,), eps=1e-12, elementwise_affine=True)\n",
      "              (dropout): Dropout(p=0.1, inplace=False)\n",
      "            )\n",
      "          )\n",
      "          (1): BertLayer(\n",
      "            (attention): BertAttention(\n",
      "              (self): BertSelfAttention(\n",
      "                (query): Linear(in_features=768, out_features=768, bias=True)\n",
      "                (key): Linear(in_features=768, out_features=768, bias=True)\n",
      "                (value): Linear(in_features=768, out_features=768, bias=True)\n",
      "                (dropout): Dropout(p=0.1, inplace=False)\n",
      "              )\n",
      "              (output): BertSelfOutput(\n",
      "                (dense): Linear(in_features=768, out_features=768, bias=True)\n",
      "                (LayerNorm): LayerNorm((768,), eps=1e-12, elementwise_affine=True)\n",
      "                (dropout): Dropout(p=0.1, inplace=False)\n",
      "              )\n",
      "            )\n",
      "            (intermediate): BertIntermediate(\n",
      "              (dense): Linear(in_features=768, out_features=3072, bias=True)\n",
      "            )\n",
      "            (output): BertOutput(\n",
      "              (dense): Linear(in_features=3072, out_features=768, bias=True)\n",
      "              (LayerNorm): LayerNorm((768,), eps=1e-12, elementwise_affine=True)\n",
      "              (dropout): Dropout(p=0.1, inplace=False)\n",
      "            )\n",
      "          )\n",
      "          (2): BertLayer(\n",
      "            (attention): BertAttention(\n",
      "              (self): BertSelfAttention(\n",
      "                (query): Linear(in_features=768, out_features=768, bias=True)\n",
      "                (key): Linear(in_features=768, out_features=768, bias=True)\n",
      "                (value): Linear(in_features=768, out_features=768, bias=True)\n",
      "                (dropout): Dropout(p=0.1, inplace=False)\n",
      "              )\n",
      "              (output): BertSelfOutput(\n",
      "                (dense): Linear(in_features=768, out_features=768, bias=True)\n",
      "                (LayerNorm): LayerNorm((768,), eps=1e-12, elementwise_affine=True)\n",
      "                (dropout): Dropout(p=0.1, inplace=False)\n",
      "              )\n",
      "            )\n",
      "            (intermediate): BertIntermediate(\n",
      "              (dense): Linear(in_features=768, out_features=3072, bias=True)\n",
      "            )\n",
      "            (output): BertOutput(\n",
      "              (dense): Linear(in_features=3072, out_features=768, bias=True)\n",
      "              (LayerNorm): LayerNorm((768,), eps=1e-12, elementwise_affine=True)\n",
      "              (dropout): Dropout(p=0.1, inplace=False)\n",
      "            )\n",
      "          )\n",
      "          (3): BertLayer(\n",
      "            (attention): BertAttention(\n",
      "              (self): BertSelfAttention(\n",
      "                (query): Linear(in_features=768, out_features=768, bias=True)\n",
      "                (key): Linear(in_features=768, out_features=768, bias=True)\n",
      "                (value): Linear(in_features=768, out_features=768, bias=True)\n",
      "                (dropout): Dropout(p=0.1, inplace=False)\n",
      "              )\n",
      "              (output): BertSelfOutput(\n",
      "                (dense): Linear(in_features=768, out_features=768, bias=True)\n",
      "                (LayerNorm): LayerNorm((768,), eps=1e-12, elementwise_affine=True)\n",
      "                (dropout): Dropout(p=0.1, inplace=False)\n",
      "              )\n",
      "            )\n",
      "            (intermediate): BertIntermediate(\n",
      "              (dense): Linear(in_features=768, out_features=3072, bias=True)\n",
      "            )\n",
      "            (output): BertOutput(\n",
      "              (dense): Linear(in_features=3072, out_features=768, bias=True)\n",
      "              (LayerNorm): LayerNorm((768,), eps=1e-12, elementwise_affine=True)\n",
      "              (dropout): Dropout(p=0.1, inplace=False)\n",
      "            )\n",
      "          )\n",
      "          (4): BertLayer(\n",
      "            (attention): BertAttention(\n",
      "              (self): BertSelfAttention(\n",
      "                (query): Linear(in_features=768, out_features=768, bias=True)\n",
      "                (key): Linear(in_features=768, out_features=768, bias=True)\n",
      "                (value): Linear(in_features=768, out_features=768, bias=True)\n",
      "                (dropout): Dropout(p=0.1, inplace=False)\n",
      "              )\n",
      "              (output): BertSelfOutput(\n",
      "                (dense): Linear(in_features=768, out_features=768, bias=True)\n",
      "                (LayerNorm): LayerNorm((768,), eps=1e-12, elementwise_affine=True)\n",
      "                (dropout): Dropout(p=0.1, inplace=False)\n",
      "              )\n",
      "            )\n",
      "            (intermediate): BertIntermediate(\n",
      "              (dense): Linear(in_features=768, out_features=3072, bias=True)\n",
      "            )\n",
      "            (output): BertOutput(\n",
      "              (dense): Linear(in_features=3072, out_features=768, bias=True)\n",
      "              (LayerNorm): LayerNorm((768,), eps=1e-12, elementwise_affine=True)\n",
      "              (dropout): Dropout(p=0.1, inplace=False)\n",
      "            )\n",
      "          )\n",
      "          (5): BertLayer(\n",
      "            (attention): BertAttention(\n",
      "              (self): BertSelfAttention(\n",
      "                (query): Linear(in_features=768, out_features=768, bias=True)\n",
      "                (key): Linear(in_features=768, out_features=768, bias=True)\n",
      "                (value): Linear(in_features=768, out_features=768, bias=True)\n",
      "                (dropout): Dropout(p=0.1, inplace=False)\n",
      "              )\n",
      "              (output): BertSelfOutput(\n",
      "                (dense): Linear(in_features=768, out_features=768, bias=True)\n",
      "                (LayerNorm): LayerNorm((768,), eps=1e-12, elementwise_affine=True)\n",
      "                (dropout): Dropout(p=0.1, inplace=False)\n",
      "              )\n",
      "            )\n",
      "            (intermediate): BertIntermediate(\n",
      "              (dense): Linear(in_features=768, out_features=3072, bias=True)\n",
      "            )\n",
      "            (output): BertOutput(\n",
      "              (dense): Linear(in_features=3072, out_features=768, bias=True)\n",
      "              (LayerNorm): LayerNorm((768,), eps=1e-12, elementwise_affine=True)\n",
      "              (dropout): Dropout(p=0.1, inplace=False)\n",
      "            )\n",
      "          )\n",
      "          (6): BertLayer(\n",
      "            (attention): BertAttention(\n",
      "              (self): BertSelfAttention(\n",
      "                (query): Linear(in_features=768, out_features=768, bias=True)\n",
      "                (key): Linear(in_features=768, out_features=768, bias=True)\n",
      "                (value): Linear(in_features=768, out_features=768, bias=True)\n",
      "                (dropout): Dropout(p=0.1, inplace=False)\n",
      "              )\n",
      "              (output): BertSelfOutput(\n",
      "                (dense): Linear(in_features=768, out_features=768, bias=True)\n",
      "                (LayerNorm): LayerNorm((768,), eps=1e-12, elementwise_affine=True)\n",
      "                (dropout): Dropout(p=0.1, inplace=False)\n",
      "              )\n",
      "            )\n",
      "            (intermediate): BertIntermediate(\n",
      "              (dense): Linear(in_features=768, out_features=3072, bias=True)\n",
      "            )\n",
      "            (output): BertOutput(\n",
      "              (dense): Linear(in_features=3072, out_features=768, bias=True)\n",
      "              (LayerNorm): LayerNorm((768,), eps=1e-12, elementwise_affine=True)\n",
      "              (dropout): Dropout(p=0.1, inplace=False)\n",
      "            )\n",
      "          )\n",
      "          (7): BertLayer(\n",
      "            (attention): BertAttention(\n",
      "              (self): BertSelfAttention(\n",
      "                (query): Linear(in_features=768, out_features=768, bias=True)\n",
      "                (key): Linear(in_features=768, out_features=768, bias=True)\n",
      "                (value): Linear(in_features=768, out_features=768, bias=True)\n",
      "                (dropout): Dropout(p=0.1, inplace=False)\n",
      "              )\n",
      "              (output): BertSelfOutput(\n",
      "                (dense): Linear(in_features=768, out_features=768, bias=True)\n",
      "                (LayerNorm): LayerNorm((768,), eps=1e-12, elementwise_affine=True)\n",
      "                (dropout): Dropout(p=0.1, inplace=False)\n",
      "              )\n",
      "            )\n",
      "            (intermediate): BertIntermediate(\n",
      "              (dense): Linear(in_features=768, out_features=3072, bias=True)\n",
      "            )\n",
      "            (output): BertOutput(\n",
      "              (dense): Linear(in_features=3072, out_features=768, bias=True)\n",
      "              (LayerNorm): LayerNorm((768,), eps=1e-12, elementwise_affine=True)\n",
      "              (dropout): Dropout(p=0.1, inplace=False)\n",
      "            )\n",
      "          )\n",
      "          (8): BertLayer(\n",
      "            (attention): BertAttention(\n",
      "              (self): BertSelfAttention(\n",
      "                (query): Linear(in_features=768, out_features=768, bias=True)\n",
      "                (key): Linear(in_features=768, out_features=768, bias=True)\n",
      "                (value): Linear(in_features=768, out_features=768, bias=True)\n",
      "                (dropout): Dropout(p=0.1, inplace=False)\n",
      "              )\n",
      "              (output): BertSelfOutput(\n",
      "                (dense): Linear(in_features=768, out_features=768, bias=True)\n",
      "                (LayerNorm): LayerNorm((768,), eps=1e-12, elementwise_affine=True)\n",
      "                (dropout): Dropout(p=0.1, inplace=False)\n",
      "              )\n",
      "            )\n",
      "            (intermediate): BertIntermediate(\n",
      "              (dense): Linear(in_features=768, out_features=3072, bias=True)\n",
      "            )\n",
      "            (output): BertOutput(\n",
      "              (dense): Linear(in_features=3072, out_features=768, bias=True)\n",
      "              (LayerNorm): LayerNorm((768,), eps=1e-12, elementwise_affine=True)\n",
      "              (dropout): Dropout(p=0.1, inplace=False)\n",
      "            )\n",
      "          )\n",
      "          (9): BertLayer(\n",
      "            (attention): BertAttention(\n",
      "              (self): BertSelfAttention(\n",
      "                (query): Linear(in_features=768, out_features=768, bias=True)\n",
      "                (key): Linear(in_features=768, out_features=768, bias=True)\n",
      "                (value): Linear(in_features=768, out_features=768, bias=True)\n",
      "                (dropout): Dropout(p=0.1, inplace=False)\n",
      "              )\n",
      "              (output): BertSelfOutput(\n",
      "                (dense): Linear(in_features=768, out_features=768, bias=True)\n",
      "                (LayerNorm): LayerNorm((768,), eps=1e-12, elementwise_affine=True)\n",
      "                (dropout): Dropout(p=0.1, inplace=False)\n",
      "              )\n",
      "            )\n",
      "            (intermediate): BertIntermediate(\n",
      "              (dense): Linear(in_features=768, out_features=3072, bias=True)\n",
      "            )\n",
      "            (output): BertOutput(\n",
      "              (dense): Linear(in_features=3072, out_features=768, bias=True)\n",
      "              (LayerNorm): LayerNorm((768,), eps=1e-12, elementwise_affine=True)\n",
      "              (dropout): Dropout(p=0.1, inplace=False)\n",
      "            )\n",
      "          )\n",
      "          (10): BertLayer(\n",
      "            (attention): BertAttention(\n",
      "              (self): BertSelfAttention(\n",
      "                (query): Linear(in_features=768, out_features=768, bias=True)\n",
      "                (key): Linear(in_features=768, out_features=768, bias=True)\n",
      "                (value): Linear(in_features=768, out_features=768, bias=True)\n",
      "                (dropout): Dropout(p=0.1, inplace=False)\n",
      "              )\n",
      "              (output): BertSelfOutput(\n",
      "                (dense): Linear(in_features=768, out_features=768, bias=True)\n",
      "                (LayerNorm): LayerNorm((768,), eps=1e-12, elementwise_affine=True)\n",
      "                (dropout): Dropout(p=0.1, inplace=False)\n",
      "              )\n",
      "            )\n",
      "            (intermediate): BertIntermediate(\n",
      "              (dense): Linear(in_features=768, out_features=3072, bias=True)\n",
      "            )\n",
      "            (output): BertOutput(\n",
      "              (dense): Linear(in_features=3072, out_features=768, bias=True)\n",
      "              (LayerNorm): LayerNorm((768,), eps=1e-12, elementwise_affine=True)\n",
      "              (dropout): Dropout(p=0.1, inplace=False)\n",
      "            )\n",
      "          )\n",
      "          (11): BertLayer(\n",
      "            (attention): BertAttention(\n",
      "              (self): BertSelfAttention(\n",
      "                (query): Linear(in_features=768, out_features=768, bias=True)\n",
      "                (key): Linear(in_features=768, out_features=768, bias=True)\n",
      "                (value): Linear(in_features=768, out_features=768, bias=True)\n",
      "                (dropout): Dropout(p=0.1, inplace=False)\n",
      "              )\n",
      "              (output): BertSelfOutput(\n",
      "                (dense): Linear(in_features=768, out_features=768, bias=True)\n",
      "                (LayerNorm): LayerNorm((768,), eps=1e-12, elementwise_affine=True)\n",
      "                (dropout): Dropout(p=0.1, inplace=False)\n",
      "              )\n",
      "            )\n",
      "            (intermediate): BertIntermediate(\n",
      "              (dense): Linear(in_features=768, out_features=3072, bias=True)\n",
      "            )\n",
      "            (output): BertOutput(\n",
      "              (dense): Linear(in_features=3072, out_features=768, bias=True)\n",
      "              (LayerNorm): LayerNorm((768,), eps=1e-12, elementwise_affine=True)\n",
      "              (dropout): Dropout(p=0.1, inplace=False)\n",
      "            )\n",
      "          )\n",
      "        )\n",
      "      )\n",
      "      (pooler): BertPooler(\n",
      "        (dense): Linear(in_features=768, out_features=768, bias=True)\n",
      "        (activation): Tanh()\n",
      "      )\n",
      "    )\n",
      "  )\n",
      "  (1): Pooling()\n",
      "), 'train_objectives': [(<torch.utils.data.dataloader.DataLoader object at 0x7f1c8ef68198>, CosineSimilarityLoss(\n",
      "  (model): SentenceTransformer(\n",
      "    (0): BERT(\n",
      "      (bert): BertModel(\n",
      "        (embeddings): BertEmbeddings(\n",
      "          (word_embeddings): Embedding(30522, 768, padding_idx=0)\n",
      "          (position_embeddings): Embedding(512, 768)\n",
      "          (token_type_embeddings): Embedding(2, 768)\n",
      "          (LayerNorm): LayerNorm((768,), eps=1e-12, elementwise_affine=True)\n",
      "          (dropout): Dropout(p=0.1, inplace=False)\n",
      "        )\n",
      "        (encoder): BertEncoder(\n",
      "          (layer): ModuleList(\n",
      "            (0): BertLayer(\n",
      "              (attention): BertAttention(\n",
      "                (self): BertSelfAttention(\n",
      "                  (query): Linear(in_features=768, out_features=768, bias=True)\n",
      "                  (key): Linear(in_features=768, out_features=768, bias=True)\n",
      "                  (value): Linear(in_features=768, out_features=768, bias=True)\n",
      "                  (dropout): Dropout(p=0.1, inplace=False)\n",
      "                )\n",
      "                (output): BertSelfOutput(\n",
      "                  (dense): Linear(in_features=768, out_features=768, bias=True)\n",
      "                  (LayerNorm): LayerNorm((768,), eps=1e-12, elementwise_affine=True)\n",
      "                  (dropout): Dropout(p=0.1, inplace=False)\n",
      "                )\n",
      "              )\n",
      "              (intermediate): BertIntermediate(\n",
      "                (dense): Linear(in_features=768, out_features=3072, bias=True)\n",
      "              )\n",
      "              (output): BertOutput(\n",
      "                (dense): Linear(in_features=3072, out_features=768, bias=True)\n",
      "                (LayerNorm): LayerNorm((768,), eps=1e-12, elementwise_affine=True)\n",
      "                (dropout): Dropout(p=0.1, inplace=False)\n",
      "              )\n",
      "            )\n",
      "            (1): BertLayer(\n",
      "              (attention): BertAttention(\n",
      "                (self): BertSelfAttention(\n",
      "                  (query): Linear(in_features=768, out_features=768, bias=True)\n",
      "                  (key): Linear(in_features=768, out_features=768, bias=True)\n",
      "                  (value): Linear(in_features=768, out_features=768, bias=True)\n",
      "                  (dropout): Dropout(p=0.1, inplace=False)\n",
      "                )\n",
      "                (output): BertSelfOutput(\n",
      "                  (dense): Linear(in_features=768, out_features=768, bias=True)\n",
      "                  (LayerNorm): LayerNorm((768,), eps=1e-12, elementwise_affine=True)\n",
      "                  (dropout): Dropout(p=0.1, inplace=False)\n",
      "                )\n",
      "              )\n",
      "              (intermediate): BertIntermediate(\n",
      "                (dense): Linear(in_features=768, out_features=3072, bias=True)\n",
      "              )\n",
      "              (output): BertOutput(\n",
      "                (dense): Linear(in_features=3072, out_features=768, bias=True)\n",
      "                (LayerNorm): LayerNorm((768,), eps=1e-12, elementwise_affine=True)\n",
      "                (dropout): Dropout(p=0.1, inplace=False)\n",
      "              )\n",
      "            )\n",
      "            (2): BertLayer(\n",
      "              (attention): BertAttention(\n",
      "                (self): BertSelfAttention(\n",
      "                  (query): Linear(in_features=768, out_features=768, bias=True)\n",
      "                  (key): Linear(in_features=768, out_features=768, bias=True)\n",
      "                  (value): Linear(in_features=768, out_features=768, bias=True)\n",
      "                  (dropout): Dropout(p=0.1, inplace=False)\n",
      "                )\n",
      "                (output): BertSelfOutput(\n",
      "                  (dense): Linear(in_features=768, out_features=768, bias=True)\n",
      "                  (LayerNorm): LayerNorm((768,), eps=1e-12, elementwise_affine=True)\n",
      "                  (dropout): Dropout(p=0.1, inplace=False)\n",
      "                )\n",
      "              )\n",
      "              (intermediate): BertIntermediate(\n",
      "                (dense): Linear(in_features=768, out_features=3072, bias=True)\n",
      "              )\n",
      "              (output): BertOutput(\n",
      "                (dense): Linear(in_features=3072, out_features=768, bias=True)\n",
      "                (LayerNorm): LayerNorm((768,), eps=1e-12, elementwise_affine=True)\n",
      "                (dropout): Dropout(p=0.1, inplace=False)\n",
      "              )\n",
      "            )\n",
      "            (3): BertLayer(\n",
      "              (attention): BertAttention(\n",
      "                (self): BertSelfAttention(\n",
      "                  (query): Linear(in_features=768, out_features=768, bias=True)\n",
      "                  (key): Linear(in_features=768, out_features=768, bias=True)\n",
      "                  (value): Linear(in_features=768, out_features=768, bias=True)\n",
      "                  (dropout): Dropout(p=0.1, inplace=False)\n",
      "                )\n",
      "                (output): BertSelfOutput(\n",
      "                  (dense): Linear(in_features=768, out_features=768, bias=True)\n",
      "                  (LayerNorm): LayerNorm((768,), eps=1e-12, elementwise_affine=True)\n",
      "                  (dropout): Dropout(p=0.1, inplace=False)\n",
      "                )\n",
      "              )\n",
      "              (intermediate): BertIntermediate(\n",
      "                (dense): Linear(in_features=768, out_features=3072, bias=True)\n",
      "              )\n",
      "              (output): BertOutput(\n",
      "                (dense): Linear(in_features=3072, out_features=768, bias=True)\n",
      "                (LayerNorm): LayerNorm((768,), eps=1e-12, elementwise_affine=True)\n",
      "                (dropout): Dropout(p=0.1, inplace=False)\n",
      "              )\n",
      "            )\n",
      "            (4): BertLayer(\n",
      "              (attention): BertAttention(\n",
      "                (self): BertSelfAttention(\n",
      "                  (query): Linear(in_features=768, out_features=768, bias=True)\n",
      "                  (key): Linear(in_features=768, out_features=768, bias=True)\n",
      "                  (value): Linear(in_features=768, out_features=768, bias=True)\n",
      "                  (dropout): Dropout(p=0.1, inplace=False)\n",
      "                )\n",
      "                (output): BertSelfOutput(\n",
      "                  (dense): Linear(in_features=768, out_features=768, bias=True)\n",
      "                  (LayerNorm): LayerNorm((768,), eps=1e-12, elementwise_affine=True)\n",
      "                  (dropout): Dropout(p=0.1, inplace=False)\n",
      "                )\n",
      "              )\n",
      "              (intermediate): BertIntermediate(\n",
      "                (dense): Linear(in_features=768, out_features=3072, bias=True)\n",
      "              )\n",
      "              (output): BertOutput(\n",
      "                (dense): Linear(in_features=3072, out_features=768, bias=True)\n",
      "                (LayerNorm): LayerNorm((768,), eps=1e-12, elementwise_affine=True)\n",
      "                (dropout): Dropout(p=0.1, inplace=False)\n",
      "              )\n",
      "            )\n",
      "            (5): BertLayer(\n",
      "              (attention): BertAttention(\n",
      "                (self): BertSelfAttention(\n",
      "                  (query): Linear(in_features=768, out_features=768, bias=True)\n",
      "                  (key): Linear(in_features=768, out_features=768, bias=True)\n",
      "                  (value): Linear(in_features=768, out_features=768, bias=True)\n",
      "                  (dropout): Dropout(p=0.1, inplace=False)\n",
      "                )\n",
      "                (output): BertSelfOutput(\n",
      "                  (dense): Linear(in_features=768, out_features=768, bias=True)\n",
      "                  (LayerNorm): LayerNorm((768,), eps=1e-12, elementwise_affine=True)\n",
      "                  (dropout): Dropout(p=0.1, inplace=False)\n",
      "                )\n",
      "              )\n",
      "              (intermediate): BertIntermediate(\n",
      "                (dense): Linear(in_features=768, out_features=3072, bias=True)\n",
      "              )\n",
      "              (output): BertOutput(\n",
      "                (dense): Linear(in_features=3072, out_features=768, bias=True)\n",
      "                (LayerNorm): LayerNorm((768,), eps=1e-12, elementwise_affine=True)\n",
      "                (dropout): Dropout(p=0.1, inplace=False)\n",
      "              )\n",
      "            )\n",
      "            (6): BertLayer(\n",
      "              (attention): BertAttention(\n",
      "                (self): BertSelfAttention(\n",
      "                  (query): Linear(in_features=768, out_features=768, bias=True)\n",
      "                  (key): Linear(in_features=768, out_features=768, bias=True)\n",
      "                  (value): Linear(in_features=768, out_features=768, bias=True)\n",
      "                  (dropout): Dropout(p=0.1, inplace=False)\n",
      "                )\n",
      "                (output): BertSelfOutput(\n",
      "                  (dense): Linear(in_features=768, out_features=768, bias=True)\n",
      "                  (LayerNorm): LayerNorm((768,), eps=1e-12, elementwise_affine=True)\n",
      "                  (dropout): Dropout(p=0.1, inplace=False)\n",
      "                )\n",
      "              )\n",
      "              (intermediate): BertIntermediate(\n",
      "                (dense): Linear(in_features=768, out_features=3072, bias=True)\n",
      "              )\n",
      "              (output): BertOutput(\n",
      "                (dense): Linear(in_features=3072, out_features=768, bias=True)\n",
      "                (LayerNorm): LayerNorm((768,), eps=1e-12, elementwise_affine=True)\n",
      "                (dropout): Dropout(p=0.1, inplace=False)\n",
      "              )\n",
      "            )\n",
      "            (7): BertLayer(\n",
      "              (attention): BertAttention(\n",
      "                (self): BertSelfAttention(\n",
      "                  (query): Linear(in_features=768, out_features=768, bias=True)\n",
      "                  (key): Linear(in_features=768, out_features=768, bias=True)\n",
      "                  (value): Linear(in_features=768, out_features=768, bias=True)\n",
      "                  (dropout): Dropout(p=0.1, inplace=False)\n",
      "                )\n",
      "                (output): BertSelfOutput(\n",
      "                  (dense): Linear(in_features=768, out_features=768, bias=True)\n",
      "                  (LayerNorm): LayerNorm((768,), eps=1e-12, elementwise_affine=True)\n",
      "                  (dropout): Dropout(p=0.1, inplace=False)\n",
      "                )\n",
      "              )\n",
      "              (intermediate): BertIntermediate(\n",
      "                (dense): Linear(in_features=768, out_features=3072, bias=True)\n",
      "              )\n",
      "              (output): BertOutput(\n",
      "                (dense): Linear(in_features=3072, out_features=768, bias=True)\n",
      "                (LayerNorm): LayerNorm((768,), eps=1e-12, elementwise_affine=True)\n",
      "                (dropout): Dropout(p=0.1, inplace=False)\n",
      "              )\n",
      "            )\n",
      "            (8): BertLayer(\n",
      "              (attention): BertAttention(\n",
      "                (self): BertSelfAttention(\n",
      "                  (query): Linear(in_features=768, out_features=768, bias=True)\n",
      "                  (key): Linear(in_features=768, out_features=768, bias=True)\n",
      "                  (value): Linear(in_features=768, out_features=768, bias=True)\n",
      "                  (dropout): Dropout(p=0.1, inplace=False)\n",
      "                )\n",
      "                (output): BertSelfOutput(\n",
      "                  (dense): Linear(in_features=768, out_features=768, bias=True)\n",
      "                  (LayerNorm): LayerNorm((768,), eps=1e-12, elementwise_affine=True)\n",
      "                  (dropout): Dropout(p=0.1, inplace=False)\n",
      "                )\n",
      "              )\n",
      "              (intermediate): BertIntermediate(\n",
      "                (dense): Linear(in_features=768, out_features=3072, bias=True)\n",
      "              )\n",
      "              (output): BertOutput(\n",
      "                (dense): Linear(in_features=3072, out_features=768, bias=True)\n",
      "                (LayerNorm): LayerNorm((768,), eps=1e-12, elementwise_affine=True)\n",
      "                (dropout): Dropout(p=0.1, inplace=False)\n",
      "              )\n",
      "            )\n",
      "            (9): BertLayer(\n",
      "              (attention): BertAttention(\n",
      "                (self): BertSelfAttention(\n",
      "                  (query): Linear(in_features=768, out_features=768, bias=True)\n",
      "                  (key): Linear(in_features=768, out_features=768, bias=True)\n",
      "                  (value): Linear(in_features=768, out_features=768, bias=True)\n",
      "                  (dropout): Dropout(p=0.1, inplace=False)\n",
      "                )\n",
      "                (output): BertSelfOutput(\n",
      "                  (dense): Linear(in_features=768, out_features=768, bias=True)\n",
      "                  (LayerNorm): LayerNorm((768,), eps=1e-12, elementwise_affine=True)\n",
      "                  (dropout): Dropout(p=0.1, inplace=False)\n",
      "                )\n",
      "              )\n",
      "              (intermediate): BertIntermediate(\n",
      "                (dense): Linear(in_features=768, out_features=3072, bias=True)\n",
      "              )\n",
      "              (output): BertOutput(\n",
      "                (dense): Linear(in_features=3072, out_features=768, bias=True)\n",
      "                (LayerNorm): LayerNorm((768,), eps=1e-12, elementwise_affine=True)\n",
      "                (dropout): Dropout(p=0.1, inplace=False)\n",
      "              )\n",
      "            )\n",
      "            (10): BertLayer(\n",
      "              (attention): BertAttention(\n",
      "                (self): BertSelfAttention(\n",
      "                  (query): Linear(in_features=768, out_features=768, bias=True)\n",
      "                  (key): Linear(in_features=768, out_features=768, bias=True)\n",
      "                  (value): Linear(in_features=768, out_features=768, bias=True)\n",
      "                  (dropout): Dropout(p=0.1, inplace=False)\n",
      "                )\n",
      "                (output): BertSelfOutput(\n",
      "                  (dense): Linear(in_features=768, out_features=768, bias=True)\n",
      "                  (LayerNorm): LayerNorm((768,), eps=1e-12, elementwise_affine=True)\n",
      "                  (dropout): Dropout(p=0.1, inplace=False)\n",
      "                )\n",
      "              )\n",
      "              (intermediate): BertIntermediate(\n",
      "                (dense): Linear(in_features=768, out_features=3072, bias=True)\n",
      "              )\n",
      "              (output): BertOutput(\n",
      "                (dense): Linear(in_features=3072, out_features=768, bias=True)\n",
      "                (LayerNorm): LayerNorm((768,), eps=1e-12, elementwise_affine=True)\n",
      "                (dropout): Dropout(p=0.1, inplace=False)\n",
      "              )\n",
      "            )\n",
      "            (11): BertLayer(\n",
      "              (attention): BertAttention(\n",
      "                (self): BertSelfAttention(\n",
      "                  (query): Linear(in_features=768, out_features=768, bias=True)\n",
      "                  (key): Linear(in_features=768, out_features=768, bias=True)\n",
      "                  (value): Linear(in_features=768, out_features=768, bias=True)\n",
      "                  (dropout): Dropout(p=0.1, inplace=False)\n",
      "                )\n",
      "                (output): BertSelfOutput(\n",
      "                  (dense): Linear(in_features=768, out_features=768, bias=True)\n",
      "                  (LayerNorm): LayerNorm((768,), eps=1e-12, elementwise_affine=True)\n",
      "                  (dropout): Dropout(p=0.1, inplace=False)\n",
      "                )\n",
      "              )\n",
      "              (intermediate): BertIntermediate(\n",
      "                (dense): Linear(in_features=768, out_features=3072, bias=True)\n",
      "              )\n",
      "              (output): BertOutput(\n",
      "                (dense): Linear(in_features=3072, out_features=768, bias=True)\n",
      "                (LayerNorm): LayerNorm((768,), eps=1e-12, elementwise_affine=True)\n",
      "                (dropout): Dropout(p=0.1, inplace=False)\n",
      "              )\n",
      "            )\n",
      "          )\n",
      "        )\n",
      "        (pooler): BertPooler(\n",
      "          (dense): Linear(in_features=768, out_features=768, bias=True)\n",
      "          (activation): Tanh()\n",
      "        )\n",
      "      )\n",
      "    )\n",
      "    (1): Pooling()\n",
      "  )\n",
      "))], 'evaluator': <sentence_transformers.evaluation.EmbeddingSimilarityEvaluator.EmbeddingSimilarityEvaluator object at 0x7f1c8407edd8>, 'epochs': 2, 'steps_per_epoch': None, 'scheduler': 'WarmupLinear', 'warmup_steps': 10, 'optimizer_class': <class 'transformers.optimization.AdamW'>, 'optimizer_params': {'lr': 2e-05, 'eps': 1e-06, 'correct_bias': False}, 'weight_decay': 0.01, 'evaluation_steps': 11, 'output_path': 'out', 'save_best_model': True, 'max_grad_norm': 1, 'fp16': False, 'fp16_opt_level': 'O1', 'local_rank': -1}\n",
      "Step 0/160: Loss val: 0.6488428115844727\n"
     ]
    },
    {
     "name": "stderr",
     "output_type": "stream",
     "text": [
      "\n",
      "Iteration:   1%|▏         | 1/80 [00:00<00:41,  1.91it/s]\u001b[A"
     ]
    },
    {
     "name": "stdout",
     "output_type": "stream",
     "text": [
      "Step 1/160: Loss val: 0.49434882402420044\n"
     ]
    },
    {
     "name": "stderr",
     "output_type": "stream",
     "text": [
      "\n",
      "Iteration:   2%|▎         | 2/80 [00:01<00:40,  1.91it/s]\u001b[A"
     ]
    },
    {
     "name": "stdout",
     "output_type": "stream",
     "text": [
      "Step 2/160: Loss val: 0.5802631974220276\n"
     ]
    },
    {
     "name": "stderr",
     "output_type": "stream",
     "text": [
      "\n",
      "Iteration:   4%|▍         | 3/80 [00:01<00:40,  1.92it/s]\u001b[A"
     ]
    },
    {
     "name": "stdout",
     "output_type": "stream",
     "text": [
      "Step 3/160: Loss val: 0.5031002163887024\n"
     ]
    },
    {
     "name": "stderr",
     "output_type": "stream",
     "text": [
      "\n",
      "Iteration:   5%|▌         | 4/80 [00:02<00:39,  1.92it/s]\u001b[A"
     ]
    },
    {
     "name": "stdout",
     "output_type": "stream",
     "text": [
      "Step 4/160: Loss val: 0.49005937576293945\n"
     ]
    },
    {
     "name": "stderr",
     "output_type": "stream",
     "text": [
      "\n",
      "Iteration:   6%|▋         | 5/80 [00:02<00:39,  1.92it/s]\u001b[A"
     ]
    },
    {
     "name": "stdout",
     "output_type": "stream",
     "text": [
      "Step 5/160: Loss val: 0.5377171635627747\n"
     ]
    },
    {
     "name": "stderr",
     "output_type": "stream",
     "text": [
      "\n",
      "Iteration:   8%|▊         | 6/80 [00:03<00:38,  1.92it/s]\u001b[A"
     ]
    },
    {
     "name": "stdout",
     "output_type": "stream",
     "text": [
      "Step 6/160: Loss val: 0.5183394551277161\n"
     ]
    },
    {
     "name": "stderr",
     "output_type": "stream",
     "text": [
      "\n",
      "Iteration:   9%|▉         | 7/80 [00:03<00:37,  1.92it/s]\u001b[A"
     ]
    },
    {
     "name": "stdout",
     "output_type": "stream",
     "text": [
      "Step 7/160: Loss val: 0.32957887649536133\n"
     ]
    },
    {
     "name": "stderr",
     "output_type": "stream",
     "text": [
      "\n",
      "Iteration:  10%|█         | 8/80 [00:04<00:37,  1.93it/s]\u001b[A"
     ]
    },
    {
     "name": "stdout",
     "output_type": "stream",
     "text": [
      "Step 8/160: Loss val: 0.28755271434783936\n"
     ]
    },
    {
     "name": "stderr",
     "output_type": "stream",
     "text": [
      "\n",
      "Iteration:  11%|█▏        | 9/80 [00:04<00:36,  1.93it/s]\u001b[A"
     ]
    },
    {
     "name": "stdout",
     "output_type": "stream",
     "text": [
      "Step 9/160: Loss val: 0.33790773153305054\n"
     ]
    },
    {
     "name": "stderr",
     "output_type": "stream",
     "text": [
      "\n",
      "Iteration:  12%|█▎        | 10/80 [00:05<00:36,  1.93it/s]\u001b[A"
     ]
    },
    {
     "name": "stdout",
     "output_type": "stream",
     "text": [
      "Step 10/160: Loss val: 0.2127704620361328\n"
     ]
    },
    {
     "name": "stderr",
     "output_type": "stream",
     "text": [
      "\n",
      "\n",
      "Convert Evaluating:   0%|          | 0/10 [00:00<?, ?it/s]\u001b[A\u001b[A\n",
      "\n",
      "Convert Evaluating:  10%|█         | 1/10 [00:00<00:01,  6.15it/s]\u001b[A\u001b[A\n",
      "\n",
      "Convert Evaluating:  20%|██        | 2/10 [00:00<00:01,  6.21it/s]\u001b[A\u001b[A\n",
      "\n",
      "Convert Evaluating:  30%|███       | 3/10 [00:00<00:01,  6.25it/s]\u001b[A\u001b[A\n",
      "\n",
      "Convert Evaluating:  40%|████      | 4/10 [00:00<00:00,  6.28it/s]\u001b[A\u001b[A\n",
      "\n",
      "Convert Evaluating:  50%|█████     | 5/10 [00:00<00:00,  6.29it/s]\u001b[A\u001b[A\n",
      "\n",
      "Convert Evaluating:  60%|██████    | 6/10 [00:00<00:00,  6.31it/s]\u001b[A\u001b[A\n",
      "\n",
      "Convert Evaluating:  70%|███████   | 7/10 [00:01<00:00,  6.31it/s]\u001b[A\u001b[A\n",
      "\n",
      "Convert Evaluating:  80%|████████  | 8/10 [00:01<00:00,  6.32it/s]\u001b[A\u001b[A\n",
      "\n",
      "Convert Evaluating:  90%|█████████ | 9/10 [00:01<00:00,  6.32it/s]\u001b[A\u001b[A\n",
      "\n",
      "Convert Evaluating: 100%|██████████| 10/10 [00:01<00:00,  6.63it/s]\u001b[A\u001b[A\n",
      "Iteration:  14%|█▍        | 11/80 [00:07<00:43,  1.60it/s]\u001b[A"
     ]
    },
    {
     "name": "stdout",
     "output_type": "stream",
     "text": [
      "Step 11/160: Objective val: 0.09398376422449757\n",
      "Step 11/160: Loss val: 0.29588133096694946\n"
     ]
    },
    {
     "name": "stderr",
     "output_type": "stream",
     "text": [
      "\n",
      "Iteration:  15%|█▌        | 12/80 [00:08<00:42,  1.61it/s]\u001b[A"
     ]
    },
    {
     "name": "stdout",
     "output_type": "stream",
     "text": [
      "Step 12/160: Loss val: 0.2332572638988495\n"
     ]
    },
    {
     "name": "stderr",
     "output_type": "stream",
     "text": [
      "\n",
      "Iteration:  16%|█▋        | 13/80 [00:08<00:41,  1.63it/s]\u001b[A"
     ]
    },
    {
     "name": "stdout",
     "output_type": "stream",
     "text": [
      "Step 13/160: Loss val: 0.23027841746807098\n"
     ]
    },
    {
     "name": "stderr",
     "output_type": "stream",
     "text": [
      "\n",
      "Iteration:  18%|█▊        | 14/80 [00:09<00:39,  1.65it/s]\u001b[A"
     ]
    },
    {
     "name": "stdout",
     "output_type": "stream",
     "text": [
      "Step 14/160: Loss val: 0.2868025600910187\n"
     ]
    },
    {
     "name": "stderr",
     "output_type": "stream",
     "text": [
      "\n",
      "Iteration:  19%|█▉        | 15/80 [00:09<00:39,  1.66it/s]\u001b[A"
     ]
    },
    {
     "name": "stdout",
     "output_type": "stream",
     "text": [
      "Step 15/160: Loss val: 0.23251494765281677\n"
     ]
    },
    {
     "name": "stderr",
     "output_type": "stream",
     "text": [
      "\n",
      "Iteration:  20%|██        | 16/80 [00:10<00:38,  1.68it/s]\u001b[A"
     ]
    },
    {
     "name": "stdout",
     "output_type": "stream",
     "text": [
      "Step 16/160: Loss val: 0.2607906460762024\n"
     ]
    },
    {
     "name": "stderr",
     "output_type": "stream",
     "text": [
      "\n",
      "Iteration:  21%|██▏       | 17/80 [00:10<00:37,  1.69it/s]\u001b[A"
     ]
    },
    {
     "name": "stdout",
     "output_type": "stream",
     "text": [
      "Step 17/160: Loss val: 0.23316530883312225\n"
     ]
    },
    {
     "name": "stderr",
     "output_type": "stream",
     "text": [
      "\n",
      "Iteration:  22%|██▎       | 18/80 [00:11<00:36,  1.70it/s]\u001b[A"
     ]
    },
    {
     "name": "stdout",
     "output_type": "stream",
     "text": [
      "Step 18/160: Loss val: 0.2752982974052429\n"
     ]
    },
    {
     "name": "stderr",
     "output_type": "stream",
     "text": [
      "\n",
      "Iteration:  24%|██▍       | 19/80 [00:11<00:35,  1.71it/s]\u001b[A"
     ]
    },
    {
     "name": "stdout",
     "output_type": "stream",
     "text": [
      "Step 19/160: Loss val: 0.16015976667404175\n"
     ]
    },
    {
     "name": "stderr",
     "output_type": "stream",
     "text": [
      "\n",
      "Iteration:  25%|██▌       | 20/80 [00:12<00:34,  1.72it/s]\u001b[A"
     ]
    },
    {
     "name": "stdout",
     "output_type": "stream",
     "text": [
      "Step 20/160: Loss val: 0.1789371222257614\n"
     ]
    },
    {
     "name": "stderr",
     "output_type": "stream",
     "text": [
      "\n",
      "Iteration:  26%|██▋       | 21/80 [00:12<00:34,  1.73it/s]\u001b[A"
     ]
    },
    {
     "name": "stdout",
     "output_type": "stream",
     "text": [
      "Step 21/160: Loss val: 0.2017325460910797\n"
     ]
    },
    {
     "name": "stderr",
     "output_type": "stream",
     "text": [
      "\n",
      "\n",
      "Convert Evaluating:   0%|          | 0/10 [00:00<?, ?it/s]\u001b[A\u001b[A\n",
      "\n",
      "Convert Evaluating:  10%|█         | 1/10 [00:00<00:01,  6.15it/s]\u001b[A\u001b[A\n",
      "\n",
      "Convert Evaluating:  20%|██        | 2/10 [00:00<00:01,  6.20it/s]\u001b[A\u001b[A\n",
      "\n",
      "Convert Evaluating:  30%|███       | 3/10 [00:00<00:01,  6.24it/s]\u001b[A\u001b[A\n",
      "\n",
      "Convert Evaluating:  40%|████      | 4/10 [00:00<00:00,  6.27it/s]\u001b[A\u001b[A\n",
      "\n",
      "Convert Evaluating:  50%|█████     | 5/10 [00:00<00:00,  6.29it/s]\u001b[A\u001b[A\n",
      "\n",
      "Convert Evaluating:  60%|██████    | 6/10 [00:00<00:00,  6.30it/s]\u001b[A\u001b[A\n",
      "\n",
      "Convert Evaluating:  70%|███████   | 7/10 [00:01<00:00,  6.30it/s]\u001b[A\u001b[A\n",
      "\n",
      "Convert Evaluating:  80%|████████  | 8/10 [00:01<00:00,  6.31it/s]\u001b[A\u001b[A\n",
      "\n",
      "Convert Evaluating:  90%|█████████ | 9/10 [00:01<00:00,  6.32it/s]\u001b[A\u001b[A\n",
      "\n",
      "Convert Evaluating: 100%|██████████| 10/10 [00:01<00:00,  6.63it/s]\u001b[A\u001b[A\n",
      "Iteration:  28%|██▊       | 22/80 [00:14<00:37,  1.53it/s]\u001b[A"
     ]
    },
    {
     "name": "stdout",
     "output_type": "stream",
     "text": [
      "Step 22/160: Objective val: 0.06310225913145227\n",
      "Step 22/160: Loss val: 0.10554905235767365\n"
     ]
    },
    {
     "name": "stderr",
     "output_type": "stream",
     "text": [
      "\n",
      "Iteration:  29%|██▉       | 23/80 [00:15<00:36,  1.55it/s]\u001b[A"
     ]
    },
    {
     "name": "stdout",
     "output_type": "stream",
     "text": [
      "Step 23/160: Loss val: 0.12121424823999405\n"
     ]
    },
    {
     "name": "stderr",
     "output_type": "stream",
     "text": [
      "\n",
      "Iteration:  30%|███       | 24/80 [00:15<00:35,  1.56it/s]\u001b[A"
     ]
    },
    {
     "name": "stdout",
     "output_type": "stream",
     "text": [
      "Step 24/160: Loss val: 0.1704271137714386\n"
     ]
    },
    {
     "name": "stderr",
     "output_type": "stream",
     "text": [
      "\n",
      "Iteration:  31%|███▏      | 25/80 [00:16<00:34,  1.58it/s]\u001b[A"
     ]
    },
    {
     "name": "stdout",
     "output_type": "stream",
     "text": [
      "Step 25/160: Loss val: 0.1897706240415573\n"
     ]
    },
    {
     "name": "stderr",
     "output_type": "stream",
     "text": [
      "\n",
      "Iteration:  32%|███▎      | 26/80 [00:16<00:33,  1.59it/s]\u001b[A"
     ]
    },
    {
     "name": "stdout",
     "output_type": "stream",
     "text": [
      "Step 26/160: Loss val: 0.18174399435520172\n"
     ]
    },
    {
     "name": "stderr",
     "output_type": "stream",
     "text": [
      "\n",
      "Iteration:  34%|███▍      | 27/80 [00:17<00:32,  1.61it/s]\u001b[A"
     ]
    },
    {
     "name": "stdout",
     "output_type": "stream",
     "text": [
      "Step 27/160: Loss val: 0.2786906063556671\n"
     ]
    },
    {
     "name": "stderr",
     "output_type": "stream",
     "text": [
      "\n",
      "Iteration:  35%|███▌      | 28/80 [00:18<00:32,  1.62it/s]\u001b[A"
     ]
    },
    {
     "name": "stdout",
     "output_type": "stream",
     "text": [
      "Step 28/160: Loss val: 0.3202407658100128\n"
     ]
    },
    {
     "name": "stderr",
     "output_type": "stream",
     "text": [
      "\n",
      "Iteration:  36%|███▋      | 29/80 [00:18<00:31,  1.63it/s]\u001b[A"
     ]
    },
    {
     "name": "stdout",
     "output_type": "stream",
     "text": [
      "Step 29/160: Loss val: 0.13310568034648895\n"
     ]
    },
    {
     "name": "stderr",
     "output_type": "stream",
     "text": [
      "\n",
      "Iteration:  38%|███▊      | 30/80 [00:19<00:30,  1.65it/s]\u001b[A"
     ]
    },
    {
     "name": "stdout",
     "output_type": "stream",
     "text": [
      "Step 30/160: Loss val: 0.235945463180542\n"
     ]
    },
    {
     "name": "stderr",
     "output_type": "stream",
     "text": [
      "\n",
      "Iteration:  39%|███▉      | 31/80 [00:19<00:29,  1.67it/s]\u001b[A"
     ]
    },
    {
     "name": "stdout",
     "output_type": "stream",
     "text": [
      "Step 31/160: Loss val: 0.22638435661792755\n"
     ]
    },
    {
     "name": "stderr",
     "output_type": "stream",
     "text": [
      "\n",
      "Iteration:  40%|████      | 32/80 [00:20<00:28,  1.68it/s]\u001b[A"
     ]
    },
    {
     "name": "stdout",
     "output_type": "stream",
     "text": [
      "Step 32/160: Loss val: 0.07747408747673035\n"
     ]
    },
    {
     "name": "stderr",
     "output_type": "stream",
     "text": [
      "\n",
      "\n",
      "Convert Evaluating:   0%|          | 0/10 [00:00<?, ?it/s]\u001b[A\u001b[A\n",
      "\n",
      "Convert Evaluating:  10%|█         | 1/10 [00:00<00:01,  6.13it/s]\u001b[A\u001b[A\n",
      "\n",
      "Convert Evaluating:  20%|██        | 2/10 [00:00<00:01,  6.20it/s]\u001b[A\u001b[A\n",
      "\n",
      "Convert Evaluating:  30%|███       | 3/10 [00:00<00:01,  6.23it/s]\u001b[A\u001b[A\n",
      "\n",
      "Convert Evaluating:  40%|████      | 4/10 [00:00<00:00,  6.26it/s]\u001b[A\u001b[A\n",
      "\n",
      "Convert Evaluating:  50%|█████     | 5/10 [00:00<00:00,  6.28it/s]\u001b[A\u001b[A\n",
      "\n",
      "Convert Evaluating:  60%|██████    | 6/10 [00:00<00:00,  6.30it/s]\u001b[A\u001b[A\n",
      "\n",
      "Convert Evaluating:  70%|███████   | 7/10 [00:01<00:00,  6.30it/s]\u001b[A\u001b[A\n",
      "\n",
      "Convert Evaluating:  80%|████████  | 8/10 [00:01<00:00,  6.31it/s]\u001b[A\u001b[A\n",
      "\n",
      "Convert Evaluating:  90%|█████████ | 9/10 [00:01<00:00,  6.31it/s]\u001b[A\u001b[A\n",
      "\n",
      "Convert Evaluating: 100%|██████████| 10/10 [00:01<00:00,  6.62it/s]\u001b[A\u001b[A\n",
      "Iteration:  41%|████▏     | 33/80 [00:21<00:31,  1.51it/s]\u001b[A"
     ]
    },
    {
     "name": "stdout",
     "output_type": "stream",
     "text": [
      "Step 33/160: Objective val: 0.006006925416695674\n",
      "Step 33/160: Loss val: 0.097073495388031\n"
     ]
    },
    {
     "name": "stderr",
     "output_type": "stream",
     "text": [
      "\n",
      "Iteration:  42%|████▎     | 34/80 [00:22<00:30,  1.53it/s]\u001b[A"
     ]
    },
    {
     "name": "stdout",
     "output_type": "stream",
     "text": [
      "Step 34/160: Loss val: 0.18353411555290222\n"
     ]
    },
    {
     "name": "stderr",
     "output_type": "stream",
     "text": [
      "\n",
      "Iteration:  44%|████▍     | 35/80 [00:22<00:29,  1.54it/s]\u001b[A"
     ]
    },
    {
     "name": "stdout",
     "output_type": "stream",
     "text": [
      "Step 35/160: Loss val: 0.4465765058994293\n"
     ]
    },
    {
     "name": "stderr",
     "output_type": "stream",
     "text": [
      "\n",
      "Iteration:  45%|████▌     | 36/80 [00:23<00:28,  1.56it/s]\u001b[A"
     ]
    },
    {
     "name": "stdout",
     "output_type": "stream",
     "text": [
      "Step 36/160: Loss val: 0.27627164125442505\n"
     ]
    },
    {
     "name": "stderr",
     "output_type": "stream",
     "text": [
      "\n",
      "Iteration:  46%|████▋     | 37/80 [00:24<00:27,  1.58it/s]\u001b[A"
     ]
    },
    {
     "name": "stdout",
     "output_type": "stream",
     "text": [
      "Step 37/160: Loss val: 0.2430667132139206\n"
     ]
    },
    {
     "name": "stderr",
     "output_type": "stream",
     "text": [
      "\n",
      "Iteration:  48%|████▊     | 38/80 [00:24<00:26,  1.59it/s]\u001b[A"
     ]
    },
    {
     "name": "stdout",
     "output_type": "stream",
     "text": [
      "Step 38/160: Loss val: 0.2643340229988098\n"
     ]
    },
    {
     "name": "stderr",
     "output_type": "stream",
     "text": [
      "\n",
      "Iteration:  49%|████▉     | 39/80 [00:25<00:25,  1.60it/s]\u001b[A"
     ]
    },
    {
     "name": "stdout",
     "output_type": "stream",
     "text": [
      "Step 39/160: Loss val: 0.17905303835868835\n"
     ]
    },
    {
     "name": "stderr",
     "output_type": "stream",
     "text": [
      "\n",
      "Iteration:  50%|█████     | 40/80 [00:25<00:24,  1.62it/s]\u001b[A"
     ]
    },
    {
     "name": "stdout",
     "output_type": "stream",
     "text": [
      "Step 40/160: Loss val: 0.2990592122077942\n"
     ]
    },
    {
     "name": "stderr",
     "output_type": "stream",
     "text": [
      "\n",
      "Iteration:  51%|█████▏    | 41/80 [00:26<00:23,  1.63it/s]\u001b[A"
     ]
    },
    {
     "name": "stdout",
     "output_type": "stream",
     "text": [
      "Step 41/160: Loss val: 0.37050661444664\n"
     ]
    },
    {
     "name": "stderr",
     "output_type": "stream",
     "text": [
      "\n",
      "Iteration:  52%|█████▎    | 42/80 [00:26<00:23,  1.64it/s]\u001b[A"
     ]
    },
    {
     "name": "stdout",
     "output_type": "stream",
     "text": [
      "Step 42/160: Loss val: 0.15161004662513733\n"
     ]
    },
    {
     "name": "stderr",
     "output_type": "stream",
     "text": [
      "\n",
      "Iteration:  54%|█████▍    | 43/80 [00:27<00:22,  1.66it/s]\u001b[A"
     ]
    },
    {
     "name": "stdout",
     "output_type": "stream",
     "text": [
      "Step 43/160: Loss val: 0.17665863037109375\n"
     ]
    },
    {
     "name": "stderr",
     "output_type": "stream",
     "text": [
      "\n",
      "\n",
      "Convert Evaluating:   0%|          | 0/10 [00:00<?, ?it/s]\u001b[A\u001b[A\n",
      "\n",
      "Convert Evaluating:  10%|█         | 1/10 [00:00<00:01,  6.10it/s]\u001b[A\u001b[A\n",
      "\n",
      "Convert Evaluating:  20%|██        | 2/10 [00:00<00:01,  6.16it/s]\u001b[A\u001b[A\n",
      "\n",
      "Convert Evaluating:  30%|███       | 3/10 [00:00<00:01,  6.21it/s]\u001b[A\u001b[A\n",
      "\n",
      "Convert Evaluating:  40%|████      | 4/10 [00:00<00:00,  6.24it/s]\u001b[A\u001b[A\n",
      "\n",
      "Convert Evaluating:  50%|█████     | 5/10 [00:00<00:00,  6.27it/s]\u001b[A\u001b[A\n",
      "\n",
      "Convert Evaluating:  60%|██████    | 6/10 [00:00<00:00,  6.28it/s]\u001b[A\u001b[A\n",
      "\n",
      "Convert Evaluating:  70%|███████   | 7/10 [00:01<00:00,  6.29it/s]\u001b[A\u001b[A\n",
      "\n",
      "Convert Evaluating:  80%|████████  | 8/10 [00:01<00:00,  6.30it/s]\u001b[A\u001b[A\n",
      "\n",
      "Convert Evaluating:  90%|█████████ | 9/10 [00:01<00:00,  6.32it/s]\u001b[A\u001b[A\n",
      "\n",
      "Convert Evaluating: 100%|██████████| 10/10 [00:01<00:00,  6.63it/s]\u001b[A\u001b[A\n",
      "Iteration:  55%|█████▌    | 44/80 [00:29<00:24,  1.48it/s]\u001b[A"
     ]
    },
    {
     "name": "stdout",
     "output_type": "stream",
     "text": [
      "Step 44/160: Objective val: 0.06395570208682978\n",
      "Step 44/160: Loss val: 0.2701328694820404\n"
     ]
    },
    {
     "name": "stderr",
     "output_type": "stream",
     "text": [
      "\n",
      "Iteration:  56%|█████▋    | 45/80 [00:29<00:23,  1.49it/s]\u001b[A"
     ]
    },
    {
     "name": "stdout",
     "output_type": "stream",
     "text": [
      "Step 45/160: Loss val: 0.18909159302711487\n"
     ]
    },
    {
     "name": "stderr",
     "output_type": "stream",
     "text": [
      "\n",
      "Iteration:  57%|█████▊    | 46/80 [00:30<00:22,  1.53it/s]\u001b[A"
     ]
    },
    {
     "name": "stdout",
     "output_type": "stream",
     "text": [
      "Step 46/160: Loss val: 0.13982221484184265\n"
     ]
    },
    {
     "name": "stderr",
     "output_type": "stream",
     "text": [
      "\n",
      "Iteration:  59%|█████▉    | 47/80 [00:30<00:21,  1.54it/s]\u001b[A"
     ]
    },
    {
     "name": "stdout",
     "output_type": "stream",
     "text": [
      "Step 47/160: Loss val: 0.1909562051296234\n"
     ]
    },
    {
     "name": "stderr",
     "output_type": "stream",
     "text": [
      "\n",
      "Iteration:  60%|██████    | 48/80 [00:31<00:20,  1.56it/s]\u001b[A"
     ]
    },
    {
     "name": "stdout",
     "output_type": "stream",
     "text": [
      "Step 48/160: Loss val: 0.3041726052761078\n"
     ]
    },
    {
     "name": "stderr",
     "output_type": "stream",
     "text": [
      "\n",
      "Iteration:  61%|██████▏   | 49/80 [00:31<00:19,  1.57it/s]\u001b[A"
     ]
    },
    {
     "name": "stdout",
     "output_type": "stream",
     "text": [
      "Step 49/160: Loss val: 0.20598891377449036\n"
     ]
    },
    {
     "name": "stderr",
     "output_type": "stream",
     "text": [
      "\n",
      "Iteration:  62%|██████▎   | 50/80 [00:32<00:18,  1.59it/s]\u001b[A"
     ]
    },
    {
     "name": "stdout",
     "output_type": "stream",
     "text": [
      "Step 50/160: Loss val: 0.1842097043991089\n"
     ]
    },
    {
     "name": "stderr",
     "output_type": "stream",
     "text": [
      "\n",
      "Iteration:  64%|██████▍   | 51/80 [00:32<00:18,  1.60it/s]\u001b[A"
     ]
    },
    {
     "name": "stdout",
     "output_type": "stream",
     "text": [
      "Step 51/160: Loss val: 0.172138974070549\n"
     ]
    },
    {
     "name": "stderr",
     "output_type": "stream",
     "text": [
      "\n",
      "Iteration:  65%|██████▌   | 52/80 [00:33<00:17,  1.62it/s]\u001b[A"
     ]
    },
    {
     "name": "stdout",
     "output_type": "stream",
     "text": [
      "Step 52/160: Loss val: 0.31749290227890015\n"
     ]
    },
    {
     "name": "stderr",
     "output_type": "stream",
     "text": [
      "\n",
      "Iteration:  66%|██████▋   | 53/80 [00:33<00:16,  1.63it/s]\u001b[A"
     ]
    },
    {
     "name": "stdout",
     "output_type": "stream",
     "text": [
      "Step 53/160: Loss val: 0.33379197120666504\n"
     ]
    },
    {
     "name": "stderr",
     "output_type": "stream",
     "text": [
      "\n",
      "Iteration:  68%|██████▊   | 54/80 [00:34<00:15,  1.64it/s]\u001b[A"
     ]
    },
    {
     "name": "stdout",
     "output_type": "stream",
     "text": [
      "Step 54/160: Loss val: 0.2360091209411621\n"
     ]
    },
    {
     "name": "stderr",
     "output_type": "stream",
     "text": [
      "\n",
      "\n",
      "Convert Evaluating:   0%|          | 0/10 [00:00<?, ?it/s]\u001b[A\u001b[A\n",
      "\n",
      "Convert Evaluating:  10%|█         | 1/10 [00:00<00:01,  6.15it/s]\u001b[A\u001b[A\n",
      "\n",
      "Convert Evaluating:  20%|██        | 2/10 [00:00<00:01,  6.20it/s]\u001b[A\u001b[A\n",
      "\n",
      "Convert Evaluating:  30%|███       | 3/10 [00:00<00:01,  6.23it/s]\u001b[A\u001b[A\n",
      "\n",
      "Convert Evaluating:  40%|████      | 4/10 [00:00<00:00,  6.26it/s]\u001b[A\u001b[A\n",
      "\n",
      "Convert Evaluating:  50%|█████     | 5/10 [00:00<00:00,  6.28it/s]\u001b[A\u001b[A\n",
      "\n",
      "Convert Evaluating:  60%|██████    | 6/10 [00:00<00:00,  6.29it/s]\u001b[A\u001b[A\n",
      "\n",
      "Convert Evaluating:  70%|███████   | 7/10 [00:01<00:00,  6.29it/s]\u001b[A\u001b[A\n",
      "\n",
      "Convert Evaluating:  80%|████████  | 8/10 [00:01<00:00,  6.30it/s]\u001b[A\u001b[A\n",
      "\n",
      "Convert Evaluating:  90%|█████████ | 9/10 [00:01<00:00,  6.30it/s]\u001b[A\u001b[A\n",
      "\n",
      "Convert Evaluating: 100%|██████████| 10/10 [00:01<00:00,  6.61it/s]\u001b[A\u001b[A\n",
      "Iteration:  69%|██████▉   | 55/80 [00:36<00:17,  1.46it/s]\u001b[A"
     ]
    },
    {
     "name": "stdout",
     "output_type": "stream",
     "text": [
      "Step 55/160: Objective val: 0.05539501274981212\n",
      "Step 55/160: Loss val: 0.14253860712051392\n"
     ]
    },
    {
     "name": "stderr",
     "output_type": "stream",
     "text": [
      "\n",
      "Iteration:  70%|███████   | 56/80 [00:36<00:16,  1.48it/s]\u001b[A"
     ]
    },
    {
     "name": "stdout",
     "output_type": "stream",
     "text": [
      "Step 56/160: Loss val: 0.3370507061481476\n"
     ]
    },
    {
     "name": "stderr",
     "output_type": "stream",
     "text": [
      "\n",
      "Iteration:  71%|███████▏  | 57/80 [00:37<00:15,  1.50it/s]\u001b[A"
     ]
    },
    {
     "name": "stdout",
     "output_type": "stream",
     "text": [
      "Step 57/160: Loss val: 0.16410502791404724\n"
     ]
    },
    {
     "name": "stderr",
     "output_type": "stream",
     "text": [
      "\n",
      "Iteration:  72%|███████▎  | 58/80 [00:37<00:14,  1.52it/s]\u001b[A"
     ]
    },
    {
     "name": "stdout",
     "output_type": "stream",
     "text": [
      "Step 58/160: Loss val: 0.2373208999633789\n"
     ]
    },
    {
     "name": "stderr",
     "output_type": "stream",
     "text": [
      "\n",
      "Iteration:  74%|███████▍  | 59/80 [00:38<00:13,  1.53it/s]\u001b[A"
     ]
    },
    {
     "name": "stdout",
     "output_type": "stream",
     "text": [
      "Step 59/160: Loss val: 0.19969579577445984\n"
     ]
    },
    {
     "name": "stderr",
     "output_type": "stream",
     "text": [
      "\n",
      "Iteration:  75%|███████▌  | 60/80 [00:38<00:12,  1.55it/s]\u001b[A"
     ]
    },
    {
     "name": "stdout",
     "output_type": "stream",
     "text": [
      "Step 60/160: Loss val: 0.1752759963274002\n"
     ]
    },
    {
     "name": "stderr",
     "output_type": "stream",
     "text": [
      "\n",
      "Iteration:  76%|███████▋  | 61/80 [00:39<00:12,  1.56it/s]\u001b[A"
     ]
    },
    {
     "name": "stdout",
     "output_type": "stream",
     "text": [
      "Step 61/160: Loss val: 0.24486985802650452\n"
     ]
    },
    {
     "name": "stderr",
     "output_type": "stream",
     "text": [
      "\n",
      "Iteration:  78%|███████▊  | 62/80 [00:39<00:11,  1.58it/s]\u001b[A"
     ]
    },
    {
     "name": "stdout",
     "output_type": "stream",
     "text": [
      "Step 62/160: Loss val: 0.3249872326850891\n"
     ]
    },
    {
     "name": "stderr",
     "output_type": "stream",
     "text": [
      "\n",
      "Iteration:  79%|███████▉  | 63/80 [00:40<00:10,  1.59it/s]\u001b[A"
     ]
    },
    {
     "name": "stdout",
     "output_type": "stream",
     "text": [
      "Step 63/160: Loss val: 0.21452918648719788\n"
     ]
    },
    {
     "name": "stderr",
     "output_type": "stream",
     "text": [
      "\n",
      "Iteration:  80%|████████  | 64/80 [00:40<00:09,  1.61it/s]\u001b[A"
     ]
    },
    {
     "name": "stdout",
     "output_type": "stream",
     "text": [
      "Step 64/160: Loss val: 0.13212953507900238\n"
     ]
    },
    {
     "name": "stderr",
     "output_type": "stream",
     "text": [
      "\n",
      "Iteration:  81%|████████▏ | 65/80 [00:41<00:09,  1.63it/s]\u001b[A"
     ]
    },
    {
     "name": "stdout",
     "output_type": "stream",
     "text": [
      "Step 65/160: Loss val: 0.29362982511520386\n"
     ]
    },
    {
     "name": "stderr",
     "output_type": "stream",
     "text": [
      "\n",
      "\n",
      "Convert Evaluating:   0%|          | 0/10 [00:00<?, ?it/s]\u001b[A\u001b[A\n",
      "\n",
      "Convert Evaluating:  10%|█         | 1/10 [00:00<00:01,  6.13it/s]\u001b[A\u001b[A\n",
      "\n",
      "Convert Evaluating:  20%|██        | 2/10 [00:00<00:01,  6.18it/s]\u001b[A\u001b[A\n",
      "\n",
      "Convert Evaluating:  30%|███       | 3/10 [00:00<00:01,  6.22it/s]\u001b[A\u001b[A\n",
      "\n",
      "Convert Evaluating:  40%|████      | 4/10 [00:00<00:00,  6.25it/s]\u001b[A\u001b[A\n",
      "\n",
      "Convert Evaluating:  50%|█████     | 5/10 [00:00<00:00,  6.27it/s]\u001b[A\u001b[A\n",
      "\n",
      "Convert Evaluating:  60%|██████    | 6/10 [00:00<00:00,  6.28it/s]\u001b[A\u001b[A\n",
      "\n",
      "Convert Evaluating:  70%|███████   | 7/10 [00:01<00:00,  6.29it/s]\u001b[A\u001b[A\n",
      "\n",
      "Convert Evaluating:  80%|████████  | 8/10 [00:01<00:00,  6.30it/s]\u001b[A\u001b[A\n",
      "\n",
      "Convert Evaluating:  90%|█████████ | 9/10 [00:01<00:00,  6.30it/s]\u001b[A\u001b[A\n",
      "\n",
      "Convert Evaluating: 100%|██████████| 10/10 [00:01<00:00,  6.61it/s]\u001b[A\u001b[A\n",
      "Iteration:  82%|████████▎ | 66/80 [00:43<00:09,  1.45it/s]\u001b[A"
     ]
    },
    {
     "name": "stdout",
     "output_type": "stream",
     "text": [
      "Step 66/160: Objective val: 0.08367679930186127\n",
      "Step 66/160: Loss val: 0.38628944754600525\n"
     ]
    },
    {
     "name": "stderr",
     "output_type": "stream",
     "text": [
      "\n",
      "Iteration:  84%|████████▍ | 67/80 [00:44<00:08,  1.47it/s]\u001b[A"
     ]
    },
    {
     "name": "stdout",
     "output_type": "stream",
     "text": [
      "Step 67/160: Loss val: 0.16135174036026\n"
     ]
    },
    {
     "name": "stderr",
     "output_type": "stream",
     "text": [
      "\n",
      "Iteration:  85%|████████▌ | 68/80 [00:44<00:08,  1.50it/s]\u001b[A"
     ]
    },
    {
     "name": "stdout",
     "output_type": "stream",
     "text": [
      "Step 68/160: Loss val: 0.1878855675458908\n"
     ]
    },
    {
     "name": "stderr",
     "output_type": "stream",
     "text": [
      "\n",
      "Iteration:  86%|████████▋ | 69/80 [00:45<00:07,  1.52it/s]\u001b[A"
     ]
    },
    {
     "name": "stdout",
     "output_type": "stream",
     "text": [
      "Step 69/160: Loss val: 0.19452647864818573\n"
     ]
    },
    {
     "name": "stderr",
     "output_type": "stream",
     "text": [
      "\n",
      "Iteration:  88%|████████▊ | 70/80 [00:45<00:06,  1.53it/s]\u001b[A"
     ]
    },
    {
     "name": "stdout",
     "output_type": "stream",
     "text": [
      "Step 70/160: Loss val: 0.3652445375919342\n"
     ]
    },
    {
     "name": "stderr",
     "output_type": "stream",
     "text": [
      "\n",
      "Iteration:  89%|████████▉ | 71/80 [00:46<00:05,  1.55it/s]\u001b[A"
     ]
    },
    {
     "name": "stdout",
     "output_type": "stream",
     "text": [
      "Step 71/160: Loss val: 0.23320889472961426\n"
     ]
    },
    {
     "name": "stderr",
     "output_type": "stream",
     "text": [
      "\n",
      "Iteration:  90%|█████████ | 72/80 [00:46<00:05,  1.56it/s]\u001b[A"
     ]
    },
    {
     "name": "stdout",
     "output_type": "stream",
     "text": [
      "Step 72/160: Loss val: 0.3687099814414978\n"
     ]
    },
    {
     "name": "stderr",
     "output_type": "stream",
     "text": [
      "\n",
      "Iteration:  91%|█████████▏| 73/80 [00:47<00:04,  1.58it/s]\u001b[A"
     ]
    },
    {
     "name": "stdout",
     "output_type": "stream",
     "text": [
      "Step 73/160: Loss val: 0.1621202975511551\n"
     ]
    },
    {
     "name": "stderr",
     "output_type": "stream",
     "text": [
      "\n",
      "Iteration:  92%|█████████▎| 74/80 [00:47<00:03,  1.59it/s]\u001b[A"
     ]
    },
    {
     "name": "stdout",
     "output_type": "stream",
     "text": [
      "Step 74/160: Loss val: 0.2619205117225647\n"
     ]
    },
    {
     "name": "stderr",
     "output_type": "stream",
     "text": [
      "\n",
      "Iteration:  94%|█████████▍| 75/80 [00:48<00:03,  1.61it/s]\u001b[A"
     ]
    },
    {
     "name": "stdout",
     "output_type": "stream",
     "text": [
      "Step 75/160: Loss val: 0.19887247681617737\n"
     ]
    },
    {
     "name": "stderr",
     "output_type": "stream",
     "text": [
      "\n",
      "Iteration:  95%|█████████▌| 76/80 [00:48<00:02,  1.62it/s]\u001b[A"
     ]
    },
    {
     "name": "stdout",
     "output_type": "stream",
     "text": [
      "Step 76/160: Loss val: 0.1436518132686615\n"
     ]
    },
    {
     "name": "stderr",
     "output_type": "stream",
     "text": [
      "\n",
      "\n",
      "Convert Evaluating:   0%|          | 0/10 [00:00<?, ?it/s]\u001b[A\u001b[A\n",
      "\n",
      "Convert Evaluating:  10%|█         | 1/10 [00:00<00:01,  6.12it/s]\u001b[A\u001b[A\n",
      "\n",
      "Convert Evaluating:  20%|██        | 2/10 [00:00<00:01,  6.18it/s]\u001b[A\u001b[A\n",
      "\n",
      "Convert Evaluating:  30%|███       | 3/10 [00:00<00:01,  6.23it/s]\u001b[A\u001b[A\n",
      "\n",
      "Convert Evaluating:  40%|████      | 4/10 [00:00<00:00,  6.25it/s]\u001b[A\u001b[A\n",
      "\n",
      "Convert Evaluating:  50%|█████     | 5/10 [00:00<00:00,  6.26it/s]\u001b[A\u001b[A\n",
      "\n",
      "Convert Evaluating:  60%|██████    | 6/10 [00:00<00:00,  6.27it/s]\u001b[A\u001b[A\n",
      "\n",
      "Convert Evaluating:  70%|███████   | 7/10 [00:01<00:00,  6.29it/s]\u001b[A\u001b[A\n",
      "\n",
      "Convert Evaluating:  80%|████████  | 8/10 [00:01<00:00,  6.29it/s]\u001b[A\u001b[A\n",
      "\n",
      "Convert Evaluating:  90%|█████████ | 9/10 [00:01<00:00,  6.29it/s]\u001b[A\u001b[A\n",
      "\n",
      "Convert Evaluating: 100%|██████████| 10/10 [00:01<00:00,  6.60it/s]\u001b[A\u001b[A\n",
      "Iteration:  96%|█████████▋| 77/80 [00:50<00:02,  1.45it/s]\u001b[A"
     ]
    },
    {
     "name": "stdout",
     "output_type": "stream",
     "text": [
      "Step 77/160: Objective val: 0.09080633045216893\n",
      "Step 77/160: Loss val: 0.16395916044712067\n"
     ]
    },
    {
     "name": "stderr",
     "output_type": "stream",
     "text": [
      "\n",
      "Iteration:  98%|█████████▊| 78/80 [00:51<00:01,  1.47it/s]\u001b[A"
     ]
    },
    {
     "name": "stdout",
     "output_type": "stream",
     "text": [
      "Step 78/160: Loss val: 0.17425478994846344\n"
     ]
    },
    {
     "name": "stderr",
     "output_type": "stream",
     "text": [
      "\n",
      "Iteration:  99%|█████████▉| 79/80 [00:51<00:00,  1.48it/s]\u001b[A\n",
      "Epoch:  50%|█████     | 1/2 [00:51<00:51, 51.98s/it]4it/s]\u001b[A\n",
      "Iteration:   0%|          | 0/80 [00:00<?, ?it/s]\u001b[A"
     ]
    },
    {
     "name": "stdout",
     "output_type": "stream",
     "text": [
      "Step 79/160: Loss val: 0.049178410321474075\n",
      "Step 80/160: Loss val: 0.22939634323120117\n"
     ]
    },
    {
     "name": "stderr",
     "output_type": "stream",
     "text": [
      "\n",
      "Iteration:   1%|▏         | 1/80 [00:00<00:40,  1.93it/s]\u001b[A"
     ]
    },
    {
     "name": "stdout",
     "output_type": "stream",
     "text": [
      "Step 81/160: Loss val: 0.13669709861278534\n"
     ]
    },
    {
     "name": "stderr",
     "output_type": "stream",
     "text": [
      "\n",
      "Iteration:   2%|▎         | 2/80 [00:01<00:40,  1.93it/s]\u001b[A"
     ]
    },
    {
     "name": "stdout",
     "output_type": "stream",
     "text": [
      "Step 82/160: Loss val: 0.21477270126342773\n"
     ]
    },
    {
     "name": "stderr",
     "output_type": "stream",
     "text": [
      "\n",
      "Iteration:   4%|▍         | 3/80 [00:01<00:39,  1.93it/s]\u001b[A"
     ]
    },
    {
     "name": "stdout",
     "output_type": "stream",
     "text": [
      "Step 83/160: Loss val: 0.18504992127418518\n"
     ]
    },
    {
     "name": "stderr",
     "output_type": "stream",
     "text": [
      "\n",
      "Iteration:   5%|▌         | 4/80 [00:02<00:39,  1.93it/s]\u001b[A"
     ]
    },
    {
     "name": "stdout",
     "output_type": "stream",
     "text": [
      "Step 84/160: Loss val: 0.1576969474554062\n"
     ]
    },
    {
     "name": "stderr",
     "output_type": "stream",
     "text": [
      "\n",
      "Iteration:   6%|▋         | 5/80 [00:02<00:38,  1.93it/s]\u001b[A"
     ]
    },
    {
     "name": "stdout",
     "output_type": "stream",
     "text": [
      "Step 85/160: Loss val: 0.16862604022026062\n"
     ]
    },
    {
     "name": "stderr",
     "output_type": "stream",
     "text": [
      "\n",
      "Iteration:   8%|▊         | 6/80 [00:03<00:38,  1.93it/s]\u001b[A"
     ]
    },
    {
     "name": "stdout",
     "output_type": "stream",
     "text": [
      "Step 86/160: Loss val: 0.21565279364585876\n"
     ]
    },
    {
     "name": "stderr",
     "output_type": "stream",
     "text": [
      "\n",
      "Iteration:   9%|▉         | 7/80 [00:03<00:37,  1.93it/s]\u001b[A"
     ]
    },
    {
     "name": "stdout",
     "output_type": "stream",
     "text": [
      "Step 87/160: Loss val: 0.12824156880378723\n"
     ]
    },
    {
     "name": "stderr",
     "output_type": "stream",
     "text": [
      "\n",
      "Iteration:  10%|█         | 8/80 [00:04<00:37,  1.93it/s]\u001b[A"
     ]
    },
    {
     "name": "stdout",
     "output_type": "stream",
     "text": [
      "Step 88/160: Loss val: 0.09528865665197372\n"
     ]
    },
    {
     "name": "stderr",
     "output_type": "stream",
     "text": [
      "\n",
      "Iteration:  11%|█▏        | 9/80 [00:04<00:36,  1.93it/s]\u001b[A"
     ]
    },
    {
     "name": "stdout",
     "output_type": "stream",
     "text": [
      "Step 89/160: Loss val: 0.04903585463762283\n"
     ]
    },
    {
     "name": "stderr",
     "output_type": "stream",
     "text": [
      "\n",
      "Iteration:  12%|█▎        | 10/80 [00:05<00:36,  1.93it/s]\u001b[A"
     ]
    },
    {
     "name": "stdout",
     "output_type": "stream",
     "text": [
      "Step 90/160: Loss val: 0.0977361723780632\n"
     ]
    },
    {
     "name": "stderr",
     "output_type": "stream",
     "text": [
      "\n",
      "\n",
      "Convert Evaluating:   0%|          | 0/10 [00:00<?, ?it/s]\u001b[A\u001b[A\n",
      "\n",
      "Convert Evaluating:  10%|█         | 1/10 [00:00<00:01,  6.14it/s]\u001b[A\u001b[A\n",
      "\n",
      "Convert Evaluating:  20%|██        | 2/10 [00:00<00:01,  6.19it/s]\u001b[A\u001b[A\n",
      "\n",
      "Convert Evaluating:  30%|███       | 3/10 [00:00<00:01,  6.22it/s]\u001b[A\u001b[A\n",
      "\n",
      "Convert Evaluating:  40%|████      | 4/10 [00:00<00:00,  6.24it/s]\u001b[A\u001b[A\n",
      "\n",
      "Convert Evaluating:  50%|█████     | 5/10 [00:00<00:00,  6.27it/s]\u001b[A\u001b[A\n",
      "\n",
      "Convert Evaluating:  60%|██████    | 6/10 [00:00<00:00,  6.28it/s]\u001b[A\u001b[A\n",
      "\n",
      "Convert Evaluating:  70%|███████   | 7/10 [00:01<00:00,  6.29it/s]\u001b[A\u001b[A\n",
      "\n",
      "Convert Evaluating:  80%|████████  | 8/10 [00:01<00:00,  6.30it/s]\u001b[A\u001b[A\n",
      "\n",
      "Convert Evaluating:  90%|█████████ | 9/10 [00:01<00:00,  6.29it/s]\u001b[A\u001b[A\n",
      "\n",
      "Convert Evaluating: 100%|██████████| 10/10 [00:01<00:00,  6.59it/s]\u001b[A\u001b[A\n",
      "Iteration:  14%|█▍        | 11/80 [00:07<00:43,  1.60it/s]\u001b[A"
     ]
    },
    {
     "name": "stdout",
     "output_type": "stream",
     "text": [
      "Step 91/160: Objective val: 0.24443919231174505\n",
      "Step 91/160: Loss val: 0.18498873710632324\n"
     ]
    },
    {
     "name": "stderr",
     "output_type": "stream",
     "text": [
      "\n",
      "Iteration:  15%|█▌        | 12/80 [00:08<00:42,  1.61it/s]\u001b[A"
     ]
    },
    {
     "name": "stdout",
     "output_type": "stream",
     "text": [
      "Step 92/160: Loss val: 0.2666327953338623\n"
     ]
    },
    {
     "name": "stderr",
     "output_type": "stream",
     "text": [
      "\n",
      "Iteration:  16%|█▋        | 13/80 [00:08<00:41,  1.63it/s]\u001b[A"
     ]
    },
    {
     "name": "stdout",
     "output_type": "stream",
     "text": [
      "Step 93/160: Loss val: 0.12779459357261658\n"
     ]
    },
    {
     "name": "stderr",
     "output_type": "stream",
     "text": [
      "\n",
      "Iteration:  18%|█▊        | 14/80 [00:09<00:39,  1.65it/s]\u001b[A"
     ]
    },
    {
     "name": "stdout",
     "output_type": "stream",
     "text": [
      "Step 94/160: Loss val: 0.1860116720199585\n"
     ]
    },
    {
     "name": "stderr",
     "output_type": "stream",
     "text": [
      "\n",
      "Iteration:  19%|█▉        | 15/80 [00:09<00:39,  1.66it/s]\u001b[A"
     ]
    },
    {
     "name": "stdout",
     "output_type": "stream",
     "text": [
      "Step 95/160: Loss val: 0.10623376071453094\n"
     ]
    },
    {
     "name": "stderr",
     "output_type": "stream",
     "text": [
      "\n",
      "Iteration:  20%|██        | 16/80 [00:10<00:38,  1.67it/s]\u001b[A"
     ]
    },
    {
     "name": "stdout",
     "output_type": "stream",
     "text": [
      "Step 96/160: Loss val: 0.1637430191040039\n"
     ]
    },
    {
     "name": "stderr",
     "output_type": "stream",
     "text": [
      "\n",
      "Iteration:  21%|██▏       | 17/80 [00:10<00:37,  1.69it/s]\u001b[A"
     ]
    },
    {
     "name": "stdout",
     "output_type": "stream",
     "text": [
      "Step 97/160: Loss val: 0.14934930205345154\n"
     ]
    },
    {
     "name": "stderr",
     "output_type": "stream",
     "text": [
      "\n",
      "Iteration:  22%|██▎       | 18/80 [00:11<00:36,  1.70it/s]\u001b[A"
     ]
    },
    {
     "name": "stdout",
     "output_type": "stream",
     "text": [
      "Step 98/160: Loss val: 0.20141875743865967\n"
     ]
    },
    {
     "name": "stderr",
     "output_type": "stream",
     "text": [
      "\n",
      "Iteration:  24%|██▍       | 19/80 [00:11<00:35,  1.71it/s]\u001b[A"
     ]
    },
    {
     "name": "stdout",
     "output_type": "stream",
     "text": [
      "Step 99/160: Loss val: 0.10400369018316269\n"
     ]
    },
    {
     "name": "stderr",
     "output_type": "stream",
     "text": [
      "\n",
      "Iteration:  25%|██▌       | 20/80 [00:12<00:34,  1.72it/s]\u001b[A"
     ]
    },
    {
     "name": "stdout",
     "output_type": "stream",
     "text": [
      "Step 100/160: Loss val: 0.08235190808773041\n"
     ]
    },
    {
     "name": "stderr",
     "output_type": "stream",
     "text": [
      "\n",
      "Iteration:  26%|██▋       | 21/80 [00:12<00:34,  1.73it/s]\u001b[A"
     ]
    },
    {
     "name": "stdout",
     "output_type": "stream",
     "text": [
      "Step 101/160: Loss val: 0.14122875034809113\n"
     ]
    },
    {
     "name": "stderr",
     "output_type": "stream",
     "text": [
      "\n",
      "\n",
      "Convert Evaluating:   0%|          | 0/10 [00:00<?, ?it/s]\u001b[A\u001b[A\n",
      "\n",
      "Convert Evaluating:  10%|█         | 1/10 [00:00<00:01,  6.11it/s]\u001b[A\u001b[A\n",
      "\n",
      "Convert Evaluating:  20%|██        | 2/10 [00:00<00:01,  6.16it/s]\u001b[A\u001b[A\n",
      "\n",
      "Convert Evaluating:  30%|███       | 3/10 [00:00<00:01,  6.20it/s]\u001b[A\u001b[A\n",
      "\n",
      "Convert Evaluating:  40%|████      | 4/10 [00:00<00:00,  6.23it/s]\u001b[A\u001b[A\n",
      "\n",
      "Convert Evaluating:  50%|█████     | 5/10 [00:00<00:00,  6.25it/s]\u001b[A\u001b[A\n",
      "\n",
      "Convert Evaluating:  60%|██████    | 6/10 [00:00<00:00,  6.26it/s]\u001b[A\u001b[A\n",
      "\n",
      "Convert Evaluating:  70%|███████   | 7/10 [00:01<00:00,  6.26it/s]\u001b[A\u001b[A\n",
      "\n",
      "Convert Evaluating:  80%|████████  | 8/10 [00:01<00:00,  6.26it/s]\u001b[A\u001b[A\n",
      "\n",
      "Convert Evaluating:  90%|█████████ | 9/10 [00:01<00:00,  6.27it/s]\u001b[A\u001b[A\n",
      "\n",
      "Convert Evaluating: 100%|██████████| 10/10 [00:01<00:00,  6.57it/s]\u001b[A\u001b[A\n",
      "Iteration:  28%|██▊       | 22/80 [00:15<00:38,  1.53it/s]\u001b[A"
     ]
    },
    {
     "name": "stdout",
     "output_type": "stream",
     "text": [
      "Step 102/160: Objective val: 0.23005539604072842\n",
      "Step 102/160: Loss val: 0.0916743129491806\n"
     ]
    },
    {
     "name": "stderr",
     "output_type": "stream",
     "text": [
      "\n",
      "Iteration:  29%|██▉       | 23/80 [00:15<00:36,  1.54it/s]\u001b[A"
     ]
    },
    {
     "name": "stdout",
     "output_type": "stream",
     "text": [
      "Step 103/160: Loss val: 0.023720985278487206\n"
     ]
    },
    {
     "name": "stderr",
     "output_type": "stream",
     "text": [
      "\n",
      "Iteration:  30%|███       | 24/80 [00:16<00:35,  1.56it/s]\u001b[A"
     ]
    },
    {
     "name": "stdout",
     "output_type": "stream",
     "text": [
      "Step 104/160: Loss val: 0.1764855533838272\n"
     ]
    },
    {
     "name": "stderr",
     "output_type": "stream",
     "text": [
      "\n",
      "Iteration:  31%|███▏      | 25/80 [00:16<00:34,  1.57it/s]\u001b[A"
     ]
    },
    {
     "name": "stdout",
     "output_type": "stream",
     "text": [
      "Step 105/160: Loss val: 0.0909716859459877\n"
     ]
    },
    {
     "name": "stderr",
     "output_type": "stream",
     "text": [
      "\n",
      "Iteration:  32%|███▎      | 26/80 [00:17<00:34,  1.59it/s]\u001b[A"
     ]
    },
    {
     "name": "stdout",
     "output_type": "stream",
     "text": [
      "Step 106/160: Loss val: 0.16730257868766785\n"
     ]
    },
    {
     "name": "stderr",
     "output_type": "stream",
     "text": [
      "\n",
      "Iteration:  34%|███▍      | 27/80 [00:17<00:33,  1.60it/s]\u001b[A"
     ]
    },
    {
     "name": "stdout",
     "output_type": "stream",
     "text": [
      "Step 107/160: Loss val: 0.27433639764785767\n"
     ]
    },
    {
     "name": "stderr",
     "output_type": "stream",
     "text": [
      "\n",
      "Iteration:  35%|███▌      | 28/80 [00:18<00:32,  1.61it/s]\u001b[A"
     ]
    },
    {
     "name": "stdout",
     "output_type": "stream",
     "text": [
      "Step 108/160: Loss val: 0.1383516937494278\n"
     ]
    },
    {
     "name": "stderr",
     "output_type": "stream",
     "text": [
      "\n",
      "Iteration:  36%|███▋      | 29/80 [00:18<00:31,  1.63it/s]\u001b[A"
     ]
    },
    {
     "name": "stdout",
     "output_type": "stream",
     "text": [
      "Step 109/160: Loss val: 0.09745977818965912\n"
     ]
    },
    {
     "name": "stderr",
     "output_type": "stream",
     "text": [
      "\n",
      "Iteration:  38%|███▊      | 30/80 [00:19<00:30,  1.65it/s]\u001b[A"
     ]
    },
    {
     "name": "stdout",
     "output_type": "stream",
     "text": [
      "Step 110/160: Loss val: 0.18973053991794586\n"
     ]
    },
    {
     "name": "stderr",
     "output_type": "stream",
     "text": [
      "\n",
      "Iteration:  39%|███▉      | 31/80 [00:19<00:29,  1.66it/s]\u001b[A"
     ]
    },
    {
     "name": "stdout",
     "output_type": "stream",
     "text": [
      "Step 111/160: Loss val: 0.19376695156097412\n"
     ]
    },
    {
     "name": "stderr",
     "output_type": "stream",
     "text": [
      "\n",
      "Iteration:  40%|████      | 32/80 [00:20<00:28,  1.67it/s]\u001b[A"
     ]
    },
    {
     "name": "stdout",
     "output_type": "stream",
     "text": [
      "Step 112/160: Loss val: 0.08831610530614853\n"
     ]
    },
    {
     "name": "stderr",
     "output_type": "stream",
     "text": [
      "\n",
      "\n",
      "Convert Evaluating:   0%|          | 0/10 [00:00<?, ?it/s]\u001b[A\u001b[A\n",
      "\n",
      "Convert Evaluating:  10%|█         | 1/10 [00:00<00:01,  6.10it/s]\u001b[A\u001b[A\n",
      "\n",
      "Convert Evaluating:  20%|██        | 2/10 [00:00<00:01,  6.15it/s]\u001b[A\u001b[A\n",
      "\n",
      "Convert Evaluating:  30%|███       | 3/10 [00:00<00:01,  6.19it/s]\u001b[A\u001b[A\n",
      "\n",
      "Convert Evaluating:  40%|████      | 4/10 [00:00<00:00,  6.21it/s]\u001b[A\u001b[A\n",
      "\n",
      "Convert Evaluating:  50%|█████     | 5/10 [00:00<00:00,  6.23it/s]\u001b[A\u001b[A\n",
      "\n",
      "Convert Evaluating:  60%|██████    | 6/10 [00:00<00:00,  6.25it/s]\u001b[A\u001b[A\n",
      "\n",
      "Convert Evaluating:  70%|███████   | 7/10 [00:01<00:00,  6.25it/s]\u001b[A\u001b[A\n",
      "\n",
      "Convert Evaluating:  80%|████████  | 8/10 [00:01<00:00,  6.26it/s]\u001b[A\u001b[A\n",
      "\n",
      "Convert Evaluating:  90%|█████████ | 9/10 [00:01<00:00,  6.26it/s]\u001b[A\u001b[A\n",
      "\n",
      "Convert Evaluating: 100%|██████████| 10/10 [00:01<00:00,  6.57it/s]\u001b[A\u001b[A\n",
      "Iteration:  41%|████▏     | 33/80 [00:22<00:31,  1.50it/s]\u001b[A"
     ]
    },
    {
     "name": "stdout",
     "output_type": "stream",
     "text": [
      "Step 113/160: Objective val: 0.24347414527758737\n",
      "Step 113/160: Loss val: 0.06596396118402481\n"
     ]
    },
    {
     "name": "stderr",
     "output_type": "stream",
     "text": [
      "\n",
      "Iteration:  42%|████▎     | 34/80 [00:22<00:30,  1.52it/s]\u001b[A"
     ]
    },
    {
     "name": "stdout",
     "output_type": "stream",
     "text": [
      "Step 114/160: Loss val: 0.19617772102355957\n"
     ]
    },
    {
     "name": "stderr",
     "output_type": "stream",
     "text": [
      "\n",
      "Iteration:  44%|████▍     | 35/80 [00:23<00:29,  1.54it/s]\u001b[A"
     ]
    },
    {
     "name": "stdout",
     "output_type": "stream",
     "text": [
      "Step 115/160: Loss val: 0.12553131580352783\n"
     ]
    },
    {
     "name": "stderr",
     "output_type": "stream",
     "text": [
      "\n",
      "Iteration:  45%|████▌     | 36/80 [00:23<00:28,  1.55it/s]\u001b[A"
     ]
    },
    {
     "name": "stdout",
     "output_type": "stream",
     "text": [
      "Step 116/160: Loss val: 0.07536766678094864\n"
     ]
    },
    {
     "name": "stderr",
     "output_type": "stream",
     "text": [
      "\n",
      "Iteration:  46%|████▋     | 37/80 [00:24<00:27,  1.57it/s]\u001b[A"
     ]
    },
    {
     "name": "stdout",
     "output_type": "stream",
     "text": [
      "Step 117/160: Loss val: 0.16411440074443817\n"
     ]
    },
    {
     "name": "stderr",
     "output_type": "stream",
     "text": [
      "\n",
      "Iteration:  48%|████▊     | 38/80 [00:24<00:26,  1.58it/s]\u001b[A"
     ]
    },
    {
     "name": "stdout",
     "output_type": "stream",
     "text": [
      "Step 118/160: Loss val: 0.22706857323646545\n"
     ]
    },
    {
     "name": "stderr",
     "output_type": "stream",
     "text": [
      "\n",
      "Iteration:  49%|████▉     | 39/80 [00:25<00:25,  1.60it/s]\u001b[A"
     ]
    },
    {
     "name": "stdout",
     "output_type": "stream",
     "text": [
      "Step 119/160: Loss val: 0.15890416502952576\n"
     ]
    },
    {
     "name": "stderr",
     "output_type": "stream",
     "text": [
      "\n",
      "Iteration:  50%|█████     | 40/80 [00:25<00:24,  1.61it/s]\u001b[A"
     ]
    },
    {
     "name": "stdout",
     "output_type": "stream",
     "text": [
      "Step 120/160: Loss val: 0.19837519526481628\n"
     ]
    },
    {
     "name": "stderr",
     "output_type": "stream",
     "text": [
      "\n",
      "Iteration:  51%|█████▏    | 41/80 [00:26<00:24,  1.62it/s]\u001b[A"
     ]
    },
    {
     "name": "stdout",
     "output_type": "stream",
     "text": [
      "Step 121/160: Loss val: 0.2194838523864746\n"
     ]
    },
    {
     "name": "stderr",
     "output_type": "stream",
     "text": [
      "\n",
      "Iteration:  52%|█████▎    | 42/80 [00:26<00:23,  1.64it/s]\u001b[A"
     ]
    },
    {
     "name": "stdout",
     "output_type": "stream",
     "text": [
      "Step 122/160: Loss val: 0.12106845527887344\n"
     ]
    },
    {
     "name": "stderr",
     "output_type": "stream",
     "text": [
      "\n",
      "Iteration:  54%|█████▍    | 43/80 [00:27<00:22,  1.65it/s]\u001b[A"
     ]
    },
    {
     "name": "stdout",
     "output_type": "stream",
     "text": [
      "Step 123/160: Loss val: 0.23001864552497864\n"
     ]
    },
    {
     "name": "stderr",
     "output_type": "stream",
     "text": [
      "\n",
      "\n",
      "Convert Evaluating:   0%|          | 0/10 [00:00<?, ?it/s]\u001b[A\u001b[A\n",
      "\n",
      "Convert Evaluating:  10%|█         | 1/10 [00:00<00:01,  6.09it/s]\u001b[A\u001b[A\n",
      "\n",
      "Convert Evaluating:  20%|██        | 2/10 [00:00<00:01,  6.15it/s]\u001b[A\u001b[A\n",
      "\n",
      "Convert Evaluating:  30%|███       | 3/10 [00:00<00:01,  6.18it/s]\u001b[A\u001b[A\n",
      "\n",
      "Convert Evaluating:  40%|████      | 4/10 [00:00<00:00,  6.21it/s]\u001b[A\u001b[A\n",
      "\n",
      "Convert Evaluating:  50%|█████     | 5/10 [00:00<00:00,  6.23it/s]\u001b[A\u001b[A\n",
      "\n",
      "Convert Evaluating:  60%|██████    | 6/10 [00:00<00:00,  6.25it/s]\u001b[A\u001b[A\n",
      "\n",
      "Convert Evaluating:  70%|███████   | 7/10 [00:01<00:00,  6.25it/s]\u001b[A\u001b[A\n",
      "\n",
      "Convert Evaluating:  80%|████████  | 8/10 [00:01<00:00,  6.26it/s]\u001b[A\u001b[A\n",
      "\n",
      "Convert Evaluating:  90%|█████████ | 9/10 [00:01<00:00,  6.26it/s]\u001b[A\u001b[A\n",
      "\n",
      "Convert Evaluating: 100%|██████████| 10/10 [00:01<00:00,  6.57it/s]\u001b[A\u001b[A\n",
      "Iteration:  55%|█████▌    | 44/80 [00:29<00:24,  1.47it/s]\u001b[A"
     ]
    },
    {
     "name": "stdout",
     "output_type": "stream",
     "text": [
      "Step 124/160: Objective val: 0.24071030309132632\n",
      "Step 124/160: Loss val: 0.24200765788555145\n"
     ]
    },
    {
     "name": "stderr",
     "output_type": "stream",
     "text": [
      "\n",
      "Iteration:  56%|█████▋    | 45/80 [00:29<00:23,  1.49it/s]\u001b[A"
     ]
    },
    {
     "name": "stdout",
     "output_type": "stream",
     "text": [
      "Step 125/160: Loss val: 0.22486385703086853\n"
     ]
    },
    {
     "name": "stderr",
     "output_type": "stream",
     "text": [
      "\n",
      "Iteration:  57%|█████▊    | 46/80 [00:30<00:22,  1.52it/s]\u001b[A"
     ]
    },
    {
     "name": "stdout",
     "output_type": "stream",
     "text": [
      "Step 126/160: Loss val: 0.12404944747686386\n"
     ]
    },
    {
     "name": "stderr",
     "output_type": "stream",
     "text": [
      "\n",
      "Iteration:  59%|█████▉    | 47/80 [00:30<00:21,  1.53it/s]\u001b[A"
     ]
    },
    {
     "name": "stdout",
     "output_type": "stream",
     "text": [
      "Step 127/160: Loss val: 0.21080780029296875\n"
     ]
    },
    {
     "name": "stderr",
     "output_type": "stream",
     "text": [
      "\n",
      "Iteration:  60%|██████    | 48/80 [00:31<00:20,  1.55it/s]\u001b[A"
     ]
    },
    {
     "name": "stdout",
     "output_type": "stream",
     "text": [
      "Step 128/160: Loss val: 0.22208838164806366\n"
     ]
    },
    {
     "name": "stderr",
     "output_type": "stream",
     "text": [
      "\n",
      "Iteration:  61%|██████▏   | 49/80 [00:31<00:19,  1.57it/s]\u001b[A"
     ]
    },
    {
     "name": "stdout",
     "output_type": "stream",
     "text": [
      "Step 129/160: Loss val: 0.15624144673347473\n"
     ]
    },
    {
     "name": "stderr",
     "output_type": "stream",
     "text": [
      "\n",
      "Iteration:  62%|██████▎   | 50/80 [00:32<00:18,  1.58it/s]\u001b[A"
     ]
    },
    {
     "name": "stdout",
     "output_type": "stream",
     "text": [
      "Step 130/160: Loss val: 0.18198658525943756\n"
     ]
    },
    {
     "name": "stderr",
     "output_type": "stream",
     "text": [
      "\n",
      "Iteration:  64%|██████▍   | 51/80 [00:32<00:18,  1.59it/s]\u001b[A"
     ]
    },
    {
     "name": "stdout",
     "output_type": "stream",
     "text": [
      "Step 131/160: Loss val: 0.19367069005966187\n"
     ]
    },
    {
     "name": "stderr",
     "output_type": "stream",
     "text": [
      "\n",
      "Iteration:  65%|██████▌   | 52/80 [00:33<00:17,  1.61it/s]\u001b[A"
     ]
    },
    {
     "name": "stdout",
     "output_type": "stream",
     "text": [
      "Step 132/160: Loss val: 0.20782795548439026\n"
     ]
    },
    {
     "name": "stderr",
     "output_type": "stream",
     "text": [
      "\n",
      "Iteration:  66%|██████▋   | 53/80 [00:33<00:16,  1.62it/s]\u001b[A"
     ]
    },
    {
     "name": "stdout",
     "output_type": "stream",
     "text": [
      "Step 133/160: Loss val: 0.2315431535243988\n"
     ]
    },
    {
     "name": "stderr",
     "output_type": "stream",
     "text": [
      "\n",
      "Iteration:  68%|██████▊   | 54/80 [00:34<00:15,  1.63it/s]\u001b[A"
     ]
    },
    {
     "name": "stdout",
     "output_type": "stream",
     "text": [
      "Step 134/160: Loss val: 0.22395770251750946\n"
     ]
    },
    {
     "name": "stderr",
     "output_type": "stream",
     "text": [
      "\n",
      "\n",
      "Convert Evaluating:   0%|          | 0/10 [00:00<?, ?it/s]\u001b[A\u001b[A\n",
      "\n",
      "Convert Evaluating:  10%|█         | 1/10 [00:00<00:01,  6.10it/s]\u001b[A\u001b[A\n",
      "\n",
      "Convert Evaluating:  20%|██        | 2/10 [00:00<00:01,  6.15it/s]\u001b[A\u001b[A\n",
      "\n",
      "Convert Evaluating:  30%|███       | 3/10 [00:00<00:01,  6.19it/s]\u001b[A\u001b[A\n",
      "\n",
      "Convert Evaluating:  40%|████      | 4/10 [00:00<00:00,  6.21it/s]\u001b[A\u001b[A\n",
      "\n",
      "Convert Evaluating:  50%|█████     | 5/10 [00:00<00:00,  6.23it/s]\u001b[A\u001b[A\n",
      "\n",
      "Convert Evaluating:  60%|██████    | 6/10 [00:00<00:00,  6.24it/s]\u001b[A\u001b[A\n",
      "\n",
      "Convert Evaluating:  70%|███████   | 7/10 [00:01<00:00,  6.25it/s]\u001b[A\u001b[A\n",
      "\n",
      "Convert Evaluating:  80%|████████  | 8/10 [00:01<00:00,  6.26it/s]\u001b[A\u001b[A\n",
      "\n",
      "Convert Evaluating:  90%|█████████ | 9/10 [00:01<00:00,  6.26it/s]\u001b[A\u001b[A\n",
      "\n",
      "Convert Evaluating: 100%|██████████| 10/10 [00:01<00:00,  6.56it/s]\u001b[A\u001b[A\n",
      "Iteration:  69%|██████▉   | 55/80 [00:36<00:17,  1.46it/s]\u001b[A"
     ]
    },
    {
     "name": "stdout",
     "output_type": "stream",
     "text": [
      "Step 135/160: Objective val: 0.17489672134009776\n",
      "Step 135/160: Loss val: 0.23057670891284943\n"
     ]
    },
    {
     "name": "stderr",
     "output_type": "stream",
     "text": [
      "\n",
      "Iteration:  70%|███████   | 56/80 [00:37<00:16,  1.47it/s]\u001b[A"
     ]
    },
    {
     "name": "stdout",
     "output_type": "stream",
     "text": [
      "Step 136/160: Loss val: 0.26241105794906616\n"
     ]
    },
    {
     "name": "stderr",
     "output_type": "stream",
     "text": [
      "\n",
      "Iteration:  71%|███████▏  | 57/80 [00:37<00:15,  1.49it/s]\u001b[A"
     ]
    },
    {
     "name": "stdout",
     "output_type": "stream",
     "text": [
      "Step 137/160: Loss val: 0.10557384788990021\n"
     ]
    },
    {
     "name": "stderr",
     "output_type": "stream",
     "text": [
      "\n",
      "Iteration:  72%|███████▎  | 58/80 [00:38<00:14,  1.51it/s]\u001b[A"
     ]
    },
    {
     "name": "stdout",
     "output_type": "stream",
     "text": [
      "Step 138/160: Loss val: 0.11583088338375092\n"
     ]
    },
    {
     "name": "stderr",
     "output_type": "stream",
     "text": [
      "\n",
      "Iteration:  74%|███████▍  | 59/80 [00:38<00:13,  1.53it/s]\u001b[A"
     ]
    },
    {
     "name": "stdout",
     "output_type": "stream",
     "text": [
      "Step 139/160: Loss val: 0.19296404719352722\n"
     ]
    },
    {
     "name": "stderr",
     "output_type": "stream",
     "text": [
      "\n",
      "Iteration:  75%|███████▌  | 60/80 [00:39<00:12,  1.54it/s]\u001b[A"
     ]
    },
    {
     "name": "stdout",
     "output_type": "stream",
     "text": [
      "Step 140/160: Loss val: 0.14065761864185333\n"
     ]
    },
    {
     "name": "stderr",
     "output_type": "stream",
     "text": [
      "\n",
      "Iteration:  76%|███████▋  | 61/80 [00:39<00:12,  1.56it/s]\u001b[A"
     ]
    },
    {
     "name": "stdout",
     "output_type": "stream",
     "text": [
      "Step 141/160: Loss val: 0.25340741872787476\n"
     ]
    },
    {
     "name": "stderr",
     "output_type": "stream",
     "text": [
      "\n",
      "Iteration:  78%|███████▊  | 62/80 [00:40<00:11,  1.57it/s]\u001b[A"
     ]
    },
    {
     "name": "stdout",
     "output_type": "stream",
     "text": [
      "Step 142/160: Loss val: 0.2137867659330368\n"
     ]
    },
    {
     "name": "stderr",
     "output_type": "stream",
     "text": [
      "\n",
      "Iteration:  79%|███████▉  | 63/80 [00:40<00:10,  1.59it/s]\u001b[A"
     ]
    },
    {
     "name": "stdout",
     "output_type": "stream",
     "text": [
      "Step 143/160: Loss val: 0.19227612018585205\n"
     ]
    },
    {
     "name": "stderr",
     "output_type": "stream",
     "text": [
      "\n",
      "Iteration:  80%|████████  | 64/80 [00:41<00:09,  1.61it/s]\u001b[A"
     ]
    },
    {
     "name": "stdout",
     "output_type": "stream",
     "text": [
      "Step 144/160: Loss val: 0.16340406239032745\n"
     ]
    },
    {
     "name": "stderr",
     "output_type": "stream",
     "text": [
      "\n",
      "Iteration:  81%|████████▏ | 65/80 [00:41<00:09,  1.62it/s]\u001b[A"
     ]
    },
    {
     "name": "stdout",
     "output_type": "stream",
     "text": [
      "Step 145/160: Loss val: 0.18134334683418274\n"
     ]
    },
    {
     "name": "stderr",
     "output_type": "stream",
     "text": [
      "\n",
      "\n",
      "Convert Evaluating:   0%|          | 0/10 [00:00<?, ?it/s]\u001b[A\u001b[A\n",
      "\n",
      "Convert Evaluating:  10%|█         | 1/10 [00:00<00:01,  6.08it/s]\u001b[A\u001b[A\n",
      "\n",
      "Convert Evaluating:  20%|██        | 2/10 [00:00<00:01,  6.13it/s]\u001b[A\u001b[A\n",
      "\n",
      "Convert Evaluating:  30%|███       | 3/10 [00:00<00:01,  6.18it/s]\u001b[A\u001b[A\n",
      "\n",
      "Convert Evaluating:  40%|████      | 4/10 [00:00<00:00,  6.21it/s]\u001b[A\u001b[A\n",
      "\n",
      "Convert Evaluating:  50%|█████     | 5/10 [00:00<00:00,  6.23it/s]\u001b[A\u001b[A\n",
      "\n",
      "Convert Evaluating:  60%|██████    | 6/10 [00:00<00:00,  6.24it/s]\u001b[A\u001b[A\n",
      "\n",
      "Convert Evaluating:  70%|███████   | 7/10 [00:01<00:00,  6.25it/s]\u001b[A\u001b[A\n",
      "\n",
      "Convert Evaluating:  80%|████████  | 8/10 [00:01<00:00,  6.26it/s]\u001b[A\u001b[A\n",
      "\n",
      "Convert Evaluating:  90%|█████████ | 9/10 [00:01<00:00,  6.26it/s]\u001b[A\u001b[A\n",
      "\n",
      "Convert Evaluating: 100%|██████████| 10/10 [00:01<00:00,  6.57it/s]\u001b[A\u001b[A\n",
      "Iteration:  82%|████████▎ | 66/80 [00:43<00:09,  1.45it/s]\u001b[A"
     ]
    },
    {
     "name": "stdout",
     "output_type": "stream",
     "text": [
      "Step 146/160: Objective val: 0.12542328971144356\n",
      "Step 146/160: Loss val: 0.19968561828136444\n"
     ]
    },
    {
     "name": "stderr",
     "output_type": "stream",
     "text": [
      "\n",
      "Iteration:  84%|████████▍ | 67/80 [00:44<00:08,  1.46it/s]\u001b[A"
     ]
    },
    {
     "name": "stdout",
     "output_type": "stream",
     "text": [
      "Step 147/160: Loss val: 0.12476998567581177\n"
     ]
    },
    {
     "name": "stderr",
     "output_type": "stream",
     "text": [
      "\n",
      "Iteration:  85%|████████▌ | 68/80 [00:44<00:08,  1.49it/s]\u001b[A"
     ]
    },
    {
     "name": "stdout",
     "output_type": "stream",
     "text": [
      "Step 148/160: Loss val: 0.198734313249588\n"
     ]
    },
    {
     "name": "stderr",
     "output_type": "stream",
     "text": [
      "\n",
      "Iteration:  86%|████████▋ | 69/80 [00:45<00:07,  1.51it/s]\u001b[A"
     ]
    },
    {
     "name": "stdout",
     "output_type": "stream",
     "text": [
      "Step 149/160: Loss val: 0.11937329918146133\n"
     ]
    },
    {
     "name": "stderr",
     "output_type": "stream",
     "text": [
      "\n",
      "Iteration:  88%|████████▊ | 70/80 [00:45<00:06,  1.52it/s]\u001b[A"
     ]
    },
    {
     "name": "stdout",
     "output_type": "stream",
     "text": [
      "Step 150/160: Loss val: 0.2534253001213074\n"
     ]
    },
    {
     "name": "stderr",
     "output_type": "stream",
     "text": [
      "\n",
      "Iteration:  89%|████████▉ | 71/80 [00:46<00:05,  1.54it/s]\u001b[A"
     ]
    },
    {
     "name": "stdout",
     "output_type": "stream",
     "text": [
      "Step 151/160: Loss val: 0.23221638798713684\n"
     ]
    },
    {
     "name": "stderr",
     "output_type": "stream",
     "text": [
      "\n",
      "Iteration:  90%|█████████ | 72/80 [00:46<00:05,  1.55it/s]\u001b[A"
     ]
    },
    {
     "name": "stdout",
     "output_type": "stream",
     "text": [
      "Step 152/160: Loss val: 0.2195499837398529\n"
     ]
    },
    {
     "name": "stderr",
     "output_type": "stream",
     "text": [
      "\n",
      "Iteration:  91%|█████████▏| 73/80 [00:47<00:04,  1.57it/s]\u001b[A"
     ]
    },
    {
     "name": "stdout",
     "output_type": "stream",
     "text": [
      "Step 153/160: Loss val: 0.07126760482788086\n"
     ]
    },
    {
     "name": "stderr",
     "output_type": "stream",
     "text": [
      "\n",
      "Iteration:  92%|█████████▎| 74/80 [00:47<00:03,  1.58it/s]\u001b[A"
     ]
    },
    {
     "name": "stdout",
     "output_type": "stream",
     "text": [
      "Step 154/160: Loss val: 0.11535940319299698\n"
     ]
    },
    {
     "name": "stderr",
     "output_type": "stream",
     "text": [
      "\n",
      "Iteration:  94%|█████████▍| 75/80 [00:48<00:03,  1.60it/s]\u001b[A"
     ]
    },
    {
     "name": "stdout",
     "output_type": "stream",
     "text": [
      "Step 155/160: Loss val: 0.08461938053369522\n"
     ]
    },
    {
     "name": "stderr",
     "output_type": "stream",
     "text": [
      "\n",
      "Iteration:  95%|█████████▌| 76/80 [00:48<00:02,  1.61it/s]\u001b[A"
     ]
    },
    {
     "name": "stdout",
     "output_type": "stream",
     "text": [
      "Step 156/160: Loss val: 0.0896608829498291\n"
     ]
    },
    {
     "name": "stderr",
     "output_type": "stream",
     "text": [
      "\n",
      "\n",
      "Convert Evaluating:   0%|          | 0/10 [00:00<?, ?it/s]\u001b[A\u001b[A\n",
      "\n",
      "Convert Evaluating:  10%|█         | 1/10 [00:00<00:01,  6.09it/s]\u001b[A\u001b[A\n",
      "\n",
      "Convert Evaluating:  20%|██        | 2/10 [00:00<00:01,  6.15it/s]\u001b[A\u001b[A\n",
      "\n",
      "Convert Evaluating:  30%|███       | 3/10 [00:00<00:01,  6.19it/s]\u001b[A\u001b[A\n",
      "\n",
      "Convert Evaluating:  40%|████      | 4/10 [00:00<00:00,  6.21it/s]\u001b[A\u001b[A\n",
      "\n",
      "Convert Evaluating:  50%|█████     | 5/10 [00:00<00:00,  6.23it/s]\u001b[A\u001b[A\n",
      "\n",
      "Convert Evaluating:  60%|██████    | 6/10 [00:00<00:00,  6.24it/s]\u001b[A\u001b[A\n",
      "\n",
      "Convert Evaluating:  70%|███████   | 7/10 [00:01<00:00,  6.25it/s]\u001b[A\u001b[A\n",
      "\n",
      "Convert Evaluating:  80%|████████  | 8/10 [00:01<00:00,  6.25it/s]\u001b[A\u001b[A\n",
      "\n",
      "Convert Evaluating:  90%|█████████ | 9/10 [00:01<00:00,  6.26it/s]\u001b[A\u001b[A\n",
      "\n",
      "Convert Evaluating: 100%|██████████| 10/10 [00:01<00:00,  6.57it/s]\u001b[A\u001b[A\n",
      "Iteration:  96%|█████████▋| 77/80 [00:51<00:02,  1.44it/s]\u001b[A"
     ]
    },
    {
     "name": "stdout",
     "output_type": "stream",
     "text": [
      "Step 157/160: Objective val: 0.11336348425737802\n",
      "Step 157/160: Loss val: 0.22168727219104767\n"
     ]
    },
    {
     "name": "stderr",
     "output_type": "stream",
     "text": [
      "\n",
      "Iteration:  98%|█████████▊| 78/80 [00:51<00:01,  1.46it/s]\u001b[A"
     ]
    },
    {
     "name": "stdout",
     "output_type": "stream",
     "text": [
      "Step 158/160: Loss val: 0.18960468471050262\n"
     ]
    },
    {
     "name": "stderr",
     "output_type": "stream",
     "text": [
      "\n",
      "Iteration:  99%|█████████▉| 79/80 [00:52<00:00,  1.48it/s]\u001b[A\n",
      "Epoch: 100%|██████████| 2/2 [01:44<00:00, 52.08s/it]3it/s]\u001b[A\n",
      "Convert Evaluating:   0%|          | 0/10 [00:00<?, ?it/s]"
     ]
    },
    {
     "name": "stdout",
     "output_type": "stream",
     "text": [
      "Step 159/160: Loss val: 0.061908695846796036\n"
     ]
    },
    {
     "name": "stderr",
     "output_type": "stream",
     "text": [
      "Convert Evaluating: 100%|██████████| 10/10 [00:01<00:00,  6.61it/s]\n"
     ]
    },
    {
     "data": {
      "text/plain": [
       "0.10985780319451958"
      ]
     },
     "execution_count": 10,
     "metadata": {},
     "output_type": "execute_result"
    }
   ],
   "source": [
    "model.fit(train_objectives=[(train_loader, train_loss)],\n",
    "          evaluator=evaluator,\n",
    "          epochs=2,\n",
    "          evaluation_steps=11,\n",
    "          warmup_steps=10,\n",
    "          output_path=\"out\",\n",
    "          optimizer_params={'lr': 2e-5, 'eps': 1e-6, 'correct_bias': False})"
   ]
  },
  {
   "cell_type": "code",
   "execution_count": null,
   "metadata": {},
   "outputs": [],
   "source": []
  }
 ],
 "metadata": {
  "kernelspec": {
   "display_name": "Python 3",
   "language": "python",
   "name": "python3"
  },
  "language_info": {
   "codemirror_mode": {
    "name": "ipython",
    "version": 3
   },
   "file_extension": ".py",
   "mimetype": "text/x-python",
   "name": "python",
   "nbconvert_exporter": "python",
   "pygments_lexer": "ipython3",
   "version": "3.7.3"
  }
 },
 "nbformat": 4,
 "nbformat_minor": 4
}
